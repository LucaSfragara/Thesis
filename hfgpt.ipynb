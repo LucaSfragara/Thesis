{
 "cells": [
  {
   "cell_type": "code",
   "execution_count": 1,
   "id": "6ef96a3e",
   "metadata": {},
   "outputs": [
    {
     "name": "stderr",
     "output_type": "stream",
     "text": [
      "/root/miniconda/envs/env/lib/python3.8/site-packages/tqdm/auto.py:21: TqdmWarning: IProgress not found. Please update jupyter and ipywidgets. See https://ipywidgets.readthedocs.io/en/stable/user_install.html\n",
      "  from .autonotebook import tqdm as notebook_tqdm\n"
     ]
    },
    {
     "name": "stdout",
     "output_type": "stream",
     "text": [
      "Config loaded successfully.\n",
      "Using device: cuda\n"
     ]
    }
   ],
   "source": [
    "from data.datasets import CFGDataset, verify_dataloader\n",
    "from transformers import GPT2Config, GPT2LMHeadModel, Trainer, TrainingArguments\n",
    "from transformers import TrainerCallback, TrainerState, TrainerControl\n",
    "\n",
    "from transformers.trainer_utils import EvalPrediction\n",
    "import math\n",
    "from torch.utils.data import IterableDataset\n",
    "import torch\n",
    "import wandb\n",
    "import yaml\n",
    "with open(\"config.yaml\", \"r\") as f:\n",
    "    config = yaml.safe_load(f)\n",
    "print(f\"Config loaded successfully.\")\n",
    "import torch\n",
    "from torch.utils.data import DataLoader\n",
    "\n",
    "device = \"cuda\" if torch.cuda.is_available() else \"cpu\"\n",
    "print(f\"Using device: {device}\")\n"
   ]
  },
  {
   "cell_type": "code",
   "execution_count": 3,
   "id": "4f07f2a6",
   "metadata": {},
   "outputs": [],
   "source": [
    "\n",
    "class CFGDatasetForHF(IterableDataset):\n",
    "    \"\"\"\n",
    "    Thin wrapper around your existing CFGDataset so that each yield is\n",
    "    a dict accepted by HuggingFace Trainer.\n",
    "    \"\"\"\n",
    "    def __init__(self, cfg_dataset, num_batches = None):\n",
    "        self.cfg = cfg_dataset        # instance of your original class\n",
    "\n",
    "        if num_batches is not None:\n",
    "            self.num_batches = num_batches\n",
    "        \n",
    "    def __iter__(self):\n",
    "        i = 0\n",
    "        for x, _y in self.cfg:        # ignore the pre-shifted target\n",
    "            yield {\n",
    "                \"input_ids\":      x,                 # shape [B, L]\n",
    "                \"labels\":         x.clone(),         # same length; GPT-2 shifts\n",
    "                \"attention_mask\": torch.ones_like(x)\n",
    "            }\n",
    "            i += 1\n",
    "            if hasattr(self, \"num_batches\") and i >= self.num_batches:\n",
    "                break\n",
    "\n",
    "    def __len__(self):\n",
    "        return len(self.cfg)\n",
    "    \n",
    "    \n"
   ]
  },
  {
   "cell_type": "code",
   "execution_count": 4,
   "id": "56d27206",
   "metadata": {},
   "outputs": [],
   "source": [
    "train_dataset =  CFGDataset(\n",
    "    data_file=\"cfg_sentences_train_cfg3b.npy\", \n",
    "    batch_size = config[\"data\"][\"batch_size\"],\n",
    "    seq_len = config[\"data\"][\"seq_len\"],\n",
    "    eos_token = config[\"data\"][\"eos_token\"],\n",
    "    sos_token = config[\"data\"][\"sos_token\"],\n",
    "    ) \n",
    "\n",
    "val_dataset =  CFGDataset(\n",
    "    data_file=\"cfg_sentences_val_cfg3b.npy\", \n",
    "    \n",
    "    batch_size = config[\"data\"][\"batch_size\"],\n",
    "    seq_len = config[\"data\"][\"seq_len\"],\n",
    "    eos_token = config[\"data\"][\"eos_token\"],\n",
    "    sos_token = config[\"data\"][\"sos_token\"],\n",
    "    ) \n",
    "\n",
    "\n",
    "train_loader = DataLoader(train_dataset, \n",
    "                          batch_size = None, \n",
    "                          num_workers=config[\"data\"][\"NUM_WORKERS\"] if device == \"cuda\" else 0, \n",
    "                          pin_memory=True)\n",
    "\n",
    "val_loader = DataLoader(val_dataset, \n",
    "                        batch_size=None, \n",
    "                        num_workers=config[\"data\"][\"NUM_WORKERS\"] if device == \"cuda\" else 0,\n",
    "                        pin_memory=True)\n",
    "\n",
    "def collate_fn(batch):\n",
    "    # each item is already a [B, L] tensor → stack on 0\n",
    "    input_ids      = torch.cat([item[\"input_ids\"]      for item in batch], dim=0)\n",
    "    attention_mask = torch.cat([item[\"attention_mask\"] for item in batch], dim=0)\n",
    "    labels         = torch.cat([item[\"labels\"]         for item in batch], dim=0)\n",
    "    return {\"input_ids\": input_ids,\n",
    "            \"attention_mask\": attention_mask,\n",
    "            \"labels\": labels}\n",
    "    \n",
    "hf_cfg_train = CFGDatasetForHF(train_dataset)\n",
    "\n",
    "hf_cfg_val = CFGDatasetForHF(val_dataset, 10)"
   ]
  },
  {
   "cell_type": "code",
   "execution_count": 5,
   "id": "41c8f8b3",
   "metadata": {},
   "outputs": [
    {
     "data": {
      "text/plain": [
       "85453056"
      ]
     },
     "execution_count": 5,
     "metadata": {},
     "output_type": "execute_result"
    }
   ],
   "source": [
    "seq_len = config[\"data\"][\"seq_len\"]\n",
    "gpt_config = GPT2Config(\n",
    "    vocab_size      = 5,             # tokens 0–5\n",
    "    bos_token_id    = 0,\n",
    "    eos_token_id    = 4,\n",
    "    pad_token_id    = 5,             # you never pad, but set it anyway\n",
    "    n_positions     = seq_len,\n",
    ")\n",
    "model = GPT2LMHeadModel(gpt_config)\n",
    "model.num_parameters()  "
   ]
  },
  {
   "cell_type": "code",
   "execution_count": 6,
   "id": "c6c90f13",
   "metadata": {},
   "outputs": [],
   "source": [
    "def compute_metrics(eval_pred: EvalPrediction):\n",
    "    \"\"\"\n",
    "    Hugging Face will pass (logits, labels) by default.\n",
    "    We recompute the cross-entropy on the CPU and return both metrics.\n",
    "    \"\"\"\n",
    "    logits, labels = eval_pred.predictions, eval_pred.label_ids\n",
    "    logits  = torch.tensor(logits)\n",
    "    labels  = torch.tensor(labels)\n",
    "\n",
    "    # Shift so the model predicts token t+1 from t   (same rule GPT-2 uses)\n",
    "    shift_logits = logits[:, :-1, :].contiguous()\n",
    "    shift_labels = labels[:, 1:].contiguous()\n",
    "\n",
    "    loss_fct = torch.nn.CrossEntropyLoss(ignore_index=0)   # 0 = pad token id\n",
    "    loss = loss_fct(\n",
    "        shift_logits.view(-1, shift_logits.size(-1)),\n",
    "        shift_labels.view(-1)\n",
    "    )\n",
    "\n",
    "    ce  = loss.item()\n",
    "    ppl = math.exp(ce)\n",
    "    \n",
    "    wandb.log({\"val/ce_loss_token\": ce, \"val/perplexity_token\": ppl})\n",
    "    \n",
    "    return {\"val_cross_entropy\": ce, \"val_perplexity\": ppl}\n"
   ]
  },
  {
   "cell_type": "code",
   "execution_count": 7,
   "id": "01c98871",
   "metadata": {},
   "outputs": [],
   "source": [
    "class WandbEvalCallback(TrainerCallback):\n",
    "    def on_evaluate(self, args, state: TrainerState, control: TrainerControl, metrics=None, **kwargs):\n",
    "        # filter out the weird “_runtime” keys if you like\n",
    "        print(metrics.items())\n",
    "        to_log = {\n",
    "            \"val/ce_loss_token\": metrics[\"eval_val_cross_entropy\"] ,\n",
    "            \"val/perplexity_token\": metrics[\"eval_val_perplexity\"],\n",
    "            \"step\":    state.global_step,\n",
    "         }\n",
    "        wandb.log(to_log)\n",
    "\n",
    "class WandbTrainCallback(TrainerCallback):\n",
    "    def on_log(self, args, state: TrainerState, control: TrainerControl, logs=None, **kwargs):\n",
    "        # logs contains training metrics like 'loss', 'learning_rate', etc.\n",
    "        if logs is not None and logs.get(\"loss\") is not None:\n",
    "            # filter only training‐step metrics (drop eval metrics or epoch)\n",
    "           \n",
    "            train_logs = {\n",
    "                \"train/ce_loss_token\": logs[\"loss\"],\n",
    "                \"train/perplexity_token\": math.exp(logs[\"loss\"]),\n",
    "                \"learning_rate\": logs[\"learning_rate\"],  \n",
    "                \"step\":    state.global_step,\n",
    "            }\n",
    "            wandb.log(train_logs)\n"
   ]
  },
  {
   "cell_type": "code",
   "execution_count": null,
   "id": "0597a64c",
   "metadata": {},
   "outputs": [
    {
     "name": "stderr",
     "output_type": "stream",
     "text": [
      "\u001b[34m\u001b[1mwandb\u001b[0m: Currently logged in as: \u001b[33mlucasfragara\u001b[0m (\u001b[33mteamlsfr\u001b[0m) to \u001b[32mhttps://api.wandb.ai\u001b[0m. Use \u001b[1m`wandb login --relogin`\u001b[0m to force relogin\n"
     ]
    },
    {
     "data": {
      "text/html": [
       "Tracking run with wandb version 0.19.11"
      ],
      "text/plain": [
       "<IPython.core.display.HTML object>"
      ]
     },
     "metadata": {},
     "output_type": "display_data"
    },
    {
     "data": {
      "text/html": [
       "Run data is saved locally in <code>/workspace/Thesis/wandb/run-20250519_212452-8rfok8bz</code>"
      ],
      "text/plain": [
       "<IPython.core.display.HTML object>"
      ]
     },
     "metadata": {},
     "output_type": "display_data"
    },
    {
     "data": {
      "text/html": [
       "Syncing run <strong><a href='https://wandb.ai/teamlsfr/Thesis/runs/8rfok8bz' target=\"_blank\">huggingface_gpt</a></strong> to <a href='https://wandb.ai/teamlsfr/Thesis' target=\"_blank\">Weights & Biases</a> (<a href='https://wandb.me/developer-guide' target=\"_blank\">docs</a>)<br>"
      ],
      "text/plain": [
       "<IPython.core.display.HTML object>"
      ]
     },
     "metadata": {},
     "output_type": "display_data"
    },
    {
     "data": {
      "text/html": [
       " View project at <a href='https://wandb.ai/teamlsfr/Thesis' target=\"_blank\">https://wandb.ai/teamlsfr/Thesis</a>"
      ],
      "text/plain": [
       "<IPython.core.display.HTML object>"
      ]
     },
     "metadata": {},
     "output_type": "display_data"
    },
    {
     "data": {
      "text/html": [
       " View run at <a href='https://wandb.ai/teamlsfr/Thesis/runs/8rfok8bz' target=\"_blank\">https://wandb.ai/teamlsfr/Thesis/runs/8rfok8bz</a>"
      ],
      "text/plain": [
       "<IPython.core.display.HTML object>"
      ]
     },
     "metadata": {},
     "output_type": "display_data"
    }
   ],
   "source": [
    "#wandb.finish()\n",
    "wandb.init(project=\"Thesis\", name = \"huggingface_gpt\", config=config)\n",
    "\n",
    "for m in [\n",
    "    \"train/ce_loss_token\",\n",
    "    \"train/perplexity_token\",\n",
    "    \"learning_rate\",\n",
    "    \"val/ce_loss_token\",\n",
    "    \"val/perplexity_token\",\n",
    "]:\n",
    "    wandb.define_metric(m, step_metric=\"step\")\n",
    "    \n",
    "\n",
    "args = TrainingArguments(\n",
    "    output_dir=\"gpt2_cfg\",\n",
    "    num_train_epochs=1,\n",
    "    per_device_train_batch_size=1,   # 1 “item” from DataLoader == your mini-batch\n",
    "    gradient_accumulation_steps=1,\n",
    "    learning_rate=3e-4,\n",
    "    logging_steps=100,\n",
    "    logging_strategy=\"steps\",\n",
    "    save_steps=50,\n",
    "    eval_steps=100,\n",
    "    save_total_limit=2,\n",
    "    run_name=\"huggingface_gpt\",\n",
    "    eval_strategy=\"steps\",\n",
    "    report_to=[\"wandb\"],\n",
    "    fp16=True,\n",
    "    dataloader_num_workers=config[\"data\"][\"NUM_WORKERS\"]\n",
    ")\n",
    "\n",
    "trainer = Trainer(\n",
    "    model=model,\n",
    "    args=args,\n",
    "    train_dataset=hf_cfg_train,      # *Trainer* ignores our DataLoader’s batching,\n",
    "    eval_dataset=hf_cfg_val,        # so we pass the dataset\n",
    "    data_collator=collate_fn, # so keep the same collate\n",
    "    compute_metrics = compute_metrics, # and the same metric\n",
    "    callbacks=[WandbTrainCallback, WandbEvalCallback]\n",
    ")"
   ]
  },
  {
   "cell_type": "code",
   "execution_count": 9,
   "id": "2a703ec9",
   "metadata": {},
   "outputs": [
    {
     "name": "stderr",
     "output_type": "stream",
     "text": [
      "There were missing keys in the checkpoint model loaded: ['lm_head.weight'].\n"
     ]
    },
    {
     "data": {
      "text/html": [
       "\n",
       "    <div>\n",
       "      \n",
       "      <progress value='25801' max='44736' style='width:300px; height:20px; vertical-align: middle;'></progress>\n",
       "      [25801/44736 22:11 < 1:22:23, 3.83 it/s, Epoch 0.58/1]\n",
       "    </div>\n",
       "    <table border=\"1\" class=\"dataframe\">\n",
       "  <thead>\n",
       " <tr style=\"text-align: left;\">\n",
       "      <th>Step</th>\n",
       "      <th>Training Loss</th>\n",
       "      <th>Validation Loss</th>\n",
       "      <th>Val Cross Entropy</th>\n",
       "      <th>Val Perplexity</th>\n",
       "    </tr>\n",
       "  </thead>\n",
       "  <tbody>\n",
       "    <tr>\n",
       "      <td>21000</td>\n",
       "      <td>0.436400</td>\n",
       "      <td>0.436597</td>\n",
       "      <td>0.438132</td>\n",
       "      <td>1.549810</td>\n",
       "    </tr>\n",
       "    <tr>\n",
       "      <td>21500</td>\n",
       "      <td>0.436400</td>\n",
       "      <td>0.436697</td>\n",
       "      <td>0.438194</td>\n",
       "      <td>1.549905</td>\n",
       "    </tr>\n",
       "    <tr>\n",
       "      <td>22000</td>\n",
       "      <td>0.436300</td>\n",
       "      <td>0.436497</td>\n",
       "      <td>0.438025</td>\n",
       "      <td>1.549644</td>\n",
       "    </tr>\n",
       "    <tr>\n",
       "      <td>22500</td>\n",
       "      <td>0.436400</td>\n",
       "      <td>0.436431</td>\n",
       "      <td>0.437952</td>\n",
       "      <td>1.549530</td>\n",
       "    </tr>\n",
       "    <tr>\n",
       "      <td>23000</td>\n",
       "      <td>0.436200</td>\n",
       "      <td>0.436475</td>\n",
       "      <td>0.438052</td>\n",
       "      <td>1.549686</td>\n",
       "    </tr>\n",
       "    <tr>\n",
       "      <td>23500</td>\n",
       "      <td>0.436200</td>\n",
       "      <td>0.436444</td>\n",
       "      <td>0.437965</td>\n",
       "      <td>1.549551</td>\n",
       "    </tr>\n",
       "    <tr>\n",
       "      <td>24000</td>\n",
       "      <td>0.436400</td>\n",
       "      <td>0.436511</td>\n",
       "      <td>0.438032</td>\n",
       "      <td>1.549654</td>\n",
       "    </tr>\n",
       "    <tr>\n",
       "      <td>24500</td>\n",
       "      <td>0.436300</td>\n",
       "      <td>0.436451</td>\n",
       "      <td>0.437993</td>\n",
       "      <td>1.549595</td>\n",
       "    </tr>\n",
       "    <tr>\n",
       "      <td>25000</td>\n",
       "      <td>0.436300</td>\n",
       "      <td>0.436547</td>\n",
       "      <td>0.438025</td>\n",
       "      <td>1.549644</td>\n",
       "    </tr>\n",
       "    <tr>\n",
       "      <td>25500</td>\n",
       "      <td>0.436200</td>\n",
       "      <td>0.436447</td>\n",
       "      <td>0.437966</td>\n",
       "      <td>1.549552</td>\n",
       "    </tr>\n",
       "  </tbody>\n",
       "</table><p>"
      ],
      "text/plain": [
       "<IPython.core.display.HTML object>"
      ]
     },
     "metadata": {},
     "output_type": "display_data"
    },
    {
     "name": "stdout",
     "output_type": "stream",
     "text": [
      "dict_items([('eval_loss', 0.43659746646881104), ('eval_val_cross_entropy', 0.4381323456764221), ('eval_val_perplexity', 1.5498100045007248), ('eval_runtime', 1.4758), ('eval_samples_per_second', 305.605), ('eval_steps_per_second', 38.624), ('epoch', 0.4694206008583691)])\n",
      "dict_items([('eval_loss', 0.4366971552371979), ('eval_val_cross_entropy', 0.43819355964660645), ('eval_val_perplexity', 1.5499048774278765), ('eval_runtime', 1.4398), ('eval_samples_per_second', 313.23), ('eval_steps_per_second', 39.588), ('epoch', 0.4805972818311874)])\n",
      "dict_items([('eval_loss', 0.43649721145629883), ('eval_val_cross_entropy', 0.4380249083042145), ('eval_val_perplexity', 1.5496435059306648), ('eval_runtime', 1.437), ('eval_samples_per_second', 313.857), ('eval_steps_per_second', 39.667), ('epoch', 0.4917739628040057)])\n",
      "dict_items([('eval_loss', 0.4364311099052429), ('eval_val_cross_entropy', 0.43795159459114075), ('eval_val_perplexity', 1.5495298999757925), ('eval_runtime', 1.4139), ('eval_samples_per_second', 318.972), ('eval_steps_per_second', 40.314), ('epoch', 0.5029506437768241)])\n",
      "dict_items([('eval_loss', 0.4364750385284424), ('eval_val_cross_entropy', 0.43805238604545593), ('eval_val_perplexity', 1.5496860872189535), ('eval_runtime', 1.4071), ('eval_samples_per_second', 320.506), ('eval_steps_per_second', 40.507), ('epoch', 0.5141273247496424)])\n",
      "dict_items([('eval_loss', 0.43644365668296814), ('eval_val_cross_entropy', 0.4379650056362152), ('eval_val_perplexity', 1.5495506809304722), ('eval_runtime', 1.4251), ('eval_samples_per_second', 316.462), ('eval_steps_per_second', 39.996), ('epoch', 0.5253040057224606)])\n",
      "dict_items([('eval_loss', 0.4365108013153076), ('eval_val_cross_entropy', 0.4380318224430084), ('eval_val_perplexity', 1.5496542204179866), ('eval_runtime', 1.4054), ('eval_samples_per_second', 320.903), ('eval_steps_per_second', 40.558), ('epoch', 0.5364806866952789)])\n",
      "dict_items([('eval_loss', 0.4364512860774994), ('eval_val_cross_entropy', 0.4379934072494507), ('eval_val_perplexity', 1.5495946912945804), ('eval_runtime', 1.4132), ('eval_samples_per_second', 319.142), ('eval_steps_per_second', 40.335), ('epoch', 0.5476573676680973)])\n",
      "dict_items([('eval_loss', 0.43654683232307434), ('eval_val_cross_entropy', 0.4380249083042145), ('eval_val_perplexity', 1.5496435059306648), ('eval_runtime', 1.4175), ('eval_samples_per_second', 318.164), ('eval_steps_per_second', 40.211), ('epoch', 0.5588340486409156)])\n",
      "dict_items([('eval_loss', 0.4364471137523651), ('eval_val_cross_entropy', 0.43796592950820923), ('eval_val_perplexity', 1.5495521125176108), ('eval_runtime', 1.8275), ('eval_samples_per_second', 246.79), ('eval_steps_per_second', 31.191), ('epoch', 0.5700107296137339)])\n"
     ]
    },
    {
     "ename": "KeyboardInterrupt",
     "evalue": "",
     "output_type": "error",
     "traceback": [
      "\u001b[0;31m---------------------------------------------------------------------------\u001b[0m",
      "\u001b[0;31mKeyboardInterrupt\u001b[0m                         Traceback (most recent call last)",
      "Cell \u001b[0;32mIn[9], line 1\u001b[0m\n\u001b[0;32m----> 1\u001b[0m \u001b[43mtrainer\u001b[49m\u001b[38;5;241;43m.\u001b[39;49m\u001b[43mtrain\u001b[49m\u001b[43m(\u001b[49m\u001b[43mresume_from_checkpoint\u001b[49m\u001b[38;5;241;43m=\u001b[39;49m\u001b[38;5;124;43m\"\u001b[39;49m\u001b[38;5;124;43mgpt2_cfg/checkpoint-20700\u001b[39;49m\u001b[38;5;124;43m\"\u001b[39;49m\u001b[43m)\u001b[49m\n",
      "File \u001b[0;32m~/miniconda/envs/env/lib/python3.8/site-packages/transformers/trainer.py:2123\u001b[0m, in \u001b[0;36mTrainer.train\u001b[0;34m(self, resume_from_checkpoint, trial, ignore_keys_for_eval, **kwargs)\u001b[0m\n\u001b[1;32m   2121\u001b[0m         hf_hub_utils\u001b[38;5;241m.\u001b[39menable_progress_bars()\n\u001b[1;32m   2122\u001b[0m \u001b[38;5;28;01melse\u001b[39;00m:\n\u001b[0;32m-> 2123\u001b[0m     \u001b[38;5;28;01mreturn\u001b[39;00m \u001b[43minner_training_loop\u001b[49m\u001b[43m(\u001b[49m\n\u001b[1;32m   2124\u001b[0m \u001b[43m        \u001b[49m\u001b[43margs\u001b[49m\u001b[38;5;241;43m=\u001b[39;49m\u001b[43margs\u001b[49m\u001b[43m,\u001b[49m\n\u001b[1;32m   2125\u001b[0m \u001b[43m        \u001b[49m\u001b[43mresume_from_checkpoint\u001b[49m\u001b[38;5;241;43m=\u001b[39;49m\u001b[43mresume_from_checkpoint\u001b[49m\u001b[43m,\u001b[49m\n\u001b[1;32m   2126\u001b[0m \u001b[43m        \u001b[49m\u001b[43mtrial\u001b[49m\u001b[38;5;241;43m=\u001b[39;49m\u001b[43mtrial\u001b[49m\u001b[43m,\u001b[49m\n\u001b[1;32m   2127\u001b[0m \u001b[43m        \u001b[49m\u001b[43mignore_keys_for_eval\u001b[49m\u001b[38;5;241;43m=\u001b[39;49m\u001b[43mignore_keys_for_eval\u001b[49m\u001b[43m,\u001b[49m\n\u001b[1;32m   2128\u001b[0m \u001b[43m    \u001b[49m\u001b[43m)\u001b[49m\n",
      "File \u001b[0;32m~/miniconda/envs/env/lib/python3.8/site-packages/transformers/trainer.py:2548\u001b[0m, in \u001b[0;36mTrainer._inner_training_loop\u001b[0;34m(self, batch_size, args, resume_from_checkpoint, trial, ignore_keys_for_eval)\u001b[0m\n\u001b[1;32m   2546\u001b[0m     \u001b[38;5;28mself\u001b[39m\u001b[38;5;241m.\u001b[39mstate\u001b[38;5;241m.\u001b[39mepoch \u001b[38;5;241m=\u001b[39m epoch \u001b[38;5;241m+\u001b[39m (step \u001b[38;5;241m+\u001b[39m \u001b[38;5;241m1\u001b[39m \u001b[38;5;241m+\u001b[39m steps_skipped) \u001b[38;5;241m/\u001b[39m steps_in_epoch\n\u001b[1;32m   2547\u001b[0m     \u001b[38;5;28mself\u001b[39m\u001b[38;5;241m.\u001b[39mcontrol \u001b[38;5;241m=\u001b[39m \u001b[38;5;28mself\u001b[39m\u001b[38;5;241m.\u001b[39mcallback_handler\u001b[38;5;241m.\u001b[39mon_step_end(args, \u001b[38;5;28mself\u001b[39m\u001b[38;5;241m.\u001b[39mstate, \u001b[38;5;28mself\u001b[39m\u001b[38;5;241m.\u001b[39mcontrol)\n\u001b[0;32m-> 2548\u001b[0m     \u001b[38;5;28;43mself\u001b[39;49m\u001b[38;5;241;43m.\u001b[39;49m\u001b[43m_maybe_log_save_evaluate\u001b[49m\u001b[43m(\u001b[49m\u001b[43mtr_loss\u001b[49m\u001b[43m,\u001b[49m\u001b[43m \u001b[49m\u001b[43mgrad_norm\u001b[49m\u001b[43m,\u001b[49m\u001b[43m \u001b[49m\u001b[43mmodel\u001b[49m\u001b[43m,\u001b[49m\u001b[43m \u001b[49m\u001b[43mtrial\u001b[49m\u001b[43m,\u001b[49m\u001b[43m \u001b[49m\u001b[43mepoch\u001b[49m\u001b[43m,\u001b[49m\u001b[43m \u001b[49m\u001b[43mignore_keys_for_eval\u001b[49m\u001b[43m)\u001b[49m\n\u001b[1;32m   2549\u001b[0m \u001b[38;5;28;01melse\u001b[39;00m:\n\u001b[1;32m   2550\u001b[0m     \u001b[38;5;28mself\u001b[39m\u001b[38;5;241m.\u001b[39mcontrol \u001b[38;5;241m=\u001b[39m \u001b[38;5;28mself\u001b[39m\u001b[38;5;241m.\u001b[39mcallback_handler\u001b[38;5;241m.\u001b[39mon_substep_end(args, \u001b[38;5;28mself\u001b[39m\u001b[38;5;241m.\u001b[39mstate, \u001b[38;5;28mself\u001b[39m\u001b[38;5;241m.\u001b[39mcontrol)\n",
      "File \u001b[0;32m~/miniconda/envs/env/lib/python3.8/site-packages/transformers/trainer.py:3007\u001b[0m, in \u001b[0;36mTrainer._maybe_log_save_evaluate\u001b[0;34m(self, tr_loss, grad_norm, model, trial, epoch, ignore_keys_for_eval)\u001b[0m\n\u001b[1;32m   3004\u001b[0m     metrics \u001b[38;5;241m=\u001b[39m \u001b[38;5;28mself\u001b[39m\u001b[38;5;241m.\u001b[39m_evaluate(trial, ignore_keys_for_eval)\n\u001b[1;32m   3006\u001b[0m \u001b[38;5;28;01mif\u001b[39;00m \u001b[38;5;28mself\u001b[39m\u001b[38;5;241m.\u001b[39mcontrol\u001b[38;5;241m.\u001b[39mshould_save:\n\u001b[0;32m-> 3007\u001b[0m     \u001b[38;5;28;43mself\u001b[39;49m\u001b[38;5;241;43m.\u001b[39;49m\u001b[43m_save_checkpoint\u001b[49m\u001b[43m(\u001b[49m\u001b[43mmodel\u001b[49m\u001b[43m,\u001b[49m\u001b[43m \u001b[49m\u001b[43mtrial\u001b[49m\u001b[43m,\u001b[49m\u001b[43m \u001b[49m\u001b[43mmetrics\u001b[49m\u001b[38;5;241;43m=\u001b[39;49m\u001b[43mmetrics\u001b[49m\u001b[43m)\u001b[49m\n\u001b[1;32m   3008\u001b[0m     \u001b[38;5;28mself\u001b[39m\u001b[38;5;241m.\u001b[39mcontrol \u001b[38;5;241m=\u001b[39m \u001b[38;5;28mself\u001b[39m\u001b[38;5;241m.\u001b[39mcallback_handler\u001b[38;5;241m.\u001b[39mon_save(\u001b[38;5;28mself\u001b[39m\u001b[38;5;241m.\u001b[39margs, \u001b[38;5;28mself\u001b[39m\u001b[38;5;241m.\u001b[39mstate, \u001b[38;5;28mself\u001b[39m\u001b[38;5;241m.\u001b[39mcontrol)\n",
      "File \u001b[0;32m~/miniconda/envs/env/lib/python3.8/site-packages/transformers/trainer.py:3101\u001b[0m, in \u001b[0;36mTrainer._save_checkpoint\u001b[0;34m(self, model, trial, metrics)\u001b[0m\n\u001b[1;32m   3097\u001b[0m \u001b[38;5;28mself\u001b[39m\u001b[38;5;241m.\u001b[39msave_model(output_dir, _internal_call\u001b[38;5;241m=\u001b[39m\u001b[38;5;28;01mTrue\u001b[39;00m)\n\u001b[1;32m   3099\u001b[0m \u001b[38;5;28;01mif\u001b[39;00m \u001b[38;5;129;01mnot\u001b[39;00m \u001b[38;5;28mself\u001b[39m\u001b[38;5;241m.\u001b[39margs\u001b[38;5;241m.\u001b[39msave_only_model:\n\u001b[1;32m   3100\u001b[0m     \u001b[38;5;66;03m# Save optimizer and scheduler\u001b[39;00m\n\u001b[0;32m-> 3101\u001b[0m     \u001b[38;5;28;43mself\u001b[39;49m\u001b[38;5;241;43m.\u001b[39;49m\u001b[43m_save_optimizer_and_scheduler\u001b[49m\u001b[43m(\u001b[49m\u001b[43moutput_dir\u001b[49m\u001b[43m)\u001b[49m\n\u001b[1;32m   3102\u001b[0m     \u001b[38;5;66;03m# Save RNG state\u001b[39;00m\n\u001b[1;32m   3103\u001b[0m     \u001b[38;5;28mself\u001b[39m\u001b[38;5;241m.\u001b[39m_save_rng_state(output_dir)\n",
      "File \u001b[0;32m~/miniconda/envs/env/lib/python3.8/site-packages/transformers/trainer.py:3247\u001b[0m, in \u001b[0;36mTrainer._save_optimizer_and_scheduler\u001b[0;34m(self, output_dir)\u001b[0m\n\u001b[1;32m   3242\u001b[0m     save_fsdp_optimizer(\n\u001b[1;32m   3243\u001b[0m         \u001b[38;5;28mself\u001b[39m\u001b[38;5;241m.\u001b[39maccelerator\u001b[38;5;241m.\u001b[39mstate\u001b[38;5;241m.\u001b[39mfsdp_plugin, \u001b[38;5;28mself\u001b[39m\u001b[38;5;241m.\u001b[39maccelerator, \u001b[38;5;28mself\u001b[39m\u001b[38;5;241m.\u001b[39moptimizer, \u001b[38;5;28mself\u001b[39m\u001b[38;5;241m.\u001b[39mmodel, output_dir\n\u001b[1;32m   3244\u001b[0m     )\n\u001b[1;32m   3245\u001b[0m \u001b[38;5;28;01melif\u001b[39;00m \u001b[38;5;28mself\u001b[39m\u001b[38;5;241m.\u001b[39margs\u001b[38;5;241m.\u001b[39mshould_save:\n\u001b[1;32m   3246\u001b[0m     \u001b[38;5;66;03m# deepspeed.save_checkpoint above saves model/optim/sched\u001b[39;00m\n\u001b[0;32m-> 3247\u001b[0m     \u001b[43mtorch\u001b[49m\u001b[38;5;241;43m.\u001b[39;49m\u001b[43msave\u001b[49m\u001b[43m(\u001b[49m\u001b[38;5;28;43mself\u001b[39;49m\u001b[38;5;241;43m.\u001b[39;49m\u001b[43moptimizer\u001b[49m\u001b[38;5;241;43m.\u001b[39;49m\u001b[43mstate_dict\u001b[49m\u001b[43m(\u001b[49m\u001b[43m)\u001b[49m\u001b[43m,\u001b[49m\u001b[43m \u001b[49m\u001b[43mos\u001b[49m\u001b[38;5;241;43m.\u001b[39;49m\u001b[43mpath\u001b[49m\u001b[38;5;241;43m.\u001b[39;49m\u001b[43mjoin\u001b[49m\u001b[43m(\u001b[49m\u001b[43moutput_dir\u001b[49m\u001b[43m,\u001b[49m\u001b[43m \u001b[49m\u001b[43mOPTIMIZER_NAME\u001b[49m\u001b[43m)\u001b[49m\u001b[43m)\u001b[49m\n\u001b[1;32m   3249\u001b[0m \u001b[38;5;66;03m# Save SCHEDULER & SCALER\u001b[39;00m\n\u001b[1;32m   3250\u001b[0m is_deepspeed_custom_scheduler \u001b[38;5;241m=\u001b[39m \u001b[38;5;28mself\u001b[39m\u001b[38;5;241m.\u001b[39mis_deepspeed_enabled \u001b[38;5;129;01mand\u001b[39;00m \u001b[38;5;129;01mnot\u001b[39;00m \u001b[38;5;28misinstance\u001b[39m(\n\u001b[1;32m   3251\u001b[0m     \u001b[38;5;28mself\u001b[39m\u001b[38;5;241m.\u001b[39mlr_scheduler, DeepSpeedSchedulerWrapper\n\u001b[1;32m   3252\u001b[0m )\n",
      "File \u001b[0;32m~/miniconda/envs/env/lib/python3.8/site-packages/torch/serialization.py:629\u001b[0m, in \u001b[0;36msave\u001b[0;34m(obj, f, pickle_module, pickle_protocol, _use_new_zipfile_serialization, _disable_byteorder_record)\u001b[0m\n\u001b[1;32m    627\u001b[0m \u001b[38;5;28;01mif\u001b[39;00m _use_new_zipfile_serialization:\n\u001b[1;32m    628\u001b[0m     \u001b[38;5;28;01mwith\u001b[39;00m _open_zipfile_writer(f) \u001b[38;5;28;01mas\u001b[39;00m opened_zipfile:\n\u001b[0;32m--> 629\u001b[0m         \u001b[43m_save\u001b[49m\u001b[43m(\u001b[49m\u001b[43mobj\u001b[49m\u001b[43m,\u001b[49m\u001b[43m \u001b[49m\u001b[43mopened_zipfile\u001b[49m\u001b[43m,\u001b[49m\u001b[43m \u001b[49m\u001b[43mpickle_module\u001b[49m\u001b[43m,\u001b[49m\u001b[43m \u001b[49m\u001b[43mpickle_protocol\u001b[49m\u001b[43m,\u001b[49m\u001b[43m \u001b[49m\u001b[43m_disable_byteorder_record\u001b[49m\u001b[43m)\u001b[49m\n\u001b[1;32m    630\u001b[0m         \u001b[38;5;28;01mreturn\u001b[39;00m\n\u001b[1;32m    631\u001b[0m \u001b[38;5;28;01melse\u001b[39;00m:\n",
      "File \u001b[0;32m~/miniconda/envs/env/lib/python3.8/site-packages/torch/serialization.py:863\u001b[0m, in \u001b[0;36m_save\u001b[0;34m(obj, zip_file, pickle_module, pickle_protocol, _disable_byteorder_record)\u001b[0m\n\u001b[1;32m    861\u001b[0m \u001b[38;5;66;03m# Now that it is on the CPU we can directly copy it into the zip file\u001b[39;00m\n\u001b[1;32m    862\u001b[0m num_bytes \u001b[38;5;241m=\u001b[39m storage\u001b[38;5;241m.\u001b[39mnbytes()\n\u001b[0;32m--> 863\u001b[0m \u001b[43mzip_file\u001b[49m\u001b[38;5;241;43m.\u001b[39;49m\u001b[43mwrite_record\u001b[49m\u001b[43m(\u001b[49m\u001b[43mname\u001b[49m\u001b[43m,\u001b[49m\u001b[43m \u001b[49m\u001b[43mstorage\u001b[49m\u001b[38;5;241;43m.\u001b[39;49m\u001b[43mdata_ptr\u001b[49m\u001b[43m(\u001b[49m\u001b[43m)\u001b[49m\u001b[43m,\u001b[49m\u001b[43m \u001b[49m\u001b[43mnum_bytes\u001b[49m\u001b[43m)\u001b[49m\n",
      "\u001b[0;31mKeyboardInterrupt\u001b[0m: "
     ]
    }
   ],
   "source": [
    "trainer.train(resume_from_checkpoint=\"gpt2_cfg/checkpoint-20700\")"
   ]
  }
 ],
 "metadata": {
  "kernelspec": {
   "display_name": "env",
   "language": "python",
   "name": "python3"
  },
  "language_info": {
   "codemirror_mode": {
    "name": "ipython",
    "version": 3
   },
   "file_extension": ".py",
   "mimetype": "text/x-python",
   "name": "python",
   "nbconvert_exporter": "python",
   "pygments_lexer": "ipython3",
   "version": "3.8.2"
  }
 },
 "nbformat": 4,
 "nbformat_minor": 5
}
