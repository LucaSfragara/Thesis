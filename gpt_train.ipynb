{
 "cells": [
  {
   "cell_type": "code",
   "execution_count": 1,
   "id": "1420f1ea",
   "metadata": {},
   "outputs": [
    {
     "name": "stdout",
     "output_type": "stream",
     "text": [
      "Using device: cuda\n",
      "Config loaded successfully.\n"
     ]
    },
    {
     "data": {
      "text/plain": [
       "0"
      ]
     },
     "execution_count": 1,
     "metadata": {},
     "output_type": "execute_result"
    }
   ],
   "source": [
    "from models.transformers import DecoderOnlyTransformer\n",
    "import torch\n",
    "from torch.utils.data import DataLoader\n",
    "import yaml\n",
    "import gc\n",
    "import torch\n",
    "from torchinfo import summary\n",
    "import os\n",
    "import json\n",
    "import shutil\n",
    "import wandb\n",
    "import yaml\n",
    "from data.datasets import CFGDataset, verify_dataloader\n",
    "from trainers.GPT_trainer import GPT_Trainer\n",
    "from trainers.utils import create_optimizer, create_scheduler\n",
    "import numpy as np\n",
    "\n",
    "device = \"cuda\" if torch.cuda.is_available() else \"cpu\"\n",
    "print(f\"Using device: {device}\")\n",
    "\n",
    "#Read config yaml file\n",
    "with open(\"config.yaml\", \"r\") as f:\n",
    "    config = yaml.safe_load(f)\n",
    "print(f\"Config loaded successfully.\")\n",
    "\n",
    "\n",
    "import os\n",
    "os.system(\"export WANDB_DIR=\\tmp\")\n",
    "#os.environ[\"CUDA_LAUNCH_BLOCKING\"] = \"1\"\n"
   ]
  },
  {
   "cell_type": "markdown",
   "id": "0f46d0e9",
   "metadata": {},
   "source": [
    "#### Loading Data"
   ]
  },
  {
   "cell_type": "code",
   "execution_count": 2,
   "id": "1b809426",
   "metadata": {},
   "outputs": [
    {
     "name": "stdout",
     "output_type": "stream",
     "text": [
      "Verifying dataloader...\n",
      "Number of batches:  62438\n",
      "Total number of tokens:  2.605392e+09\n",
      "Example batch shapes (shifted, golden):  torch.Size([128, 325]) torch.Size([128, 325])\n",
      "__________________________________________________\n",
      "Verifying dataloader...\n",
      "Number of batches:  63\n",
      "Total number of tokens:  2.608000e+06\n",
      "Example batch shapes (shifted, golden):  torch.Size([128, 325]) torch.Size([128, 325])\n"
     ]
    }
   ],
   "source": [
    "train_dataset =  CFGDataset(\n",
    "    data_file=\"cfg_sentences_train_cfg3b_samelen.npy\", \n",
    "    seq_len = config[\"data\"][\"seq_len\"],\n",
    "    eos_token = config[\"data\"][\"eos_token\"],\n",
    "    sos_token = config[\"data\"][\"sos_token\"],\n",
    "    ) \n",
    "\n",
    "val_dataset =  CFGDataset(\n",
    "    data_file=\"cfg_sentences_val_cfg3b_samelen.npy\", \n",
    "    seq_len = config[\"data\"][\"seq_len\"],\n",
    "    eos_token = config[\"data\"][\"eos_token\"],\n",
    "    sos_token = config[\"data\"][\"sos_token\"],\n",
    "    ) \n",
    "\n",
    "\n",
    "train_loader = DataLoader(train_dataset, \n",
    "                          batch_size = config[\"data\"][\"batch_size\"], \n",
    "                          num_workers=config[\"data\"][\"NUM_WORKERS\"] if device == \"cuda\" else 0, \n",
    "                          pin_memory=True)\n",
    "\n",
    "val_loader = DataLoader(val_dataset, \n",
    "                        batch_size=config[\"data\"][\"batch_size\"], \n",
    "                        num_workers=config[\"data\"][\"NUM_WORKERS\"] if device == \"cuda\" else 0,\n",
    "                        pin_memory=True)\n",
    "\n",
    "verify_dataloader(train_loader)\n",
    "print(\"_\"*50)\n",
    "verify_dataloader(val_loader)\n",
    "#print(\"=\"*50)\n",
    "#print(\"Verify Validation DataLoader\")\n",
    "#verify_dataloader(val_loader)"
   ]
  },
  {
   "cell_type": "code",
   "execution_count": 3,
   "id": "ff351c1b",
   "metadata": {},
   "outputs": [
    {
     "name": "stdout",
     "output_type": "stream",
     "text": [
      "Shape of shifted_transcripts :  torch.Size([128, 325])\n",
      "Shape of golden_transcripts  :  torch.Size([128, 325])\n",
      "Total parameters in the model: 35,448,581\n"
     ]
    }
   ],
   "source": [
    "model_config = {}\n",
    "model_config = config['model'].copy()\n",
    "\n",
    "model_config.update({\n",
    "    'num_classes': config[\"data\"][\"vocab_size\"] +2 ,#include SOS and EOS tolen\n",
    "    'seq_len': config[\"data\"][\"seq_len\"],\n",
    "    })\n",
    "\n",
    "model = DecoderOnlyTransformer(**model_config)\n",
    "\n",
    "for batch in train_loader:\n",
    "    shifted_transcripts, golden_transcripts = batch\n",
    "    print(\"Shape of shifted_transcripts : \", shifted_transcripts.shape)\n",
    "    print(\"Shape of golden_transcripts  : \", golden_transcripts.shape)\n",
    "    break\n",
    "#model.to(device)\n",
    "#shifted_transcripts = shifted_transcripts.to(device)\n",
    "#model_stats = summary(model, input_data=[shifted_transcripts])\n",
    "#print(model_stats)\n",
    "print(f\"Total parameters in the model: {sum(p.numel() for p in model.parameters()):,}\")\n",
    "#torch._dynamo.config.skip_nnmodule_hook_guards = False\n",
    "#model = torch.compile(model, mode=\"default\", fullgraph=True)\n"
   ]
  },
  {
   "cell_type": "code",
   "execution_count": 4,
   "id": "50faa61a",
   "metadata": {},
   "outputs": [
    {
     "name": "stdout",
     "output_type": "stream",
     "text": [
      "Using device: cuda\n"
     ]
    },
    {
     "name": "stderr",
     "output_type": "stream",
     "text": [
      "\u001b[34m\u001b[1mwandb\u001b[0m: Using wandb-core as the SDK backend.  Please refer to https://wandb.me/wandb-core for more information.\n",
      "\u001b[34m\u001b[1mwandb\u001b[0m: Currently logged in as: \u001b[33mlucasfragara\u001b[0m (\u001b[33mteamlsfr\u001b[0m). Use \u001b[1m`wandb login --relogin`\u001b[0m to force relogin\n"
     ]
    },
    {
     "data": {
      "text/html": [
       "Tracking run with wandb version 0.19.0"
      ],
      "text/plain": [
       "<IPython.core.display.HTML object>"
      ]
     },
     "metadata": {},
     "output_type": "display_data"
    },
    {
     "data": {
      "text/html": [
       "Run data is saved locally in <code>/workspace/workspace/Thesis/wandb/run-20250525_172549-bhj8754i</code>"
      ],
      "text/plain": [
       "<IPython.core.display.HTML object>"
      ]
     },
     "metadata": {},
     "output_type": "display_data"
    },
    {
     "data": {
      "text/html": [
       "Syncing run <strong><a href='https://wandb.ai/teamlsfr/Thesis/runs/bhj8754i' target=\"_blank\">rope_86_0samelen5layers</a></strong> to <a href='https://wandb.ai/teamlsfr/Thesis' target=\"_blank\">Weights & Biases</a> (<a href='https://wandb.me/developer-guide' target=\"_blank\">docs</a>)<br/>"
      ],
      "text/plain": [
       "<IPython.core.display.HTML object>"
      ]
     },
     "metadata": {},
     "output_type": "display_data"
    },
    {
     "data": {
      "text/html": [
       " View project at <a href='https://wandb.ai/teamlsfr/Thesis' target=\"_blank\">https://wandb.ai/teamlsfr/Thesis</a>"
      ],
      "text/plain": [
       "<IPython.core.display.HTML object>"
      ]
     },
     "metadata": {},
     "output_type": "display_data"
    },
    {
     "data": {
      "text/html": [
       " View run at <a href='https://wandb.ai/teamlsfr/Thesis/runs/bhj8754i' target=\"_blank\">https://wandb.ai/teamlsfr/Thesis/runs/bhj8754i</a>"
      ],
      "text/plain": [
       "<IPython.core.display.HTML object>"
      ]
     },
     "metadata": {},
     "output_type": "display_data"
    },
    {
     "name": "stdout",
     "output_type": "stream",
     "text": [
      "\n",
      "🔧 Configuring Optimizer:\n",
      "├── Type: ADAMW\n",
      "├── Base LR: 0.0004\n",
      "├── Weight Decay: 0.01\n",
      "├── Parameter Groups:\n",
      "│   ├── Group: self_attn\n",
      "│   │   ├── LR: 0.0003\n",
      "│   │   └── Patterns: []\n",
      "│   ├── Group: ffn\n",
      "│   │   ├── LR: 0.0003\n",
      "│   │   └── Patterns: []\n",
      "│   └── Default Group (unmatched parameters)\n",
      "└── AdamW Specific:\n",
      "    ├── Betas: [0.9, 0.98]\n",
      "    ├── Epsilon: 1e-08\n",
      "    └── AMSGrad: False\n"
     ]
    },
    {
     "name": "stderr",
     "output_type": "stream",
     "text": [
      "/root/miniconda3/envs/env/lib/python3.8/site-packages/tqdm/auto.py:21: TqdmWarning: IProgress not found. Please update jupyter and ipywidgets. See https://ipywidgets.readthedocs.io/en/stable/user_install.html\n",
      "  from .autonotebook import tqdm as notebook_tqdm\n"
     ]
    },
    {
     "name": "stdout",
     "output_type": "stream",
     "text": [
      "\n",
      "📈 Configuring Learning Rate Scheduler:\n",
      "├── Type: COSINE\n",
      "├── Cosine Annealing Settings:\n",
      "│   ├── T_max: 62438 steps\n",
      "│   └── Min LR: 1e-08\n",
      "└── Warmup: Disabled\n"
     ]
    }
   ],
   "source": [
    "\n",
    "torch.cuda.empty_cache()\n",
    "gc.collect()\n",
    "#wandb.finish()\n",
    "#wandb.login(\"11902c0c8e2c6840d72bf65f04894b432d85f019\")\n",
    "\n",
    "trainer = GPT_Trainer(\n",
    "    model = model, \n",
    "    config = config,\n",
    "    config_file = \"config.yaml\",\n",
    "    run_name = \"rope_86_0samelen5layers\", \n",
    "    device = device\n",
    ")\n",
    "wandb.watch(trainer.model, log=\"all\")\n",
    "\n",
    "trainer.optimizer = create_optimizer.create_optimizer(\n",
    "    model = model, \n",
    "    opt_config = config[\"optimizer\"]\n",
    ")\n",
    "\n",
    "trainer.scheduler = create_scheduler.create_scheduler(\n",
    "    optimizer=trainer.optimizer,\n",
    "    scheduler_config=config['scheduler'],\n",
    "    train_loader=train_loader,\n",
    "    gradient_accumulation_steps=config['training']['gradient_accumulation_steps']\n",
    ")\n",
    "#trainer.load_checkpoint(\"checkpoint-last-epoch-model.pth\")\n",
    "#plot_lr_schedule(trainer.scheduler, num_epochs=len(train_loader), train_loader=train_loader)\n",
    "\n",
    "#trainer.load_checkpoint(\"th\")"
   ]
  },
  {
   "cell_type": "code",
   "execution_count": 5,
   "id": "38c47928",
   "metadata": {},
   "outputs": [
    {
     "data": {
      "text/plain": [
       "inf"
      ]
     },
     "execution_count": 5,
     "metadata": {},
     "output_type": "execute_result"
    }
   ],
   "source": [
    "trainer.best_metric"
   ]
  },
  {
   "cell_type": "code",
   "execution_count": 6,
   "id": "86c5c200",
   "metadata": {},
   "outputs": [
    {
     "name": "stderr",
     "output_type": "stream",
     "text": [
      "                                                                                       oss_token=0.8428, lr=0.000400, perplexity_token=2.3229]\r"
     ]
    },
    {
     "name": "stdout",
     "output_type": "stream",
     "text": [
      "generating\n",
      "Using default generation config...\n",
      "Generating with greedy search...\n"
     ]
    },
    {
     "name": "stderr",
     "output_type": "stream",
     "text": [
      "\u001b[34m\u001b[1mwandb\u001b[0m: \u001b[33mWARNING\u001b[0m Saving files without folders. If you want to preserve subdirectories pass base_path to wandb.save, i.e. wandb.save(\"/mnt/folder/file.h5\", base_path=\"/mnt\")\n"
     ]
    },
    {
     "name": "stdout",
     "output_type": "stream",
     "text": [
      "wandb metrics being logged:  {'train/ce_loss_token': 0.8428010650261671, 'train/perplexity_token': 2.322864532470703, 'val/ce_loss_token': 0.40504008531570435, 'val/perplexity_token': 1.499362587928772, 'learning_rate': 0.0003999364605611181}\n",
      "\n",
      "📊 Metrics (Epoch 500):\n",
      "├── TRAIN:\n",
      "│   ├── ce_loss_token: 0.8428\n",
      "│   └── perplexity_token: 2.3229\n",
      "└── VAL:\n",
      "    ├── ce_loss_token: 0.4050\n",
      "    └── perplexity_token: 1.4994\n",
      "└── TRAINING:\n",
      "    └── learning_rate: 0.000400\n"
     ]
    },
    {
     "name": "stderr",
     "output_type": "stream",
     "text": [
      "                                                                                       loss_token=0.6089, lr=0.000400, perplexity_token=1.8384]\r"
     ]
    },
    {
     "name": "stdout",
     "output_type": "stream",
     "text": [
      "generating\n",
      "Using default generation config...\n",
      "Generating with greedy search...\n",
      "wandb metrics being logged:  {'train/ce_loss_token': 0.6088825992711416, 'train/perplexity_token': 1.8383760452270508, 'val/ce_loss_token': 0.33808494359254837, 'val/perplexity_token': 1.4022595882415771, 'learning_rate': 0.00039974638947813115}\n",
      "\n",
      "📊 Metrics (Epoch 1000):\n",
      "├── TRAIN:\n",
      "│   ├── ce_loss_token: 0.6089\n",
      "│   └── perplexity_token: 1.8384\n",
      "└── VAL:\n",
      "    ├── ce_loss_token: 0.3381\n",
      "    └── perplexity_token: 1.4023\n",
      "└── TRAINING:\n",
      "    └── learning_rate: 0.000400\n"
     ]
    },
    {
     "name": "stderr",
     "output_type": "stream",
     "text": [
      "                                                                                       loss_token=0.5204, lr=0.000399, perplexity_token=1.6827] \r"
     ]
    },
    {
     "name": "stdout",
     "output_type": "stream",
     "text": [
      "generating\n",
      "Using default generation config...\n",
      "Generating with greedy search...\n",
      "wandb metrics being logged:  {'train/ce_loss_token': 0.5203972211644937, 'train/perplexity_token': 1.682695984840393, 'val/ce_loss_token': 0.33241614513099194, 'val/perplexity_token': 1.394333004951477, 'learning_rate': 0.0003994299067893801}\n",
      "\n",
      "📊 Metrics (Epoch 1500):\n",
      "├── TRAIN:\n",
      "│   ├── ce_loss_token: 0.5204\n",
      "│   └── perplexity_token: 1.6827\n",
      "└── VAL:\n",
      "    ├── ce_loss_token: 0.3324\n",
      "    └── perplexity_token: 1.3943\n",
      "└── TRAINING:\n",
      "    └── learning_rate: 0.000399\n"
     ]
    },
    {
     "name": "stderr",
     "output_type": "stream",
     "text": [
      "                                                                                       loss_token=0.4745, lr=0.000399, perplexity_token=1.6072] \r"
     ]
    },
    {
     "name": "stdout",
     "output_type": "stream",
     "text": [
      "generating\n",
      "Using default generation config...\n",
      "Generating with greedy search...\n",
      "wandb metrics being logged:  {'train/ce_loss_token': 0.4744930782209689, 'train/perplexity_token': 1.6071993112564087, 'val/ce_loss_token': 0.33062182646244764, 'val/perplexity_token': 1.3918333053588867, 'learning_rate': 0.0003989872127892792}\n",
      "\n",
      "📊 Metrics (Epoch 2000):\n",
      "├── TRAIN:\n",
      "│   ├── ce_loss_token: 0.4745\n",
      "│   └── perplexity_token: 1.6072\n",
      "└── VAL:\n",
      "    ├── ce_loss_token: 0.3306\n",
      "    └── perplexity_token: 1.3918\n",
      "└── TRAINING:\n",
      "    └── learning_rate: 0.000399\n"
     ]
    },
    {
     "name": "stderr",
     "output_type": "stream",
     "text": [
      "                                                                                       loss_token=0.4460, lr=0.000398, perplexity_token=1.5621] \r"
     ]
    },
    {
     "name": "stdout",
     "output_type": "stream",
     "text": [
      "generating\n",
      "Using default generation config...\n",
      "Generating with greedy search...\n",
      "wandb metrics being logged:  {'train/ce_loss_token': 0.4460213576398435, 'train/perplexity_token': 1.5620847940444946, 'val/ce_loss_token': 0.3291814811527729, 'val/perplexity_token': 1.3898301124572754, 'learning_rate': 0.0003984185876484016}\n",
      "\n",
      "📊 Metrics (Epoch 2500):\n",
      "├── TRAIN:\n",
      "│   ├── ce_loss_token: 0.4460\n",
      "│   └── perplexity_token: 1.5621\n",
      "└── VAL:\n",
      "    ├── ce_loss_token: 0.3292\n",
      "    └── perplexity_token: 1.3898\n",
      "└── TRAINING:\n",
      "    └── learning_rate: 0.000398\n"
     ]
    },
    {
     "name": "stderr",
     "output_type": "stream",
     "text": [
      "                                                                                       loss_token=0.4268, lr=0.000398, perplexity_token=1.5323] \r"
     ]
    },
    {
     "name": "stdout",
     "output_type": "stream",
     "text": [
      "generating\n",
      "Using default generation config...\n",
      "Generating with greedy search...\n",
      "wandb metrics being logged:  {'train/ce_loss_token': 0.42677976457685757, 'train/perplexity_token': 1.5323151350021362, 'val/ce_loss_token': 0.32753420900553465, 'val/perplexity_token': 1.387542486190796, 'learning_rate': 0.00039772439123616284}\n",
      "\n",
      "📊 Metrics (Epoch 3000):\n",
      "├── TRAIN:\n",
      "│   ├── ce_loss_token: 0.4268\n",
      "│   └── perplexity_token: 1.5323\n",
      "└── VAL:\n",
      "    ├── ce_loss_token: 0.3275\n",
      "    └── perplexity_token: 1.3875\n",
      "└── TRAINING:\n",
      "    └── learning_rate: 0.000398\n"
     ]
    },
    {
     "name": "stderr",
     "output_type": "stream",
     "text": [
      "                                                                                       loss_token=0.4129, lr=0.000397, perplexity_token=1.5111] \r"
     ]
    },
    {
     "name": "stdout",
     "output_type": "stream",
     "text": [
      "generating\n",
      "Using default generation config...\n",
      "Generating with greedy search...\n",
      "wandb metrics being logged:  {'train/ce_loss_token': 0.412863311470321, 'train/perplexity_token': 1.5111384391784668, 'val/ce_loss_token': 0.3274521194398403, 'val/perplexity_token': 1.387428641319275, 'learning_rate': 0.0003969050628930687}\n",
      "\n",
      "📊 Metrics (Epoch 3500):\n",
      "├── TRAIN:\n",
      "│   ├── ce_loss_token: 0.4129\n",
      "│   └── perplexity_token: 1.5111\n",
      "└── VAL:\n",
      "    ├── ce_loss_token: 0.3275\n",
      "    └── perplexity_token: 1.3874\n",
      "└── TRAINING:\n",
      "    └── learning_rate: 0.000397\n"
     ]
    },
    {
     "name": "stderr",
     "output_type": "stream",
     "text": [
      "                                                                                       loss_token=0.4023, lr=0.000396, perplexity_token=1.4952] \r"
     ]
    },
    {
     "name": "stdout",
     "output_type": "stream",
     "text": [
      "generating\n",
      "Using default generation config...\n",
      "Generating with greedy search...\n",
      "wandb metrics being logged:  {'train/ce_loss_token': 0.40228259515029374, 'train/perplexity_token': 1.4952337741851807, 'val/ce_loss_token': 0.3268726449459791, 'val/perplexity_token': 1.3866249322891235, 'learning_rate': 0.000395961121152669}\n",
      "\n",
      "📊 Metrics (Epoch 4000):\n",
      "├── TRAIN:\n",
      "│   ├── ce_loss_token: 0.4023\n",
      "│   └── perplexity_token: 1.4952\n",
      "└── VAL:\n",
      "    ├── ce_loss_token: 0.3269\n",
      "    └── perplexity_token: 1.3866\n",
      "└── TRAINING:\n",
      "    └── learning_rate: 0.000396\n"
     ]
    },
    {
     "name": "stderr",
     "output_type": "stream",
     "text": [
      "                                                                                       loss_token=0.3940, lr=0.000395, perplexity_token=1.4828] \r"
     ]
    },
    {
     "name": "stdout",
     "output_type": "stream",
     "text": [
      "generating\n",
      "Using default generation config...\n",
      "Generating with greedy search...\n",
      "wandb metrics being logged:  {'train/ce_loss_token': 0.39396360835031097, 'train/perplexity_token': 1.4828466176986694, 'val/ce_loss_token': 0.32678673323243856, 'val/perplexity_token': 1.3865057229995728, 'learning_rate': 0.0003948931634133863}\n",
      "\n",
      "📊 Metrics (Epoch 4500):\n",
      "├── TRAIN:\n",
      "│   ├── ce_loss_token: 0.3940\n",
      "│   └── perplexity_token: 1.4828\n",
      "└── VAL:\n",
      "    ├── ce_loss_token: 0.3268\n",
      "    └── perplexity_token: 1.3865\n",
      "└── TRAINING:\n",
      "    └── learning_rate: 0.000395\n"
     ]
    },
    {
     "name": "stderr",
     "output_type": "stream",
     "text": [
      "                                                                                       loss_token=0.3873, lr=0.000394, perplexity_token=1.4730] \r"
     ]
    },
    {
     "name": "stdout",
     "output_type": "stream",
     "text": [
      "generating\n",
      "Using default generation config...\n",
      "Generating with greedy search...\n",
      "wandb metrics being logged:  {'train/ce_loss_token': 0.38729183940476497, 'train/perplexity_token': 1.4729863405227661, 'val/ce_loss_token': 0.32654218282550573, 'val/perplexity_token': 1.3861666917800903, 'learning_rate': 0.00039370186556043945}\n",
      "\n",
      "📊 Metrics (Epoch 5000):\n",
      "├── TRAIN:\n",
      "│   ├── ce_loss_token: 0.3873\n",
      "│   └── perplexity_token: 1.4730\n",
      "└── VAL:\n",
      "    ├── ce_loss_token: 0.3265\n",
      "    └── perplexity_token: 1.3862\n",
      "└── TRAINING:\n",
      "    └── learning_rate: 0.000394\n"
     ]
    },
    {
     "name": "stderr",
     "output_type": "stream",
     "text": [
      "                                                                                       loss_token=0.3818, lr=0.000392, perplexity_token=1.4650] \r"
     ]
    },
    {
     "name": "stdout",
     "output_type": "stream",
     "text": [
      "generating\n",
      "Using default generation config...\n",
      "Generating with greedy search...\n",
      "wandb metrics being logged:  {'train/ce_loss_token': 0.38182219887858976, 'train/perplexity_token': 1.4649516344070435, 'val/ce_loss_token': 0.3266288749873638, 'val/perplexity_token': 1.3862868547439575, 'learning_rate': 0.0003923879815380904}\n",
      "\n",
      "📊 Metrics (Epoch 5500):\n",
      "├── TRAIN:\n",
      "│   ├── ce_loss_token: 0.3818\n",
      "│   └── perplexity_token: 1.4650\n",
      "└── VAL:\n",
      "    ├── ce_loss_token: 0.3266\n",
      "    └── perplexity_token: 1.3863\n",
      "└── TRAINING:\n",
      "    └── learning_rate: 0.000392\n"
     ]
    },
    {
     "name": "stderr",
     "output_type": "stream",
     "text": [
      "                                                                                       loss_token=0.3773, lr=0.000391, perplexity_token=1.4583] \r"
     ]
    },
    {
     "name": "stdout",
     "output_type": "stream",
     "text": [
      "generating\n",
      "Using default generation config...\n",
      "Generating with greedy search...\n",
      "wandb metrics being logged:  {'train/ce_loss_token': 0.3772583322422919, 'train/perplexity_token': 1.4582810401916504, 'val/ce_loss_token': 0.32700235303491354, 'val/perplexity_token': 1.3868046998977661, 'learning_rate': 0.00039095234287249214}\n",
      "\n",
      "📊 Metrics (Epoch 6000):\n",
      "├── TRAIN:\n",
      "│   ├── ce_loss_token: 0.3773\n",
      "│   └── perplexity_token: 1.4583\n",
      "└── VAL:\n",
      "    ├── ce_loss_token: 0.3270\n",
      "    └── perplexity_token: 1.3868\n",
      "└── TRAINING:\n",
      "    └── learning_rate: 0.000391\n"
     ]
    },
    {
     "name": "stderr",
     "output_type": "stream",
     "text": [
      "                                                                                       loss_token=0.3734, lr=0.000389, perplexity_token=1.4526] \r"
     ]
    },
    {
     "name": "stdout",
     "output_type": "stream",
     "text": [
      "generating\n",
      "Using default generation config...\n",
      "Generating with greedy search...\n",
      "wandb metrics being logged:  {'train/ce_loss_token': 0.37338559489271456, 'train/perplexity_token': 1.4526443481445312, 'val/ce_loss_token': 0.3268392877653241, 'val/perplexity_token': 1.3865786790847778, 'learning_rate': 0.0003893958581454336}\n",
      "\n",
      "📊 Metrics (Epoch 6500):\n",
      "├── TRAIN:\n",
      "│   ├── ce_loss_token: 0.3734\n",
      "│   └── perplexity_token: 1.4526\n",
      "└── VAL:\n",
      "    ├── ce_loss_token: 0.3268\n",
      "    └── perplexity_token: 1.3866\n",
      "└── TRAINING:\n",
      "    └── learning_rate: 0.000389\n"
     ]
    },
    {
     "name": "stderr",
     "output_type": "stream",
     "text": [
      "                                                                                       loss_token=0.3701, lr=0.000388, perplexity_token=1.4478] \r"
     ]
    },
    {
     "name": "stdout",
     "output_type": "stream",
     "text": [
      "generating\n",
      "Using default generation config...\n",
      "Generating with greedy search...\n",
      "wandb metrics being logged:  {'train/ce_loss_token': 0.37006412633162467, 'train/perplexity_token': 1.4478274583816528, 'val/ce_loss_token': 0.32651410065591335, 'val/perplexity_token': 1.3861278295516968, 'learning_rate': 0.00038771951241931994}\n",
      "\n",
      "📊 Metrics (Epoch 7000):\n",
      "├── TRAIN:\n",
      "│   ├── ce_loss_token: 0.3701\n",
      "│   └── perplexity_token: 1.4478\n",
      "└── VAL:\n",
      "    ├── ce_loss_token: 0.3265\n",
      "    └── perplexity_token: 1.3861\n",
      "└── TRAINING:\n",
      "    └── learning_rate: 0.000388\n"
     ]
    },
    {
     "name": "stderr",
     "output_type": "stream",
     "text": [
      "                                                                                       loss_token=0.3672, lr=0.000386, perplexity_token=1.4437] \r"
     ]
    },
    {
     "name": "stdout",
     "output_type": "stream",
     "text": [
      "generating\n",
      "Using default generation config...\n",
      "Generating with greedy search...\n",
      "wandb metrics being logged:  {'train/ce_loss_token': 0.3671817093583015, 'train/perplexity_token': 1.4436602592468262, 'val/ce_loss_token': 0.32672066427767277, 'val/perplexity_token': 1.3864141702651978, 'learning_rate': 0.00038592436661375146}\n",
      "\n",
      "📊 Metrics (Epoch 7500):\n",
      "├── TRAIN:\n",
      "│   ├── ce_loss_token: 0.3672\n",
      "│   └── perplexity_token: 1.4437\n",
      "└── VAL:\n",
      "    ├── ce_loss_token: 0.3267\n",
      "    └── perplexity_token: 1.3864\n",
      "└── TRAINING:\n",
      "    └── learning_rate: 0.000386\n"
     ]
    },
    {
     "name": "stderr",
     "output_type": "stream",
     "text": [
      "                                                                                       loss_token=0.3647, lr=0.000384, perplexity_token=1.4400] \r"
     ]
    },
    {
     "name": "stdout",
     "output_type": "stream",
     "text": [
      "generating\n",
      "Using default generation config...\n",
      "Generating with greedy search...\n",
      "wandb metrics being logged:  {'train/ce_loss_token': 0.3646590045699029, 'train/perplexity_token': 1.4400229454040527, 'val/ce_loss_token': 0.32644047960639, 'val/perplexity_token': 1.3860257863998413, 'learning_rate': 0.0003840115568340933}\n",
      "\n",
      "📊 Metrics (Epoch 8000):\n",
      "├── TRAIN:\n",
      "│   ├── ce_loss_token: 0.3647\n",
      "│   └── perplexity_token: 1.4400\n",
      "└── VAL:\n",
      "    ├── ce_loss_token: 0.3264\n",
      "    └── perplexity_token: 1.3860\n",
      "└── TRAINING:\n",
      "    └── learning_rate: 0.000384\n"
     ]
    },
    {
     "name": "stderr",
     "output_type": "stream",
     "text": [
      "                                                                                       loss_token=0.3624, lr=0.000382, perplexity_token=1.4368] \r"
     ]
    },
    {
     "name": "stdout",
     "output_type": "stream",
     "text": [
      "generating\n",
      "Using default generation config...\n",
      "Generating with greedy search...\n",
      "wandb metrics being logged:  {'train/ce_loss_token': 0.36243071617161354, 'train/perplexity_token': 1.4368176460266113, 'val/ce_loss_token': 0.3264729483053088, 'val/perplexity_token': 1.386070728302002, 'learning_rate': 0.00038198229365245554}\n",
      "\n",
      "📊 Metrics (Epoch 8500):\n",
      "├── TRAIN:\n",
      "│   ├── ce_loss_token: 0.3624\n",
      "│   └── perplexity_token: 1.4368\n",
      "└── VAL:\n",
      "    ├── ce_loss_token: 0.3265\n",
      "    └── perplexity_token: 1.3861\n",
      "└── TRAINING:\n",
      "    └── learning_rate: 0.000382\n"
     ]
    },
    {
     "name": "stderr",
     "output_type": "stream",
     "text": [
      "                                                                                       loss_token=0.3604, lr=0.000380, perplexity_token=1.4340] \r"
     ]
    },
    {
     "name": "stdout",
     "output_type": "stream",
     "text": [
      "generating\n",
      "Using default generation config...\n",
      "Generating with greedy search...\n",
      "wandb metrics being logged:  {'train/ce_loss_token': 0.3604488431043247, 'train/perplexity_token': 1.4339728355407715, 'val/ce_loss_token': 0.3266940424218774, 'val/perplexity_token': 1.386377215385437, 'learning_rate': 0.00037983786134155787}\n",
      "\n",
      "📊 Metrics (Epoch 9000):\n",
      "├── TRAIN:\n",
      "│   ├── ce_loss_token: 0.3604\n",
      "│   └── perplexity_token: 1.4340\n",
      "└── VAL:\n",
      "    ├── ce_loss_token: 0.3267\n",
      "    └── perplexity_token: 1.3864\n",
      "└── TRAINING:\n",
      "    └── learning_rate: 0.000380\n"
     ]
    },
    {
     "name": "stderr",
     "output_type": "stream",
     "text": [
      "                                                                                       loss_token=0.3587, lr=0.000378, perplexity_token=1.4314] \r"
     ]
    },
    {
     "name": "stdout",
     "output_type": "stream",
     "text": [
      "generating\n",
      "Using default generation config...\n",
      "Generating with greedy search...\n",
      "wandb metrics being logged:  {'train/ce_loss_token': 0.35867664063934174, 'train/perplexity_token': 1.431433916091919, 'val/ce_loss_token': 0.3265836872160435, 'val/perplexity_token': 1.3862242698669434, 'learning_rate': 0.0003775796170619394}\n",
      "\n",
      "📊 Metrics (Epoch 9500):\n",
      "├── TRAIN:\n",
      "│   ├── ce_loss_token: 0.3587\n",
      "│   └── perplexity_token: 1.4314\n",
      "└── VAL:\n",
      "    ├── ce_loss_token: 0.3266\n",
      "    └── perplexity_token: 1.3862\n",
      "└── TRAINING:\n",
      "    └── learning_rate: 0.000378\n"
     ]
    },
    {
     "name": "stderr",
     "output_type": "stream",
     "text": [
      "                                                                                       _loss_token=0.3571, lr=0.000375, perplexity_token=1.4292]\r"
     ]
    },
    {
     "name": "stdout",
     "output_type": "stream",
     "text": [
      "generating\n",
      "Using default generation config...\n",
      "Generating with greedy search...\n",
      "wandb metrics being logged:  {'train/ce_loss_token': 0.3570804307221437, 'train/perplexity_token': 1.4291508197784424, 'val/ce_loss_token': 0.32648816984146833, 'val/perplexity_token': 1.3860918283462524, 'learning_rate': 0.0003752089900030455}\n",
      "\n",
      "📊 Metrics (Epoch 10000):\n",
      "├── TRAIN:\n",
      "│   ├── ce_loss_token: 0.3571\n",
      "│   └── perplexity_token: 1.4292\n",
      "└── VAL:\n",
      "    ├── ce_loss_token: 0.3265\n",
      "    └── perplexity_token: 1.3861\n",
      "└── TRAINING:\n",
      "    └── learning_rate: 0.000375\n"
     ]
    },
    {
     "name": "stderr",
     "output_type": "stream",
     "text": [
      "                                                                                       _loss_token=0.3556, lr=0.000373, perplexity_token=1.4271] \r"
     ]
    },
    {
     "name": "stdout",
     "output_type": "stream",
     "text": [
      "generating\n",
      "Using default generation config...\n",
      "Generating with greedy search...\n",
      "wandb metrics being logged:  {'train/ce_loss_token': 0.35563562629779355, 'train/perplexity_token': 1.427087426185608, 'val/ce_loss_token': 0.3265391355380416, 'val/perplexity_token': 1.386162519454956, 'learning_rate': 0.0003727274804787263}\n",
      "\n",
      "📊 Metrics (Epoch 10500):\n",
      "├── TRAIN:\n",
      "│   ├── ce_loss_token: 0.3556\n",
      "│   └── perplexity_token: 1.4271\n",
      "└── VAL:\n",
      "    ├── ce_loss_token: 0.3265\n",
      "    └── perplexity_token: 1.3862\n",
      "└── TRAINING:\n",
      "    └── learning_rate: 0.000373\n"
     ]
    },
    {
     "name": "stderr",
     "output_type": "stream",
     "text": [
      "                                                                                       _loss_token=0.3543, lr=0.000370, perplexity_token=1.4252] \r"
     ]
    },
    {
     "name": "stdout",
     "output_type": "stream",
     "text": [
      "generating\n",
      "Using default generation config...\n",
      "Generating with greedy search...\n",
      "wandb metrics being logged:  {'train/ce_loss_token': 0.3543211369040489, 'train/perplexity_token': 1.4252127408981323, 'val/ce_loss_token': 0.3265414768829942, 'val/perplexity_token': 1.386165738105774, 'learning_rate': 0.00037013665897772625}\n",
      "\n",
      "📊 Metrics (Epoch 11000):\n",
      "├── TRAIN:\n",
      "│   ├── ce_loss_token: 0.3543\n",
      "│   └── perplexity_token: 1.4252\n",
      "└── VAL:\n",
      "    ├── ce_loss_token: 0.3265\n",
      "    └── perplexity_token: 1.3862\n",
      "└── TRAINING:\n",
      "    └── learning_rate: 0.000370\n"
     ]
    },
    {
     "name": "stderr",
     "output_type": "stream",
     "text": [
      "                                                                                       _loss_token=0.3531, lr=0.000367, perplexity_token=1.4235] \r"
     ]
    },
    {
     "name": "stdout",
     "output_type": "stream",
     "text": [
      "generating\n",
      "Using default generation config...\n",
      "Generating with greedy search...\n",
      "wandb metrics being logged:  {'train/ce_loss_token': 0.35312069995891904, 'train/perplexity_token': 1.4235029220581055, 'val/ce_loss_token': 0.3263593418523669, 'val/perplexity_token': 1.3859132528305054, 'learning_rate': 0.00036743816516975476}\n",
      "\n",
      "📊 Metrics (Epoch 11500):\n",
      "├── TRAIN:\n",
      "│   ├── ce_loss_token: 0.3531\n",
      "│   └── perplexity_token: 1.4235\n",
      "└── VAL:\n",
      "    ├── ce_loss_token: 0.3264\n",
      "    └── perplexity_token: 1.3859\n",
      "└── TRAINING:\n",
      "    └── learning_rate: 0.000367\n"
     ]
    },
    {
     "name": "stderr",
     "output_type": "stream",
     "text": [
      "                                                                                       _loss_token=0.3520, lr=0.000365, perplexity_token=1.4219] \r"
     ]
    },
    {
     "name": "stdout",
     "output_type": "stream",
     "text": [
      "generating\n",
      "Using default generation config...\n",
      "Generating with greedy search...\n",
      "wandb metrics being logged:  {'train/ce_loss_token': 0.35201987645276617, 'train/perplexity_token': 1.4219367504119873, 'val/ce_loss_token': 0.32643328979611397, 'val/perplexity_token': 1.386015772819519, 'learning_rate': 0.0003646337068677798}\n",
      "\n",
      "📊 Metrics (Epoch 12000):\n",
      "├── TRAIN:\n",
      "│   ├── ce_loss_token: 0.3520\n",
      "│   └── perplexity_token: 1.4219\n",
      "└── VAL:\n",
      "    ├── ce_loss_token: 0.3264\n",
      "    └── perplexity_token: 1.3860\n",
      "└── TRAINING:\n",
      "    └── learning_rate: 0.000365\n"
     ]
    },
    {
     "name": "stderr",
     "output_type": "stream",
     "text": [
      "                                                                                       _loss_token=0.3510, lr=0.000362, perplexity_token=1.4205] \r"
     ]
    },
    {
     "name": "stdout",
     "output_type": "stream",
     "text": [
      "generating\n",
      "Using default generation config...\n",
      "Generating with greedy search...\n",
      "wandb metrics being logged:  {'train/ce_loss_token': 0.3510054797422847, 'train/perplexity_token': 1.4204951524734497, 'val/ce_loss_token': 0.32665344327688217, 'val/perplexity_token': 1.386320948600769, 'learning_rate': 0.00036172505894719616}\n",
      "\n",
      "📊 Metrics (Epoch 12500):\n",
      "├── TRAIN:\n",
      "│   ├── ce_loss_token: 0.3510\n",
      "│   └── perplexity_token: 1.4205\n",
      "└── VAL:\n",
      "    ├── ce_loss_token: 0.3267\n",
      "    └── perplexity_token: 1.3863\n",
      "└── TRAINING:\n",
      "    └── learning_rate: 0.000362\n"
     ]
    },
    {
     "name": "stderr",
     "output_type": "stream",
     "text": [
      "                                                                                       _loss_token=0.3501, lr=0.000359, perplexity_token=1.4192] \r"
     ]
    },
    {
     "name": "stdout",
     "output_type": "stream",
     "text": [
      "generating\n",
      "Using default generation config...\n",
      "Generating with greedy search...\n",
      "wandb metrics being logged:  {'train/ce_loss_token': 0.35006939443099794, 'train/perplexity_token': 1.419166088104248, 'val/ce_loss_token': 0.3264287179335952, 'val/perplexity_token': 1.3860094547271729, 'learning_rate': 0.0003587140622225435}\n",
      "\n",
      "📊 Metrics (Epoch 13000):\n",
      "├── TRAIN:\n",
      "│   ├── ce_loss_token: 0.3501\n",
      "│   └── perplexity_token: 1.4192\n",
      "└── VAL:\n",
      "    ├── ce_loss_token: 0.3264\n",
      "    └── perplexity_token: 1.3860\n",
      "└── TRAINING:\n",
      "    └── learning_rate: 0.000359\n"
     ]
    },
    {
     "name": "stderr",
     "output_type": "stream",
     "text": [
      "                                                                                       _loss_token=0.3492, lr=0.000356, perplexity_token=1.4179] \r"
     ]
    },
    {
     "name": "stdout",
     "output_type": "stream",
     "text": [
      "generating\n",
      "Using default generation config...\n",
      "Generating with greedy search...\n",
      "wandb metrics being logged:  {'train/ce_loss_token': 0.34920374280823113, 'train/perplexity_token': 1.417937994003296, 'val/ce_loss_token': 0.3264961428940296, 'val/perplexity_token': 1.3861029148101807, 'learning_rate': 0.0003556026222825048}\n",
      "\n",
      "📊 Metrics (Epoch 13500):\n",
      "├── TRAIN:\n",
      "│   ├── ce_loss_token: 0.3492\n",
      "│   └── perplexity_token: 1.4179\n",
      "└── VAL:\n",
      "    ├── ce_loss_token: 0.3265\n",
      "    └── perplexity_token: 1.3861\n",
      "└── TRAINING:\n",
      "    └── learning_rate: 0.000356\n"
     ]
    },
    {
     "name": "stderr",
     "output_type": "stream",
     "text": [
      "                                                                                       _loss_token=0.3484, lr=0.000352, perplexity_token=1.4168] \r"
     ]
    },
    {
     "name": "stdout",
     "output_type": "stream",
     "text": [
      "generating\n",
      "Using default generation config...\n",
      "Generating with greedy search...\n",
      "wandb metrics being logged:  {'train/ce_loss_token': 0.348400042068702, 'train/perplexity_token': 1.4167989492416382, 'val/ce_loss_token': 0.3265754207968712, 'val/perplexity_token': 1.3862128257751465, 'learning_rate': 0.0003523927082838975}\n",
      "\n",
      "📊 Metrics (Epoch 14000):\n",
      "├── TRAIN:\n",
      "│   ├── ce_loss_token: 0.3484\n",
      "│   └── perplexity_token: 1.4168\n",
      "└── VAL:\n",
      "    ├── ce_loss_token: 0.3266\n",
      "    └── perplexity_token: 1.3862\n",
      "└── TRAINING:\n",
      "    └── learning_rate: 0.000352\n"
     ]
    },
    {
     "name": "stderr",
     "output_type": "stream",
     "text": [
      "                                                                                       _loss_token=0.3477, lr=0.000349, perplexity_token=1.4157] \r"
     ]
    },
    {
     "name": "stdout",
     "output_type": "stream",
     "text": [
      "generating\n",
      "Using default generation config...\n",
      "Generating with greedy search...\n",
      "wandb metrics being logged:  {'train/ce_loss_token': 0.34765167829579513, 'train/perplexity_token': 1.4157390594482422, 'val/ce_loss_token': 0.32638152688741684, 'val/perplexity_token': 1.3859440088272095, 'learning_rate': 0.0003490863517054464}\n",
      "\n",
      "📊 Metrics (Epoch 14500):\n",
      "├── TRAIN:\n",
      "│   ├── ce_loss_token: 0.3477\n",
      "│   └── perplexity_token: 1.4157\n",
      "└── VAL:\n",
      "    ├── ce_loss_token: 0.3264\n",
      "    └── perplexity_token: 1.3859\n",
      "└── TRAINING:\n",
      "    └── learning_rate: 0.000349\n"
     ]
    },
    {
     "name": "stderr",
     "output_type": "stream",
     "text": [
      "                                                                                       _loss_token=0.3470, lr=0.000346, perplexity_token=1.4148] \r"
     ]
    },
    {
     "name": "stdout",
     "output_type": "stream",
     "text": [
      "generating\n",
      "Using default generation config...\n",
      "Generating with greedy search...\n",
      "wandb metrics being logged:  {'train/ce_loss_token': 0.3469528990915224, 'train/perplexity_token': 1.414750099182129, 'val/ce_loss_token': 0.3264241013675928, 'val/perplexity_token': 1.386003017425537, 'learning_rate': 0.0003456856450621038}\n",
      "\n",
      "📊 Metrics (Epoch 15000):\n",
      "├── TRAIN:\n",
      "│   ├── ce_loss_token: 0.3470\n",
      "│   └── perplexity_token: 1.4148\n",
      "└── VAL:\n",
      "    ├── ce_loss_token: 0.3264\n",
      "    └── perplexity_token: 1.3860\n",
      "└── TRAINING:\n",
      "    └── learning_rate: 0.000346\n"
     ]
    },
    {
     "name": "stderr",
     "output_type": "stream",
     "text": [
      "                                                                                       _loss_token=0.3463, lr=0.000342, perplexity_token=1.4138] \r"
     ]
    },
    {
     "name": "stdout",
     "output_type": "stream",
     "text": [
      "generating\n",
      "Using default generation config...\n",
      "Generating with greedy search...\n",
      "wandb metrics being logged:  {'train/ce_loss_token': 0.34630017736697766, 'train/perplexity_token': 1.4138269424438477, 'val/ce_loss_token': 0.3267107056453824, 'val/perplexity_token': 1.3864003419876099, 'learning_rate': 0.0003421927405807504}\n",
      "\n",
      "📊 Metrics (Epoch 15500):\n",
      "├── TRAIN:\n",
      "│   ├── ce_loss_token: 0.3463\n",
      "│   └── perplexity_token: 1.4138\n",
      "└── VAL:\n",
      "    ├── ce_loss_token: 0.3267\n",
      "    └── perplexity_token: 1.3864\n",
      "└── TRAINING:\n",
      "    └── learning_rate: 0.000342\n"
     ]
    },
    {
     "name": "stderr",
     "output_type": "stream",
     "text": [
      "                                                                                       _loss_token=0.3457, lr=0.000339, perplexity_token=1.4130] \r"
     ]
    },
    {
     "name": "stdout",
     "output_type": "stream",
     "text": [
      "generating\n",
      "Using default generation config...\n",
      "Generating with greedy search...\n",
      "wandb metrics being logged:  {'train/ce_loss_token': 0.3456879749900661, 'train/perplexity_token': 1.412961721420288, 'val/ce_loss_token': 0.32669500447809696, 'val/perplexity_token': 1.386378526687622, 'learning_rate': 0.00033860984883809977}\n",
      "\n",
      "📊 Metrics (Epoch 16000):\n",
      "├── TRAIN:\n",
      "│   ├── ce_loss_token: 0.3457\n",
      "│   └── perplexity_token: 1.4130\n",
      "└── VAL:\n",
      "    ├── ce_loss_token: 0.3267\n",
      "    └── perplexity_token: 1.3864\n",
      "└── TRAINING:\n",
      "    └── learning_rate: 0.000339\n"
     ]
    },
    {
     "name": "stderr",
     "output_type": "stream",
     "text": [
      "                                                                                       _loss_token=0.3451, lr=0.000335, perplexity_token=1.4121] \r"
     ]
    },
    {
     "name": "stdout",
     "output_type": "stream",
     "text": [
      "generating\n",
      "Using default generation config...\n",
      "Generating with greedy search...\n",
      "wandb metrics being logged:  {'train/ce_loss_token': 0.34511214121566613, 'train/perplexity_token': 1.4121482372283936, 'val/ce_loss_token': 0.32638959866017103, 'val/perplexity_token': 1.3859552145004272, 'learning_rate': 0.0003349392373616758}\n",
      "\n",
      "📊 Metrics (Epoch 16500):\n",
      "├── TRAIN:\n",
      "│   ├── ce_loss_token: 0.3451\n",
      "│   └── perplexity_token: 1.4121\n",
      "└── VAL:\n",
      "    ├── ce_loss_token: 0.3264\n",
      "    └── perplexity_token: 1.3860\n",
      "└── TRAINING:\n",
      "    └── learning_rate: 0.000335\n"
     ]
    },
    {
     "name": "stderr",
     "output_type": "stream",
     "text": [
      "                                                                                       _loss_token=0.3446, lr=0.000331, perplexity_token=1.4114] \r"
     ]
    },
    {
     "name": "stdout",
     "output_type": "stream",
     "text": [
      "generating\n",
      "Using default generation config...\n",
      "Generating with greedy search...\n",
      "wandb metrics being logged:  {'train/ce_loss_token': 0.3445699845234876, 'train/perplexity_token': 1.4113829135894775, 'val/ce_loss_token': 0.3265018295496702, 'val/perplexity_token': 1.386110782623291, 'learning_rate': 0.0003311832291947508}\n",
      "\n",
      "📊 Metrics (Epoch 17000):\n",
      "├── TRAIN:\n",
      "│   ├── ce_loss_token: 0.3446\n",
      "│   └── perplexity_token: 1.4114\n",
      "└── VAL:\n",
      "    ├── ce_loss_token: 0.3265\n",
      "    └── perplexity_token: 1.3861\n",
      "└── TRAINING:\n",
      "    └── learning_rate: 0.000331\n"
     ]
    },
    {
     "name": "stderr",
     "output_type": "stream",
     "text": [
      "                                                                                       _loss_token=0.3441, lr=0.000327, perplexity_token=1.4107] \r"
     ]
    },
    {
     "name": "stdout",
     "output_type": "stream",
     "text": [
      "generating\n",
      "Using default generation config...\n",
      "Generating with greedy search...\n",
      "wandb metrics being logged:  {'train/ce_loss_token': 0.34405781499903976, 'train/perplexity_token': 1.4106602668762207, 'val/ce_loss_token': 0.32645113579928875, 'val/perplexity_token': 1.386040449142456, 'learning_rate': 0.00032734420142614294}\n",
      "\n",
      "📊 Metrics (Epoch 17500):\n",
      "├── TRAIN:\n",
      "│   ├── ce_loss_token: 0.3441\n",
      "│   └── perplexity_token: 1.4107\n",
      "└── VAL:\n",
      "    ├── ce_loss_token: 0.3265\n",
      "    └── perplexity_token: 1.3860\n",
      "└── TRAINING:\n",
      "    └── learning_rate: 0.000327\n"
     ]
    },
    {
     "name": "stderr",
     "output_type": "stream",
     "text": [
      "                                                                                       _loss_token=0.3436, lr=0.000323, perplexity_token=1.4100] \r"
     ]
    },
    {
     "name": "stdout",
     "output_type": "stream",
     "text": [
      "generating\n",
      "Using default generation config...\n",
      "Generating with greedy search...\n",
      "wandb metrics being logged:  {'train/ce_loss_token': 0.3435741691869217, 'train/perplexity_token': 1.4099780321121216, 'val/ce_loss_token': 0.32643668446689844, 'val/perplexity_token': 1.386020541191101, 'learning_rate': 0.00032342458368581734}\n",
      "\n",
      "📊 Metrics (Epoch 18000):\n",
      "├── TRAIN:\n",
      "│   ├── ce_loss_token: 0.3436\n",
      "│   └── perplexity_token: 1.4100\n",
      "└── VAL:\n",
      "    ├── ce_loss_token: 0.3264\n",
      "    └── perplexity_token: 1.3860\n",
      "└── TRAINING:\n",
      "    └── learning_rate: 0.000323\n"
     ]
    },
    {
     "name": "stderr",
     "output_type": "stream",
     "text": [
      "                                                                                       _loss_token=0.3431, lr=0.000319, perplexity_token=1.4093] \r"
     ]
    },
    {
     "name": "stdout",
     "output_type": "stream",
     "text": [
      "generating\n",
      "Using default generation config...\n",
      "Generating with greedy search...\n",
      "wandb metrics being logged:  {'train/ce_loss_token': 0.34311701532544514, 'train/perplexity_token': 1.4093337059020996, 'val/ce_loss_token': 0.3264881083741784, 'val/perplexity_token': 1.386091709136963, 'learning_rate': 0.0003194268566072249}\n",
      "\n",
      "📊 Metrics (Epoch 18500):\n",
      "├── TRAIN:\n",
      "│   ├── ce_loss_token: 0.3431\n",
      "│   └── perplexity_token: 1.4093\n",
      "└── VAL:\n",
      "    ├── ce_loss_token: 0.3265\n",
      "    └── perplexity_token: 1.3861\n",
      "└── TRAINING:\n",
      "    └── learning_rate: 0.000319\n"
     ]
    },
    {
     "name": "stderr",
     "output_type": "stream",
     "text": [
      "[Training LM]:  30%|██▉       | 18636/62438 [39:58<1:21:40,  8.94it/s, acc_step=1/1, ce_loss_token=0.3430, lr=0.000318, perplexity_token=1.4092] "
     ]
    },
    {
     "ename": "KeyboardInterrupt",
     "evalue": "",
     "output_type": "error",
     "traceback": [
      "\u001b[0;31m---------------------------------------------------------------------------\u001b[0m",
      "\u001b[0;31mKeyboardInterrupt\u001b[0m                         Traceback (most recent call last)",
      "Cell \u001b[0;32mIn[6], line 4\u001b[0m\n\u001b[1;32m      1\u001b[0m trainer\u001b[38;5;241m.\u001b[39mmodel\u001b[38;5;241m.\u001b[39mtrain()\n\u001b[1;32m      3\u001b[0m \u001b[38;5;66;03m#trainer._validate_epoch(val_loader)\u001b[39;00m\n\u001b[0;32m----> 4\u001b[0m \u001b[43mtrainer\u001b[49m\u001b[38;5;241;43m.\u001b[39;49m\u001b[43mtrain_epoch\u001b[49m\u001b[43m(\u001b[49m\n\u001b[1;32m      5\u001b[0m \u001b[43m    \u001b[49m\u001b[43mtrain_dataloader\u001b[49m\u001b[38;5;241;43m=\u001b[39;49m\u001b[43mtrain_loader\u001b[49m\u001b[43m,\u001b[49m\n\u001b[1;32m      6\u001b[0m \u001b[43m    \u001b[49m\u001b[43mval_dataloader\u001b[49m\u001b[38;5;241;43m=\u001b[39;49m\u001b[43mval_loader\u001b[49m\u001b[43m,\u001b[49m\n\u001b[1;32m      7\u001b[0m \u001b[43m)\u001b[49m\n",
      "File \u001b[0;32m/workspace/workspace/Thesis/trainers/GPT_trainer.py:77\u001b[0m, in \u001b[0;36mGPT_Trainer.train_epoch\u001b[0;34m(self, train_dataloader, val_dataloader)\u001b[0m\n\u001b[1;32m     75\u001b[0m batch_tokens \u001b[38;5;241m=\u001b[39m targets_shifted\u001b[38;5;241m.\u001b[39msize(\u001b[38;5;241m0\u001b[39m) \u001b[38;5;241m*\u001b[39m targets_shifted\u001b[38;5;241m.\u001b[39msize(\u001b[38;5;241m1\u001b[39m)\n\u001b[1;32m     76\u001b[0m total_tokens \u001b[38;5;241m+\u001b[39m\u001b[38;5;241m=\u001b[39m batch_tokens\n\u001b[0;32m---> 77\u001b[0m running_ce_loss \u001b[38;5;241m+\u001b[39m\u001b[38;5;241m=\u001b[39m \u001b[43mraw_loss\u001b[49m\u001b[38;5;241;43m.\u001b[39;49m\u001b[43mitem\u001b[49m\u001b[43m(\u001b[49m\u001b[43m)\u001b[49m \u001b[38;5;241m*\u001b[39m batch_tokens\n\u001b[1;32m     79\u001b[0m \u001b[38;5;66;03m# Normalize loss for gradient accumulation\u001b[39;00m\n\u001b[1;32m     80\u001b[0m loss \u001b[38;5;241m=\u001b[39m raw_loss \u001b[38;5;241m/\u001b[39m gradient_accumulation_steps\n",
      "\u001b[0;31mKeyboardInterrupt\u001b[0m: "
     ]
    },
    {
     "name": "stdout",
     "output_type": "stream",
     "text": [
      "Error in callback <bound method _WandbInit._pause_backend of <wandb.sdk.wandb_init._WandbInit object at 0x71f8df7f87f0>> (for post_run_cell):\n"
     ]
    },
    {
     "ename": "BrokenPipeError",
     "evalue": "[Errno 32] Broken pipe",
     "output_type": "error",
     "traceback": [
      "\u001b[0;31m---------------------------------------------------------------------------\u001b[0m",
      "\u001b[0;31mBrokenPipeError\u001b[0m                           Traceback (most recent call last)",
      "File \u001b[0;32m~/miniconda3/envs/env/lib/python3.8/site-packages/wandb/sdk/wandb_init.py:440\u001b[0m, in \u001b[0;36m_WandbInit._pause_backend\u001b[0;34m(self, *args, **kwargs)\u001b[0m\n\u001b[1;32m    438\u001b[0m \u001b[38;5;28;01mif\u001b[39;00m \u001b[38;5;28mself\u001b[39m\u001b[38;5;241m.\u001b[39mbackend\u001b[38;5;241m.\u001b[39minterface \u001b[38;5;129;01mis\u001b[39;00m \u001b[38;5;129;01mnot\u001b[39;00m \u001b[38;5;28;01mNone\u001b[39;00m:\n\u001b[1;32m    439\u001b[0m     logger\u001b[38;5;241m.\u001b[39minfo(\u001b[38;5;124m\"\u001b[39m\u001b[38;5;124mpausing backend\u001b[39m\u001b[38;5;124m\"\u001b[39m)  \u001b[38;5;66;03m# type: ignore\u001b[39;00m\n\u001b[0;32m--> 440\u001b[0m     \u001b[38;5;28;43mself\u001b[39;49m\u001b[38;5;241;43m.\u001b[39;49m\u001b[43mbackend\u001b[49m\u001b[38;5;241;43m.\u001b[39;49m\u001b[43minterface\u001b[49m\u001b[38;5;241;43m.\u001b[39;49m\u001b[43mpublish_pause\u001b[49m\u001b[43m(\u001b[49m\u001b[43m)\u001b[49m\n",
      "File \u001b[0;32m~/miniconda3/envs/env/lib/python3.8/site-packages/wandb/sdk/interface/interface.py:726\u001b[0m, in \u001b[0;36mInterfaceBase.publish_pause\u001b[0;34m(self)\u001b[0m\n\u001b[1;32m    724\u001b[0m \u001b[38;5;28;01mdef\u001b[39;00m\u001b[38;5;250m \u001b[39m\u001b[38;5;21mpublish_pause\u001b[39m(\u001b[38;5;28mself\u001b[39m) \u001b[38;5;241m-\u001b[39m\u001b[38;5;241m>\u001b[39m \u001b[38;5;28;01mNone\u001b[39;00m:\n\u001b[1;32m    725\u001b[0m     pause \u001b[38;5;241m=\u001b[39m pb\u001b[38;5;241m.\u001b[39mPauseRequest()\n\u001b[0;32m--> 726\u001b[0m     \u001b[38;5;28;43mself\u001b[39;49m\u001b[38;5;241;43m.\u001b[39;49m\u001b[43m_publish_pause\u001b[49m\u001b[43m(\u001b[49m\u001b[43mpause\u001b[49m\u001b[43m)\u001b[49m\n",
      "File \u001b[0;32m~/miniconda3/envs/env/lib/python3.8/site-packages/wandb/sdk/interface/interface_shared.py:362\u001b[0m, in \u001b[0;36mInterfaceShared._publish_pause\u001b[0;34m(self, pause)\u001b[0m\n\u001b[1;32m    360\u001b[0m \u001b[38;5;28;01mdef\u001b[39;00m\u001b[38;5;250m \u001b[39m\u001b[38;5;21m_publish_pause\u001b[39m(\u001b[38;5;28mself\u001b[39m, pause: pb\u001b[38;5;241m.\u001b[39mPauseRequest) \u001b[38;5;241m-\u001b[39m\u001b[38;5;241m>\u001b[39m \u001b[38;5;28;01mNone\u001b[39;00m:\n\u001b[1;32m    361\u001b[0m     rec \u001b[38;5;241m=\u001b[39m \u001b[38;5;28mself\u001b[39m\u001b[38;5;241m.\u001b[39m_make_request(pause\u001b[38;5;241m=\u001b[39mpause)\n\u001b[0;32m--> 362\u001b[0m     \u001b[38;5;28;43mself\u001b[39;49m\u001b[38;5;241;43m.\u001b[39;49m\u001b[43m_publish\u001b[49m\u001b[43m(\u001b[49m\u001b[43mrec\u001b[49m\u001b[43m)\u001b[49m\n",
      "File \u001b[0;32m~/miniconda3/envs/env/lib/python3.8/site-packages/wandb/sdk/interface/interface_sock.py:51\u001b[0m, in \u001b[0;36mInterfaceSock._publish\u001b[0;34m(self, record, local)\u001b[0m\n\u001b[1;32m     49\u001b[0m \u001b[38;5;28;01mdef\u001b[39;00m\u001b[38;5;250m \u001b[39m\u001b[38;5;21m_publish\u001b[39m(\u001b[38;5;28mself\u001b[39m, record: \u001b[38;5;124m\"\u001b[39m\u001b[38;5;124mpb.Record\u001b[39m\u001b[38;5;124m\"\u001b[39m, local: Optional[\u001b[38;5;28mbool\u001b[39m] \u001b[38;5;241m=\u001b[39m \u001b[38;5;28;01mNone\u001b[39;00m) \u001b[38;5;241m-\u001b[39m\u001b[38;5;241m>\u001b[39m \u001b[38;5;28;01mNone\u001b[39;00m:\n\u001b[1;32m     50\u001b[0m     \u001b[38;5;28mself\u001b[39m\u001b[38;5;241m.\u001b[39m_assign(record)\n\u001b[0;32m---> 51\u001b[0m     \u001b[38;5;28;43mself\u001b[39;49m\u001b[38;5;241;43m.\u001b[39;49m\u001b[43m_sock_client\u001b[49m\u001b[38;5;241;43m.\u001b[39;49m\u001b[43msend_record_publish\u001b[49m\u001b[43m(\u001b[49m\u001b[43mrecord\u001b[49m\u001b[43m)\u001b[49m\n",
      "File \u001b[0;32m~/miniconda3/envs/env/lib/python3.8/site-packages/wandb/sdk/lib/sock_client.py:222\u001b[0m, in \u001b[0;36mSockClient.send_record_publish\u001b[0;34m(self, record)\u001b[0m\n\u001b[1;32m    220\u001b[0m server_req \u001b[38;5;241m=\u001b[39m spb\u001b[38;5;241m.\u001b[39mServerRequest()\n\u001b[1;32m    221\u001b[0m server_req\u001b[38;5;241m.\u001b[39mrecord_publish\u001b[38;5;241m.\u001b[39mCopyFrom(record)\n\u001b[0;32m--> 222\u001b[0m \u001b[38;5;28;43mself\u001b[39;49m\u001b[38;5;241;43m.\u001b[39;49m\u001b[43msend_server_request\u001b[49m\u001b[43m(\u001b[49m\u001b[43mserver_req\u001b[49m\u001b[43m)\u001b[49m\n",
      "File \u001b[0;32m~/miniconda3/envs/env/lib/python3.8/site-packages/wandb/sdk/lib/sock_client.py:154\u001b[0m, in \u001b[0;36mSockClient.send_server_request\u001b[0;34m(self, msg)\u001b[0m\n\u001b[1;32m    153\u001b[0m \u001b[38;5;28;01mdef\u001b[39;00m\u001b[38;5;250m \u001b[39m\u001b[38;5;21msend_server_request\u001b[39m(\u001b[38;5;28mself\u001b[39m, msg: Any) \u001b[38;5;241m-\u001b[39m\u001b[38;5;241m>\u001b[39m \u001b[38;5;28;01mNone\u001b[39;00m:\n\u001b[0;32m--> 154\u001b[0m     \u001b[38;5;28;43mself\u001b[39;49m\u001b[38;5;241;43m.\u001b[39;49m\u001b[43m_send_message\u001b[49m\u001b[43m(\u001b[49m\u001b[43mmsg\u001b[49m\u001b[43m)\u001b[49m\n",
      "File \u001b[0;32m~/miniconda3/envs/env/lib/python3.8/site-packages/wandb/sdk/lib/sock_client.py:151\u001b[0m, in \u001b[0;36mSockClient._send_message\u001b[0;34m(self, msg)\u001b[0m\n\u001b[1;32m    149\u001b[0m header \u001b[38;5;241m=\u001b[39m struct\u001b[38;5;241m.\u001b[39mpack(\u001b[38;5;124m\"\u001b[39m\u001b[38;5;124m<BI\u001b[39m\u001b[38;5;124m\"\u001b[39m, \u001b[38;5;28mord\u001b[39m(\u001b[38;5;124m\"\u001b[39m\u001b[38;5;124mW\u001b[39m\u001b[38;5;124m\"\u001b[39m), raw_size)\n\u001b[1;32m    150\u001b[0m \u001b[38;5;28;01mwith\u001b[39;00m \u001b[38;5;28mself\u001b[39m\u001b[38;5;241m.\u001b[39m_lock:\n\u001b[0;32m--> 151\u001b[0m     \u001b[38;5;28;43mself\u001b[39;49m\u001b[38;5;241;43m.\u001b[39;49m\u001b[43m_sendall_with_error_handle\u001b[49m\u001b[43m(\u001b[49m\u001b[43mheader\u001b[49m\u001b[43m \u001b[49m\u001b[38;5;241;43m+\u001b[39;49m\u001b[43m \u001b[49m\u001b[43mdata\u001b[49m\u001b[43m)\u001b[49m\n",
      "File \u001b[0;32m~/miniconda3/envs/env/lib/python3.8/site-packages/wandb/sdk/lib/sock_client.py:130\u001b[0m, in \u001b[0;36mSockClient._sendall_with_error_handle\u001b[0;34m(self, data)\u001b[0m\n\u001b[1;32m    128\u001b[0m start_time \u001b[38;5;241m=\u001b[39m time\u001b[38;5;241m.\u001b[39mmonotonic()\n\u001b[1;32m    129\u001b[0m \u001b[38;5;28;01mtry\u001b[39;00m:\n\u001b[0;32m--> 130\u001b[0m     sent \u001b[38;5;241m=\u001b[39m \u001b[38;5;28;43mself\u001b[39;49m\u001b[38;5;241;43m.\u001b[39;49m\u001b[43m_sock\u001b[49m\u001b[38;5;241;43m.\u001b[39;49m\u001b[43msend\u001b[49m\u001b[43m(\u001b[49m\u001b[43mdata\u001b[49m\u001b[43m)\u001b[49m\n\u001b[1;32m    131\u001b[0m     \u001b[38;5;66;03m# sent equal to 0 indicates a closed socket\u001b[39;00m\n\u001b[1;32m    132\u001b[0m     \u001b[38;5;28;01mif\u001b[39;00m sent \u001b[38;5;241m==\u001b[39m \u001b[38;5;241m0\u001b[39m:\n",
      "\u001b[0;31mBrokenPipeError\u001b[0m: [Errno 32] Broken pipe"
     ]
    }
   ],
   "source": [
    "trainer.model.train()\n",
    "\n",
    "#trainer._validate_epoch(val_loader)\n",
    "trainer.train_epoch(\n",
    "    train_dataloader=train_loader,\n",
    "    val_dataloader=val_loader,\n",
    ")"
   ]
  },
  {
   "cell_type": "markdown",
   "id": "2c65b8d8",
   "metadata": {},
   "source": [
    "#### EVAL - Completion Accuracy"
   ]
  },
  {
   "cell_type": "code",
   "execution_count": null,
   "id": "b20c5ec6",
   "metadata": {},
   "outputs": [],
   "source": [
    "from data.grammars import GRAMMAR_CFG3b\n",
    "from data.CFG_parsers import CFGParser\n",
    "parser = CFGParser(GRAMMAR_CFG3b)\n"
   ]
  },
  {
   "cell_type": "code",
   "execution_count": null,
   "id": "22734f60",
   "metadata": {},
   "outputs": [
    {
     "name": "stdout",
     "output_type": "stream",
     "text": [
      "Generating with greedy search...\n"
     ]
    }
   ],
   "source": [
    "generation_config = {\n",
    "                'num_samples': 5,\n",
    "                'prompt_length': 3,\n",
    "                'seed': 100,\n",
    "                #'max_length': self.model.max_len,\n",
    "                'temperature': 1.0,\n",
    "                'beam_width': 1,\n",
    "                'repeat_penalty': 1.0,\n",
    "                'top_k': 0,\n",
    "                'top_p': 0.0    \n",
    "            }\n",
    "results = trainer.generate(val_loader, generation_config)\n"
   ]
  },
  {
   "cell_type": "code",
   "execution_count": null,
   "id": "6226b7d0",
   "metadata": {},
   "outputs": [
    {
     "data": {
      "text/plain": [
       "[{'prompt': '021',\n",
       "  'original': '31233121323212133212311322313121322313211321232313121233122312133211322313121321232313212131233123122131323121322132311233121322133213212311323212131232313211321232313121323212133122311323121322312313121232311323213121232132311233212311233211323122313212311322313121233121322312311323213212131322133211322131233121323212134',\n",
       "  'generated': '3231213124',\n",
       "  'score': -4.347672939300537},\n",
       " {'prompt': '023',\n",
       "  'original': '13211321322313121233212312133211232311233123212131231233122132313121233121322312311323122311233211323212132133211232311233121232313211233122133122131323211322132133121321232313123122311232133211232311233123212131323212311233121322131322133211233122312313211231232133212133211321322313213122311322133211321322133213122131324',\n",
       "  'generated': '1321321323131211321212312312312312133113311133212123221213213213231231313131222313212324',\n",
       "  'score': -29.643213272094727},\n",
       " {'prompt': '023',\n",
       "  'original': '11233211233122131323122312313211323211322131232313212313211321232313213212131232313211231322313211233122131233212132133121321322133123212311322313211322131233211323122313121232133211232312131323211232133123212131232311233211323122311233212132133121323211232312131323123121232311232313212311323211233212133122131233211322134',\n",
       "  'generated': '1231232323131211212321323212323314',\n",
       "  'score': -13.972260475158691},\n",
       " {'prompt': '021',\n",
       "  'original': '33211321322133211233212312313211322131323211233122133122131323121232312311233121323122313211232132131323212133121232311233121323212132133121322131233121323122311323122133121232132131233213212131322133121321232133212133211321232313213122311233121322312311233121233212312133211322311233213212311323121322311322313211323122134',\n",
       "  'generated': '3321213324',\n",
       "  'score': -4.013779163360596},\n",
       " {'prompt': '032',\n",
       "  'original': '11232312311323213122311323211322132131323121233122313212311233121322313121322312311233121232313123122311233212131322313211321322133123122311233211232132311233213121322131232133213122131323211322131232133211323122131232313121233122311323122312313211233121232131232313122313211232131323121232133123212131231323212132133211234',\n",
       "  'generated': '1231321234',\n",
       "  'score': -3.7174975872039795}]"
      ]
     },
     "execution_count": 24,
     "metadata": {},
     "output_type": "execute_result"
    }
   ],
   "source": [
    "results"
   ]
  },
  {
   "cell_type": "code",
   "execution_count": null,
   "id": "0d56e058",
   "metadata": {},
   "outputs": [
    {
     "name": "stdout",
     "output_type": "stream",
     "text": [
      "[{'prompt': '03122112331231213132132321232121312123322131321123323132321312312132131322132123123312213123211232131231313123212112332312123212131312321232132131312312131232321313123121213132123323213213212331212332', 'original': '12132123213131231322132211233213212332132123313232121313231323212112331245555555555555555555555555555555555555555', 'generated': '112331323211231232221313121232113231321123213221121233232131212312312311231213232132132121321323131231212311212132112312', 'score': -29.18068504333496}, {'prompt': '03131221321313121233213123132321313213122131312123312321322131323121312211232132123123312212131312313122132112332123321312321233213213132123312212132123312211232131312123312321323213132313212131231313', 'original': '12321313213123122131312312132321123213123112321312123323212112332321233213221314555555555555555555555555555555555', 'generated': '232131232131212131212312331231321213132313221223131212121213221312313132231213132112321121233122132211233232111331123121', 'score': -27.620519638061523}, {'prompt': '03211233232123321123321312323132131232131213231123322131221123323211231233123213123132121123323121323132132323132121123323121233213121323122131323132131221123312313213213231213132321232132211231233123', 'original': '21323213132131231313232132132313232131213132313221322112312332213212321312321311233213123121233213121323211233124', 'generated': '121121232131312321321213231321311223213132323213121233231231212131123231212112123312213131212132313121232121212332123312', 'score': -22.601137161254883}, {'prompt': '02132123312312131232112331232112332123211233221312321123321312313231321213132213131232312132132123313123211233213232112332123213121233123213123211233123211233231211233122121313231321312322112331312213', 'original': '21312313231213211233123123132131232112332211231233123212131231321233213132132323213132321123321232145555555555555', 'generated': '121312111123123123121213211232131321312123231213111323213212321221312312133121333121313232321231211231211211233212331212', 'score': -27.163406372070312}, {'prompt': '03212321321313232313213213131212321323213231323121312321313121233212131231213132323132132211233122131123312321321312313231212131231312321123312312132321123312123212131312321312123321323131322131232112', 'original': '33132321312321313123121312211233123213112331221313213123213123132313213213132455555555555555555555555555555555555', 'generated': '313231322132121312313121231313221321312313122312211313211233223131321233233123112121213131322321231221312121131231323213', 'score': -29.438730239868164}]\n",
      "03122112331231213132132321232121312123322131321123323132321312312132131322132123123312213123211232131231313123212112332312123212131312321232132131312312131232321313123121213132123323213213212331212332112331323211231232221313121232113231321123213221121233232131212312312311231213232132132121321323131231212311212132112312\n",
      "False\n",
      "03131221321313121233213123132321313213122131312123312321322131323121312211232132123123312212131312313122132112332123321312321233213213132123312212132123312211232131312123312321323213132313212131231313232131232131212131212312331231321213132313221223131212121213221312313132231213132112321121233122132211233232111331123121\n",
      "False\n",
      "03211233232123321123321312323132131232131213231123322131221123323211231233123213123132121123323121323132132323132121123323121233213121323122131323132131221123312313213213231213132321232132211231233123121121232131312321321213231321311223213132323213121233231231212131123231212112123312213131212132313121232121212332123312\n",
      "False\n",
      "02132123312312131232112331232112332123211233221312321123321312313231321213132213131232312132132123313123211233213232112332123213121233123213123211233123211233231211233122121313231321312322112331312213121312111123123123121213211232131321312123231213111323213212321221312312133121333121313232321231211231211211233212331212\n",
      "False\n",
      "03212321321313232313213213131212321323213231323121312321313121233212131231213132323132132211233122131123312321321312313231212131231312321123312312132321123312123212131312321312123321323131322131232112313231322132121312313121231313221321312313122312211313211233223131321233233123112121213131322321231221312121131231323213\n",
      "False\n"
     ]
    }
   ],
   "source": [
    "\n",
    "for res in results: \n",
    "    full = res[\"prompt\"] + res[\"generated\"]\n",
    "    print(full)\n",
    "    if \"5\" in full:\n",
    "        print(parser.is_valid(full[1:full.index(\"5\")-1]))\n",
    "    else:\n",
    "        print(parser.is_valid(full[1:-1]))"
   ]
  },
  {
   "cell_type": "markdown",
   "id": "cfe29f6d",
   "metadata": {},
   "source": [
    "### Attention Analysis"
   ]
  },
  {
   "cell_type": "code",
   "execution_count": 5,
   "id": "4ffa568d",
   "metadata": {},
   "outputs": [],
   "source": [
    "checkpoint = torch.load(\"/workspace/workspace/Thesis/expts/rope_86_0samelen5layers/checkpoints/checkpoint-best-metric-model.pth\")\n",
    "model.load_state_dict(checkpoint['model_state_dict'])\n",
    "model.to(device)\n",
    "\n",
    "model.eval()\n",
    "for i, batch in enumerate(val_loader):\n",
    "      \n",
    "            targets_shifted, targets_golden = batch #shape (batch_size, seq_len)\n",
    "            targets_shifted, targets_golden = targets_shifted.to(device), targets_golden.to(device)\n",
    "\n",
    "            # Forward pass\n",
    "            with torch.inference_mode():\n",
    "               \n",
    "                raw_preds, attn_weights = model.forward(targets_shifted)\n",
    "            break"
   ]
  },
  {
   "cell_type": "code",
   "execution_count": 7,
   "id": "f60b17bc",
   "metadata": {},
   "outputs": [
    {
     "data": {
      "image/png": "[encoded data removed]",
      "text/plain": [
       "<Figure size 1600x1200 with 13 Axes>"
      ]
     },
     "metadata": {},
     "output_type": "display_data"
    }
   ],
   "source": [
    "#attn_weights[\"layer1_dec_self\"][0].shape\n",
    "from matplotlib import pyplot as plt\n",
    "import seaborn as sns\n",
    "heads = attn_weights[\"layer2_dec_self\"].cpu()\n",
    "heads = heads.mean(dim = 0).numpy()\n",
    "\n",
    "n_heads, T, _ = heads.shape\n",
    "rows, cols = 3, 4\n",
    "fig, axes = plt.subplots(rows, cols, figsize=(cols*4, rows*4), \n",
    "                         sharex=True, sharey=True)\n",
    "\n",
    "for i, ax in enumerate(axes.flatten()):\n",
    "    if i < n_heads:\n",
    "        data = heads[i]\n",
    "        sns.heatmap(\n",
    "            data,\n",
    "            cmap=\"viridis\", cbar=(i==n_heads-1),  # only draw one colorbar\n",
    "            ax=ax,\n",
    "            xticklabels=False,\n",
    "            yticklabels=False\n",
    "        )\n",
    "        ax.set_title(f\"Head {i}\", fontsize=10)\n",
    "    else:\n",
    "        ax.axis(\"off\")\n",
    "\n",
    "fig.suptitle(\"Layer1 Self-Attention Heads\", fontsize=16)\n",
    "fig.tight_layout(rect=[0, 0, 1, 0.95])\n",
    "plt.show()\n"
   ]
  },
  {
   "cell_type": "code",
   "execution_count": null,
   "id": "05fde246",
   "metadata": {},
   "outputs": [],
   "source": []
  }
 ],
 "metadata": {
  "kernelspec": {
   "display_name": "env",
   "language": "python",
   "name": "python3"
  },
  "language_info": {
   "codemirror_mode": {
    "name": "ipython",
    "version": 3
   },
   "file_extension": ".py",
   "mimetype": "text/x-python",
   "name": "python",
   "nbconvert_exporter": "python",
   "pygments_lexer": "ipython3",
   "version": "3.8.2"
  }
 },
 "nbformat": 4,
 "nbformat_minor": 5
}
