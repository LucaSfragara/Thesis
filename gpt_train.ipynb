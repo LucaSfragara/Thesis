{
 "cells": [
  {
   "cell_type": "code",
   "execution_count": 1,
   "id": "11c7c357",
   "metadata": {},
   "outputs": [],
   "source": [
    "%load_ext autoreload\n",
    "%autoreload 2"
   ]
  },
  {
   "cell_type": "code",
   "execution_count": 2,
   "id": "1420f1ea",
   "metadata": {},
   "outputs": [
    {
     "name": "stdout",
     "output_type": "stream",
     "text": [
      "Using device: cuda\n",
      "Config loaded successfully.\n"
     ]
    }
   ],
   "source": [
    "from models.transformers import DecoderOnlyTransformer\n",
    "import torch\n",
    "from torch.utils.data import DataLoader\n",
    "import matplotlib.pyplot as plt\n",
    "import yaml\n",
    "import gc\n",
    "import torch\n",
    "from torchinfo import summary\n",
    "import os\n",
    "import json\n",
    "import shutil\n",
    "import wandb\n",
    "import yaml\n",
    "from data.datasets import CFGDataset, verify_dataloader\n",
    "from trainers.GPT_trainer import GPT_Trainer\n",
    "from trainers.utils import create_optimizer, create_scheduler\n",
    "\n",
    "\n",
    "\n",
    "\n",
    "device = \"cuda\" if torch.cuda.is_available() else \"cpu\"\n",
    "print(f\"Using device: {device}\")\n",
    "\n",
    "#Read config yaml file\n",
    "with open(\"config.yaml\", \"r\") as f:\n",
    "    config = yaml.safe_load(f)\n",
    "print(f\"Config loaded successfully.\")\n",
    "\n"
   ]
  },
  {
   "cell_type": "markdown",
   "id": "0f46d0e9",
   "metadata": {},
   "source": [
    "#### Loading Data"
   ]
  },
  {
   "cell_type": "code",
   "execution_count": 3,
   "id": "1b809426",
   "metadata": {},
   "outputs": [
    {
     "name": "stdout",
     "output_type": "stream",
     "text": [
      "Verifying dataloader...\n",
      "data subset:  0.1\n",
      "Number of batches:  42\n",
      "Total number of tokens:  1.110457e+07\n",
      "Example batch shapes (shifted, golden):  torch.Size([512, 512]) torch.Size([512, 512])\n"
     ]
    }
   ],
   "source": [
    "train_dataset =  CFGDataset(\n",
    "    data_file=\"cfg_sentences_train_cfg3b.pkl\", \n",
    "    subset = config[\"data\"][\"subset\"], \n",
    "    batch_size = config[\"data\"][\"batch_size\"],\n",
    "    seq_len = config[\"data\"][\"seq_len\"],\n",
    "    eos_token = config[\"data\"][\"eos_token\"],\n",
    "    sos_token = config[\"data\"][\"sos_token\"],\n",
    "    ) \n",
    "\n",
    "val_dataset =  CFGDataset(\n",
    "    data_file=\"cfg_sentences_val_cfg3b.pkl\", \n",
    "    subset = config[\"data\"][\"subset\"], \n",
    "    batch_size = config[\"data\"][\"batch_size\"],\n",
    "    seq_len = config[\"data\"][\"seq_len\"],\n",
    "    eos_token = config[\"data\"][\"eos_token\"],\n",
    "    sos_token = config[\"data\"][\"sos_token\"],\n",
    "    ) \n",
    "\n",
    "\n",
    "train_loader = DataLoader(train_dataset, \n",
    "                          batch_size = None, \n",
    "                          num_workers=config[\"data\"][\"NUM_WORKERS\"] if device == \"cuda\" else 0, \n",
    "                          pin_memory=True)\n",
    "\n",
    "val_loader = DataLoader(val_dataset, \n",
    "                        batch_size=None, \n",
    "                        num_workers=config[\"data\"][\"NUM_WORKERS\"] if device == \"cuda\" else 0,\n",
    "                        pin_memory=True)\n",
    "\n",
    "verify_dataloader(train_loader)\n",
    "#print(\"=\"*50)\n",
    "#print(\"Verify Validation DataLoader\")\n",
    "#verify_dataloader(val_loader)"
   ]
  },
  {
   "cell_type": "code",
   "execution_count": 4,
   "id": "ff351c1b",
   "metadata": {},
   "outputs": [
    {
     "name": "stdout",
     "output_type": "stream",
     "text": [
      "Model Config :  {'d_model': 10, 'd_ff': 10, 'num_layers': 1, 'num_heads': 10, 'dropout': 0.0, 'layer_drop_rate': 0.0, 'weight_tying': False}\n"
     ]
    },
    {
     "name": "stdout",
     "output_type": "stream",
     "text": [
      "Shape of shifted_transcripts :  torch.Size([512, 512])\n",
      "Shape of golden_transcripts  :  torch.Size([512, 512])\n",
      "Total parameters in the model :  825\n"
     ]
    }
   ],
   "source": [
    "model_config = {}\n",
    "model_config = config['model'].copy()\n",
    "print(\"Model Config : \", model_config)\n",
    "model_config.update({\n",
    "    'num_classes': config[\"data\"][\"vocab_size\"] +2 ,#include SOS and ESO tolen\n",
    "    'seq_len': config[\"data\"][\"seq_len\"],\n",
    "    })\n",
    "\n",
    "model = DecoderOnlyTransformer(**model_config)\n",
    "\n",
    "for batch in train_loader:\n",
    "    shifted_transcripts, golden_transcripts = batch\n",
    "    print(\"Shape of shifted_transcripts : \", shifted_transcripts.shape)\n",
    "    print(\"Shape of golden_transcripts  : \", golden_transcripts.shape)\n",
    "    break\n",
    "\n",
    "#model_stats = summary(model, input_data=[shifted_transcripts])\n",
    "#print(model_stats)\n",
    "print(\"Total parameters in the model : \", sum(p.numel() for p in model.parameters()))"
   ]
  },
  {
   "cell_type": "code",
   "execution_count": 5,
   "id": "50faa61a",
   "metadata": {},
   "outputs": [
    {
     "name": "stdout",
     "output_type": "stream",
     "text": [
      "Using device: cuda\n"
     ]
    }
   ],
   "source": [
    "trainer = GPT_Trainer(\n",
    "    model = model, \n",
    "    config = config,\n",
    "    config_file = \"config.yaml\",\n",
    "    run_name = \"test\", \n",
    "    device = device\n",
    ")"
   ]
  },
  {
   "cell_type": "code",
   "execution_count": 6,
   "id": "9a9c587b",
   "metadata": {},
   "outputs": [
    {
     "name": "stdout",
     "output_type": "stream",
     "text": [
      "\n",
      "🔧 Configuring Optimizer:\n",
      "├── Type: ADAMW\n",
      "├── Base LR: 0.0007\n",
      "├── Weight Decay: 0.1\n",
      "├── Parameter Groups:\n",
      "│   ├── Group: self_attn\n",
      "│   │   ├── LR: 0.0007\n",
      "│   │   └── Patterns: []\n",
      "│   ├── Group: ffn\n",
      "│   │   ├── LR: 0.0007\n",
      "│   │   └── Patterns: []\n",
      "│   └── Default Group (unmatched parameters)\n",
      "└── AdamW Specific:\n",
      "    ├── Betas: [0.9, 0.98]\n",
      "    ├── Epsilon: 1e-08\n",
      "    └── AMSGrad: False\n"
     ]
    },
    {
     "name": "stderr",
     "output_type": "stream",
     "text": [
      "/jet/home/sfragara/.conda/envs/env/lib/python3.8/site-packages/tqdm/auto.py:21: TqdmWarning: IProgress not found. Please update jupyter and ipywidgets. See https://ipywidgets.readthedocs.io/en/stable/user_install.html\n",
      "  from .autonotebook import tqdm as notebook_tqdm\n"
     ]
    },
    {
     "name": "stdout",
     "output_type": "stream",
     "text": [
      "\n",
      "📈 Configuring Learning Rate Scheduler:\n",
      "├── Type: COSINE\n",
      "├── Cosine Annealing Settings:\n",
      "│   ├── T_max: 42 steps\n",
      "│   └── Min LR: 1e-08\n",
      "├── Warmup Settings:\n",
      "│   ├── Duration: 5 epochs (210 steps)\n",
      "│   ├── Start Factor: 0.1\n",
      "│   └── End Factor: 1.0\n",
      "Warning: Only showing 5 out of 17 parameter groups for clarity\n"
     ]
    },
    {
     "name": "stderr",
     "output_type": "stream",
     "text": [
      "/jet/home/sfragara/.conda/envs/env/lib/python3.8/site-packages/torch/optim/lr_scheduler.py:149: UserWarning: The epoch parameter in `scheduler.step()` was not necessary and is being deprecated where possible. Please use `scheduler.step()` to step the scheduler. During the deprecation, if epoch is different from None, the closed form is used instead of the new chainable form, where available. Please open an issue if you are unable to replicate your use case: https://github.com/pytorch/pytorch/issues/new/choose.\n",
      "  warnings.warn(EPOCH_DEPRECATION_WARNING, UserWarning)\n"
     ]
    },
    {
     "data": {
      "image/png": "[encoded data removed]",
      "text/plain": [
       "<Figure size 1200x400 with 1 Axes>"
      ]
     },
     "metadata": {},
     "output_type": "display_data"
    }
   ],
   "source": [
    "trainer.optimizer = create_optimizer.create_optimizer(\n",
    "    model = model, \n",
    "    opt_config = config[\"optimizer\"]\n",
    ")\n",
    "\n",
    "trainer.scheduler = create_scheduler.create_scheduler(\n",
    "    optimizer=trainer.optimizer,\n",
    "    scheduler_config=config['scheduler'],\n",
    "    train_loader=train_loader,\n",
    "    gradient_accumulation_steps=config['training']['gradient_accumulation_steps']\n",
    ")\n",
    "\n",
    "\n",
    "create_scheduler.plot_lr_schedule(\n",
    "    scheduler=trainer.scheduler,\n",
    "    num_epochs=len(train_loader),\n",
    "    train_loader=train_loader,\n",
    "    gradient_accumulation_steps=config['training']['gradient_accumulation_steps']\n",
    ")\n"
   ]
  },
  {
   "cell_type": "code",
   "execution_count": 7,
   "id": "86c5c200",
   "metadata": {},
   "outputs": [
    {
     "name": "stderr",
     "output_type": "stream",
     "text": [
      "[Training LM]:   0%|                                                                                                   | 0/42 [00:00<?, ?it/s]"
     ]
    },
    {
     "name": "stderr",
     "output_type": "stream",
     "text": [
      "                                                                                                                                              \r"
     ]
    },
    {
     "name": "stdout",
     "output_type": "stream",
     "text": [
      "\n",
      "📊 Metrics (Epoch 0):\n",
      "├── TRAIN:\n",
      "│   ├── ce_loss_token: 1.9192\n",
      "│   └── perplexity_token: 6.8154\n",
      "└── VAL:\n",
      "    ├── ce_loss_token: 1.9183\n",
      "    └── perplexity_token: 6.8091\n",
      "└── TRAINING:\n",
      "    └── learning_rate: 0.000228\n"
     ]
    },
    {
     "name": "stderr",
     "output_type": "stream",
     "text": [
      "                                                                                                                                              \r"
     ]
    },
    {
     "name": "stdout",
     "output_type": "stream",
     "text": [
      "\n",
      "📊 Metrics (Epoch 1):\n",
      "├── TRAIN:\n",
      "│   ├── ce_loss_token: 1.9184\n",
      "│   └── perplexity_token: 6.8098\n",
      "└── VAL:\n",
      "    ├── ce_loss_token: 1.9155\n",
      "    └── perplexity_token: 6.7904\n",
      "└── TRAINING:\n",
      "    └── learning_rate: 0.000385\n"
     ]
    },
    {
     "name": "stderr",
     "output_type": "stream",
     "text": [
      "                                                                                                                                              \r"
     ]
    },
    {
     "name": "stdout",
     "output_type": "stream",
     "text": [
      "\n",
      "📊 Metrics (Epoch 2):\n",
      "├── TRAIN:\n",
      "│   ├── ce_loss_token: 1.9172\n",
      "│   └── perplexity_token: 6.8018\n",
      "└── VAL:\n",
      "    ├── ce_loss_token: 1.9108\n",
      "    └── perplexity_token: 6.7588\n",
      "└── TRAINING:\n",
      "    └── learning_rate: 0.000543\n"
     ]
    },
    {
     "name": "stderr",
     "output_type": "stream",
     "text": [
      "/jet/home/sfragara/.conda/envs/env/lib/python3.8/site-packages/torch/optim/lr_scheduler.py:149: UserWarning: The epoch parameter in `scheduler.step()` was not necessary and is being deprecated where possible. Please use `scheduler.step()` to step the scheduler. During the deprecation, if epoch is different from None, the closed form is used instead of the new chainable form, where available. Please open an issue if you are unable to replicate your use case: https://github.com/pytorch/pytorch/issues/new/choose.\n",
      "  warnings.warn(EPOCH_DEPRECATION_WARNING, UserWarning)\n",
      "                                                                                                                                              \r"
     ]
    },
    {
     "name": "stdout",
     "output_type": "stream",
     "text": [
      "\n",
      "📊 Metrics (Epoch 3):\n",
      "├── TRAIN:\n",
      "│   ├── ce_loss_token: 1.9155\n",
      "│   └── perplexity_token: 6.7903\n",
      "└── VAL:\n",
      "    ├── ce_loss_token: 1.9043\n",
      "    └── perplexity_token: 6.7147\n",
      "└── TRAINING:\n",
      "    └── learning_rate: 0.000700\n"
     ]
    },
    {
     "name": "stderr",
     "output_type": "stream",
     "text": [
      "                                                                                                                                              \r"
     ]
    },
    {
     "name": "stdout",
     "output_type": "stream",
     "text": [
      "\n",
      "📊 Metrics (Epoch 4):\n",
      "├── TRAIN:\n",
      "│   ├── ce_loss_token: 1.9133\n",
      "│   └── perplexity_token: 6.7757\n",
      "└── VAL:\n",
      "    ├── ce_loss_token: 1.8959\n",
      "    └── perplexity_token: 6.6586\n",
      "└── TRAINING:\n",
      "    └── learning_rate: 0.000699\n"
     ]
    },
    {
     "name": "stderr",
     "output_type": "stream",
     "text": [
      "                                                                                                                                              \r"
     ]
    },
    {
     "name": "stdout",
     "output_type": "stream",
     "text": [
      "\n",
      "📊 Metrics (Epoch 5):\n",
      "├── TRAIN:\n",
      "│   ├── ce_loss_token: 1.9105\n",
      "│   └── perplexity_token: 6.7567\n",
      "└── VAL:\n",
      "    ├── ce_loss_token: 1.8876\n",
      "    └── perplexity_token: 6.6032\n",
      "└── TRAINING:\n",
      "    └── learning_rate: 0.000696\n"
     ]
    },
    {
     "name": "stderr",
     "output_type": "stream",
     "text": [
      "                                                                                                                                              \r"
     ]
    },
    {
     "name": "stdout",
     "output_type": "stream",
     "text": [
      "\n",
      "📊 Metrics (Epoch 6):\n",
      "├── TRAIN:\n",
      "│   ├── ce_loss_token: 1.9072\n",
      "│   └── perplexity_token: 6.7342\n",
      "└── VAL:\n",
      "    ├── ce_loss_token: 1.8793\n",
      "    └── perplexity_token: 6.5488\n",
      "└── TRAINING:\n",
      "    └── learning_rate: 0.000691\n"
     ]
    },
    {
     "name": "stderr",
     "output_type": "stream",
     "text": [
      "                                                                                                                                              \r"
     ]
    },
    {
     "name": "stdout",
     "output_type": "stream",
     "text": [
      "\n",
      "📊 Metrics (Epoch 7):\n",
      "├── TRAIN:\n",
      "│   ├── ce_loss_token: 1.9037\n",
      "│   └── perplexity_token: 6.7108\n",
      "└── VAL:\n",
      "    ├── ce_loss_token: 1.8711\n",
      "    └── perplexity_token: 6.4955\n",
      "└── TRAINING:\n",
      "    └── learning_rate: 0.000684\n"
     ]
    },
    {
     "name": "stderr",
     "output_type": "stream",
     "text": [
      "                                                                                                                                              \r"
     ]
    },
    {
     "name": "stdout",
     "output_type": "stream",
     "text": [
      "\n",
      "📊 Metrics (Epoch 8):\n",
      "├── TRAIN:\n",
      "│   ├── ce_loss_token: 1.9001\n",
      "│   └── perplexity_token: 6.6864\n",
      "└── VAL:\n",
      "    ├── ce_loss_token: 1.8631\n",
      "    └── perplexity_token: 6.4435\n",
      "└── TRAINING:\n",
      "    └── learning_rate: 0.000676\n"
     ]
    },
    {
     "name": "stderr",
     "output_type": "stream",
     "text": [
      "                                                                                                                                              \r"
     ]
    },
    {
     "name": "stdout",
     "output_type": "stream",
     "text": [
      "\n",
      "📊 Metrics (Epoch 9):\n",
      "├── TRAIN:\n",
      "│   ├── ce_loss_token: 1.8963\n",
      "│   └── perplexity_token: 6.6612\n",
      "└── VAL:\n",
      "    ├── ce_loss_token: 1.8552\n",
      "    └── perplexity_token: 6.3927\n",
      "└── TRAINING:\n",
      "    └── learning_rate: 0.000665\n"
     ]
    },
    {
     "name": "stderr",
     "output_type": "stream",
     "text": [
      "                                                                                                                                              \r"
     ]
    },
    {
     "name": "stdout",
     "output_type": "stream",
     "text": [
      "\n",
      "📊 Metrics (Epoch 10):\n",
      "├── TRAIN:\n",
      "│   ├── ce_loss_token: 1.8926\n",
      "│   └── perplexity_token: 6.6363\n",
      "└── VAL:\n",
      "    ├── ce_loss_token: 1.8474\n",
      "    └── perplexity_token: 6.3434\n",
      "└── TRAINING:\n",
      "    └── learning_rate: 0.000653\n"
     ]
    },
    {
     "name": "stderr",
     "output_type": "stream",
     "text": [
      "                                                                                                                                              \r"
     ]
    },
    {
     "name": "stdout",
     "output_type": "stream",
     "text": [
      "\n",
      "📊 Metrics (Epoch 11):\n",
      "├── TRAIN:\n",
      "│   ├── ce_loss_token: 1.8888\n",
      "│   └── perplexity_token: 6.6112\n",
      "└── VAL:\n",
      "    ├── ce_loss_token: 1.8399\n",
      "    └── perplexity_token: 6.2956\n",
      "└── TRAINING:\n",
      "    └── learning_rate: 0.000639\n"
     ]
    },
    {
     "name": "stderr",
     "output_type": "stream",
     "text": [
      "                                                                                                                                              \r"
     ]
    },
    {
     "name": "stdout",
     "output_type": "stream",
     "text": [
      "\n",
      "📊 Metrics (Epoch 12):\n",
      "├── TRAIN:\n",
      "│   ├── ce_loss_token: 1.8850\n",
      "│   └── perplexity_token: 6.5864\n",
      "└── VAL:\n",
      "    ├── ce_loss_token: 1.8325\n",
      "    └── perplexity_token: 6.2494\n",
      "└── TRAINING:\n",
      "    └── learning_rate: 0.000624\n"
     ]
    },
    {
     "name": "stderr",
     "output_type": "stream",
     "text": [
      "                                                                                                                                              \r"
     ]
    },
    {
     "name": "stdout",
     "output_type": "stream",
     "text": [
      "\n",
      "📊 Metrics (Epoch 13):\n",
      "├── TRAIN:\n",
      "│   ├── ce_loss_token: 1.8812\n",
      "│   └── perplexity_token: 6.5616\n",
      "└── VAL:\n",
      "    ├── ce_loss_token: 1.8253\n",
      "    └── perplexity_token: 6.2048\n",
      "└── TRAINING:\n",
      "    └── learning_rate: 0.000607\n"
     ]
    },
    {
     "name": "stderr",
     "output_type": "stream",
     "text": [
      "                                                                                                                                              \r"
     ]
    },
    {
     "name": "stdout",
     "output_type": "stream",
     "text": [
      "\n",
      "📊 Metrics (Epoch 14):\n",
      "├── TRAIN:\n",
      "│   ├── ce_loss_token: 1.8775\n",
      "│   └── perplexity_token: 6.5373\n",
      "└── VAL:\n",
      "    ├── ce_loss_token: 1.8184\n",
      "    └── perplexity_token: 6.1620\n",
      "└── TRAINING:\n",
      "    └── learning_rate: 0.000588\n"
     ]
    },
    {
     "name": "stderr",
     "output_type": "stream",
     "text": [
      "                                                                                                                                              \r"
     ]
    },
    {
     "name": "stdout",
     "output_type": "stream",
     "text": [
      "\n",
      "📊 Metrics (Epoch 15):\n",
      "├── TRAIN:\n",
      "│   ├── ce_loss_token: 1.8738\n",
      "│   └── perplexity_token: 6.5132\n",
      "└── VAL:\n",
      "    ├── ce_loss_token: 1.8117\n",
      "    └── perplexity_token: 6.1208\n",
      "└── TRAINING:\n",
      "    └── learning_rate: 0.000568\n"
     ]
    },
    {
     "name": "stderr",
     "output_type": "stream",
     "text": [
      "[Validating LM]:   0%|                                                                                                 | 0/42 [00:00<?, ?it/s]Exception in thread Thread-26:\n",
      "Traceback (most recent call last):\n",
      "  File \"/jet/home/sfragara/.conda/envs/env/lib/python3.8/threading.py\", line 932, in _bootstrap_inner\n",
      "    self.run()\n",
      "  File \"/jet/home/sfragara/.conda/envs/env/lib/python3.8/site-packages/ipykernel/ipkernel.py\", line 766, in run_closure\n",
      "    _threading_Thread_run(self)\n",
      "  File \"/jet/home/sfragara/.conda/envs/env/lib/python3.8/threading.py\", line 870, in run\n",
      "    self._target(*self._args, **self._kwargs)\n",
      "  File \"/jet/home/sfragara/.conda/envs/env/lib/python3.8/site-packages/torch/utils/data/_utils/pin_memory.py\", line 54, in _pin_memory_loop\n",
      "    do_one_step()\n",
      "  File \"/jet/home/sfragara/.conda/envs/env/lib/python3.8/site-packages/torch/utils/data/_utils/pin_memory.py\", line 31, in do_one_step\n",
      "    r = in_queue.get(timeout=MP_STATUS_CHECK_INTERVAL)\n",
      "  File \"/jet/home/sfragara/.conda/envs/env/lib/python3.8/multiprocessing/queues.py\", line 116, in get\n",
      "    return _ForkingPickler.loads(res)\n",
      "  File \"/jet/home/sfragara/.conda/envs/env/lib/python3.8/site-packages/torch/multiprocessing/reductions.py\", line 355, in rebuild_storage_fd\n",
      "    fd = df.detach()\n",
      "  File \"/jet/home/sfragara/.conda/envs/env/lib/python3.8/multiprocessing/resource_sharer.py\", line 57, in detach\n",
      "    with _resource_sharer.get_connection(self._id) as conn:\n",
      "  File \"/jet/home/sfragara/.conda/envs/env/lib/python3.8/multiprocessing/resource_sharer.py\", line 87, in get_connection\n",
      "    c = Client(address, authkey=process.current_process().authkey)\n",
      "  File \"/jet/home/sfragara/.conda/envs/env/lib/python3.8/multiprocessing/connection.py\", line 502, in Client\n",
      "    c = SocketClient(address)\n",
      "  File \"/jet/home/sfragara/.conda/envs/env/lib/python3.8/multiprocessing/connection.py\", line 630, in SocketClient\n",
      "    s.connect(address)\n",
      "FileNotFoundError: [Errno 2] No such file or directory\n"
     ]
    },
    {
     "ename": "KeyboardInterrupt",
     "evalue": "",
     "output_type": "error",
     "traceback": [
      "\u001b[0;31m---------------------------------------------------------------------------\u001b[0m",
      "\u001b[0;31mKeyboardInterrupt\u001b[0m                         Traceback (most recent call last)",
      "Cell \u001b[0;32mIn[7], line 1\u001b[0m\n\u001b[0;32m----> 1\u001b[0m \u001b[43mtrainer\u001b[49m\u001b[38;5;241;43m.\u001b[39;49m\u001b[43mtrain_epoch\u001b[49m\u001b[43m(\u001b[49m\n\u001b[1;32m      2\u001b[0m \u001b[43m    \u001b[49m\u001b[43mtrain_dataloader\u001b[49m\u001b[38;5;241;43m=\u001b[39;49m\u001b[43mtrain_loader\u001b[49m\u001b[43m,\u001b[49m\n\u001b[1;32m      3\u001b[0m \u001b[43m    \u001b[49m\u001b[43mval_dataloader\u001b[49m\u001b[38;5;241;43m=\u001b[39;49m\u001b[43mval_loader\u001b[49m\u001b[43m,\u001b[49m\n\u001b[1;32m      4\u001b[0m \u001b[43m)\u001b[49m\n",
      "File \u001b[0;32m/ocean/projects/cis250019p/sfragara/lstm/trainers/GPT_trainer.py:106\u001b[0m, in \u001b[0;36mGPT_Trainer.train_epoch\u001b[0;34m(self, train_dataloader, val_dataloader)\u001b[0m\n\u001b[1;32m    103\u001b[0m avg_ce_loss \u001b[38;5;241m=\u001b[39m running_ce_loss \u001b[38;5;241m/\u001b[39m total_tokens\n\u001b[1;32m    104\u001b[0m avg_perplexity_token \u001b[38;5;241m=\u001b[39m torch\u001b[38;5;241m.\u001b[39mexp(torch\u001b[38;5;241m.\u001b[39mtensor(avg_ce_loss))\n\u001b[0;32m--> 106\u001b[0m val_metrics, val_attn \u001b[38;5;241m=\u001b[39m \u001b[38;5;28;43mself\u001b[39;49m\u001b[38;5;241;43m.\u001b[39;49m\u001b[43m_validate_epoch\u001b[49m\u001b[43m(\u001b[49m\u001b[43mval_dataloader\u001b[49m\u001b[43m)\u001b[49m\n\u001b[1;32m    108\u001b[0m train_metrics \u001b[38;5;241m=\u001b[39m {\n\u001b[1;32m    109\u001b[0m     \u001b[38;5;124m'\u001b[39m\u001b[38;5;124mce_loss_token\u001b[39m\u001b[38;5;124m'\u001b[39m: avg_ce_loss,\n\u001b[1;32m    110\u001b[0m     \u001b[38;5;124m'\u001b[39m\u001b[38;5;124mperplexity_token\u001b[39m\u001b[38;5;124m'\u001b[39m: avg_perplexity_token\u001b[38;5;241m.\u001b[39mitem(),\n\u001b[1;32m    111\u001b[0m }\n\u001b[1;32m    113\u001b[0m \u001b[38;5;66;03m# Log metrics\u001b[39;00m\n",
      "File \u001b[0;32m/ocean/projects/cis250019p/sfragara/lstm/trainers/GPT_trainer.py:178\u001b[0m, in \u001b[0;36mGPT_Trainer._validate_epoch\u001b[0;34m(self, dataloader)\u001b[0m\n\u001b[1;32m    175\u001b[0m running_ce_loss \u001b[38;5;241m=\u001b[39m \u001b[38;5;241m0.0\u001b[39m\n\u001b[1;32m    176\u001b[0m total_tokens \u001b[38;5;241m=\u001b[39m \u001b[38;5;241m0\u001b[39m\n\u001b[0;32m--> 178\u001b[0m \u001b[38;5;28;01mfor\u001b[39;00m i, batch \u001b[38;5;129;01min\u001b[39;00m \u001b[38;5;28menumerate\u001b[39m(dataloader):\n\u001b[1;32m    181\u001b[0m     targets_shifted, targets_golden \u001b[38;5;241m=\u001b[39m batch \u001b[38;5;66;03m#shape (batch_size, seq_len)\u001b[39;00m\n\u001b[1;32m    182\u001b[0m     targets_shifted, targets_golden \u001b[38;5;241m=\u001b[39m targets_shifted\u001b[38;5;241m.\u001b[39mto(\u001b[38;5;28mself\u001b[39m\u001b[38;5;241m.\u001b[39mdevice), targets_golden\u001b[38;5;241m.\u001b[39mto(\u001b[38;5;28mself\u001b[39m\u001b[38;5;241m.\u001b[39mdevice)\n",
      "File \u001b[0;32m~/.conda/envs/env/lib/python3.8/site-packages/torch/utils/data/dataloader.py:630\u001b[0m, in \u001b[0;36m_BaseDataLoaderIter.__next__\u001b[0;34m(self)\u001b[0m\n\u001b[1;32m    627\u001b[0m \u001b[38;5;28;01mif\u001b[39;00m \u001b[38;5;28mself\u001b[39m\u001b[38;5;241m.\u001b[39m_sampler_iter \u001b[38;5;129;01mis\u001b[39;00m \u001b[38;5;28;01mNone\u001b[39;00m:\n\u001b[1;32m    628\u001b[0m     \u001b[38;5;66;03m# TODO(https://github.com/pytorch/pytorch/issues/76750)\u001b[39;00m\n\u001b[1;32m    629\u001b[0m     \u001b[38;5;28mself\u001b[39m\u001b[38;5;241m.\u001b[39m_reset()  \u001b[38;5;66;03m# type: ignore[call-arg]\u001b[39;00m\n\u001b[0;32m--> 630\u001b[0m data \u001b[38;5;241m=\u001b[39m \u001b[38;5;28;43mself\u001b[39;49m\u001b[38;5;241;43m.\u001b[39;49m\u001b[43m_next_data\u001b[49m\u001b[43m(\u001b[49m\u001b[43m)\u001b[49m\n\u001b[1;32m    631\u001b[0m \u001b[38;5;28mself\u001b[39m\u001b[38;5;241m.\u001b[39m_num_yielded \u001b[38;5;241m+\u001b[39m\u001b[38;5;241m=\u001b[39m \u001b[38;5;241m1\u001b[39m\n\u001b[1;32m    632\u001b[0m \u001b[38;5;28;01mif\u001b[39;00m \u001b[38;5;28mself\u001b[39m\u001b[38;5;241m.\u001b[39m_dataset_kind \u001b[38;5;241m==\u001b[39m _DatasetKind\u001b[38;5;241m.\u001b[39mIterable \u001b[38;5;129;01mand\u001b[39;00m \\\n\u001b[1;32m    633\u001b[0m         \u001b[38;5;28mself\u001b[39m\u001b[38;5;241m.\u001b[39m_IterableDataset_len_called \u001b[38;5;129;01mis\u001b[39;00m \u001b[38;5;129;01mnot\u001b[39;00m \u001b[38;5;28;01mNone\u001b[39;00m \u001b[38;5;129;01mand\u001b[39;00m \\\n\u001b[1;32m    634\u001b[0m         \u001b[38;5;28mself\u001b[39m\u001b[38;5;241m.\u001b[39m_num_yielded \u001b[38;5;241m>\u001b[39m \u001b[38;5;28mself\u001b[39m\u001b[38;5;241m.\u001b[39m_IterableDataset_len_called:\n",
      "File \u001b[0;32m~/.conda/envs/env/lib/python3.8/site-packages/torch/utils/data/dataloader.py:1328\u001b[0m, in \u001b[0;36m_MultiProcessingDataLoaderIter._next_data\u001b[0;34m(self)\u001b[0m\n\u001b[1;32m   1325\u001b[0m     \u001b[38;5;28;01mreturn\u001b[39;00m \u001b[38;5;28mself\u001b[39m\u001b[38;5;241m.\u001b[39m_process_data(data)\n\u001b[1;32m   1327\u001b[0m \u001b[38;5;28;01massert\u001b[39;00m \u001b[38;5;129;01mnot\u001b[39;00m \u001b[38;5;28mself\u001b[39m\u001b[38;5;241m.\u001b[39m_shutdown \u001b[38;5;129;01mand\u001b[39;00m \u001b[38;5;28mself\u001b[39m\u001b[38;5;241m.\u001b[39m_tasks_outstanding \u001b[38;5;241m>\u001b[39m \u001b[38;5;241m0\u001b[39m\n\u001b[0;32m-> 1328\u001b[0m idx, data \u001b[38;5;241m=\u001b[39m \u001b[38;5;28;43mself\u001b[39;49m\u001b[38;5;241;43m.\u001b[39;49m\u001b[43m_get_data\u001b[49m\u001b[43m(\u001b[49m\u001b[43m)\u001b[49m\n\u001b[1;32m   1329\u001b[0m \u001b[38;5;28mself\u001b[39m\u001b[38;5;241m.\u001b[39m_tasks_outstanding \u001b[38;5;241m-\u001b[39m\u001b[38;5;241m=\u001b[39m \u001b[38;5;241m1\u001b[39m\n\u001b[1;32m   1330\u001b[0m \u001b[38;5;28;01mif\u001b[39;00m \u001b[38;5;28mself\u001b[39m\u001b[38;5;241m.\u001b[39m_dataset_kind \u001b[38;5;241m==\u001b[39m _DatasetKind\u001b[38;5;241m.\u001b[39mIterable:\n\u001b[1;32m   1331\u001b[0m     \u001b[38;5;66;03m# Check for _IterableDatasetStopIteration\u001b[39;00m\n",
      "File \u001b[0;32m~/.conda/envs/env/lib/python3.8/site-packages/torch/utils/data/dataloader.py:1284\u001b[0m, in \u001b[0;36m_MultiProcessingDataLoaderIter._get_data\u001b[0;34m(self)\u001b[0m\n\u001b[1;32m   1282\u001b[0m \u001b[38;5;28;01melif\u001b[39;00m \u001b[38;5;28mself\u001b[39m\u001b[38;5;241m.\u001b[39m_pin_memory:\n\u001b[1;32m   1283\u001b[0m     \u001b[38;5;28;01mwhile\u001b[39;00m \u001b[38;5;28mself\u001b[39m\u001b[38;5;241m.\u001b[39m_pin_memory_thread\u001b[38;5;241m.\u001b[39mis_alive():\n\u001b[0;32m-> 1284\u001b[0m         success, data \u001b[38;5;241m=\u001b[39m \u001b[38;5;28;43mself\u001b[39;49m\u001b[38;5;241;43m.\u001b[39;49m\u001b[43m_try_get_data\u001b[49m\u001b[43m(\u001b[49m\u001b[43m)\u001b[49m\n\u001b[1;32m   1285\u001b[0m         \u001b[38;5;28;01mif\u001b[39;00m success:\n\u001b[1;32m   1286\u001b[0m             \u001b[38;5;28;01mreturn\u001b[39;00m data\n",
      "File \u001b[0;32m~/.conda/envs/env/lib/python3.8/site-packages/torch/utils/data/dataloader.py:1132\u001b[0m, in \u001b[0;36m_MultiProcessingDataLoaderIter._try_get_data\u001b[0;34m(self, timeout)\u001b[0m\n\u001b[1;32m   1119\u001b[0m \u001b[38;5;28;01mdef\u001b[39;00m\u001b[38;5;250m \u001b[39m\u001b[38;5;21m_try_get_data\u001b[39m(\u001b[38;5;28mself\u001b[39m, timeout\u001b[38;5;241m=\u001b[39m_utils\u001b[38;5;241m.\u001b[39mMP_STATUS_CHECK_INTERVAL):\n\u001b[1;32m   1120\u001b[0m     \u001b[38;5;66;03m# Tries to fetch data from `self._data_queue` once for a given timeout.\u001b[39;00m\n\u001b[1;32m   1121\u001b[0m     \u001b[38;5;66;03m# This can also be used as inner loop of fetching without timeout, with\u001b[39;00m\n\u001b[0;32m   (...)\u001b[0m\n\u001b[1;32m   1129\u001b[0m     \u001b[38;5;66;03m# Returns a 2-tuple:\u001b[39;00m\n\u001b[1;32m   1130\u001b[0m     \u001b[38;5;66;03m#   (bool: whether successfully get data, any: data if successful else None)\u001b[39;00m\n\u001b[1;32m   1131\u001b[0m     \u001b[38;5;28;01mtry\u001b[39;00m:\n\u001b[0;32m-> 1132\u001b[0m         data \u001b[38;5;241m=\u001b[39m \u001b[38;5;28;43mself\u001b[39;49m\u001b[38;5;241;43m.\u001b[39;49m\u001b[43m_data_queue\u001b[49m\u001b[38;5;241;43m.\u001b[39;49m\u001b[43mget\u001b[49m\u001b[43m(\u001b[49m\u001b[43mtimeout\u001b[49m\u001b[38;5;241;43m=\u001b[39;49m\u001b[43mtimeout\u001b[49m\u001b[43m)\u001b[49m\n\u001b[1;32m   1133\u001b[0m         \u001b[38;5;28;01mreturn\u001b[39;00m (\u001b[38;5;28;01mTrue\u001b[39;00m, data)\n\u001b[1;32m   1134\u001b[0m     \u001b[38;5;28;01mexcept\u001b[39;00m \u001b[38;5;167;01mException\u001b[39;00m \u001b[38;5;28;01mas\u001b[39;00m e:\n\u001b[1;32m   1135\u001b[0m         \u001b[38;5;66;03m# At timeout and error, we manually check whether any worker has\u001b[39;00m\n\u001b[1;32m   1136\u001b[0m         \u001b[38;5;66;03m# failed. Note that this is the only mechanism for Windows to detect\u001b[39;00m\n\u001b[1;32m   1137\u001b[0m         \u001b[38;5;66;03m# worker failures.\u001b[39;00m\n",
      "File \u001b[0;32m~/.conda/envs/env/lib/python3.8/queue.py:179\u001b[0m, in \u001b[0;36mQueue.get\u001b[0;34m(self, block, timeout)\u001b[0m\n\u001b[1;32m    177\u001b[0m         \u001b[38;5;28;01mif\u001b[39;00m remaining \u001b[38;5;241m<\u001b[39m\u001b[38;5;241m=\u001b[39m \u001b[38;5;241m0.0\u001b[39m:\n\u001b[1;32m    178\u001b[0m             \u001b[38;5;28;01mraise\u001b[39;00m Empty\n\u001b[0;32m--> 179\u001b[0m         \u001b[38;5;28;43mself\u001b[39;49m\u001b[38;5;241;43m.\u001b[39;49m\u001b[43mnot_empty\u001b[49m\u001b[38;5;241;43m.\u001b[39;49m\u001b[43mwait\u001b[49m\u001b[43m(\u001b[49m\u001b[43mremaining\u001b[49m\u001b[43m)\u001b[49m\n\u001b[1;32m    180\u001b[0m item \u001b[38;5;241m=\u001b[39m \u001b[38;5;28mself\u001b[39m\u001b[38;5;241m.\u001b[39m_get()\n\u001b[1;32m    181\u001b[0m \u001b[38;5;28mself\u001b[39m\u001b[38;5;241m.\u001b[39mnot_full\u001b[38;5;241m.\u001b[39mnotify()\n",
      "File \u001b[0;32m~/.conda/envs/env/lib/python3.8/threading.py:306\u001b[0m, in \u001b[0;36mCondition.wait\u001b[0;34m(self, timeout)\u001b[0m\n\u001b[1;32m    304\u001b[0m \u001b[38;5;28;01melse\u001b[39;00m:\n\u001b[1;32m    305\u001b[0m     \u001b[38;5;28;01mif\u001b[39;00m timeout \u001b[38;5;241m>\u001b[39m \u001b[38;5;241m0\u001b[39m:\n\u001b[0;32m--> 306\u001b[0m         gotit \u001b[38;5;241m=\u001b[39m \u001b[43mwaiter\u001b[49m\u001b[38;5;241;43m.\u001b[39;49m\u001b[43macquire\u001b[49m\u001b[43m(\u001b[49m\u001b[38;5;28;43;01mTrue\u001b[39;49;00m\u001b[43m,\u001b[49m\u001b[43m \u001b[49m\u001b[43mtimeout\u001b[49m\u001b[43m)\u001b[49m\n\u001b[1;32m    307\u001b[0m     \u001b[38;5;28;01melse\u001b[39;00m:\n\u001b[1;32m    308\u001b[0m         gotit \u001b[38;5;241m=\u001b[39m waiter\u001b[38;5;241m.\u001b[39macquire(\u001b[38;5;28;01mFalse\u001b[39;00m)\n",
      "\u001b[0;31mKeyboardInterrupt\u001b[0m: "
     ]
    }
   ],
   "source": [
    "trainer.train_epoch(\n",
    "    train_dataloader=train_loader,\n",
    "    val_dataloader=val_loader,\n",
    ")"
   ]
  }
 ],
 "metadata": {
  "kernelspec": {
   "display_name": "Python env",
   "language": "python",
   "name": "env"
  },
  "language_info": {
   "codemirror_mode": {
    "name": "ipython",
    "version": 3
   },
   "file_extension": ".py",
   "mimetype": "text/x-python",
   "name": "python",
   "nbconvert_exporter": "python",
   "pygments_lexer": "ipython3",
   "version": "3.8.20"
  }
 },
 "nbformat": 4,
 "nbformat_minor": 5
}
