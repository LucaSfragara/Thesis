{
 "cells": [
  {
   "cell_type": "code",
   "execution_count": 1,
   "id": "1420f1ea",
   "metadata": {},
   "outputs": [
    {
     "name": "stdout",
     "output_type": "stream",
     "text": [
      "Using device: cuda\n",
      "Config loaded successfully.\n"
     ]
    },
    {
     "data": {
      "text/plain": [
       "0"
      ]
     },
     "execution_count": 1,
     "metadata": {},
     "output_type": "execute_result"
    }
   ],
   "source": [
    "from models.transformers import DecoderOnlyTransformer\n",
    "import torch\n",
    "from torch.utils.data import DataLoader\n",
    "import yaml\n",
    "import gc\n",
    "import torch\n",
    "from torchinfo import summary\n",
    "import os\n",
    "import json\n",
    "import shutil\n",
    "import wandb\n",
    "import yaml\n",
    "from data.datasets import CFGDataset, verify_dataloader\n",
    "from trainers.GPT_trainer import GPT_Trainer\n",
    "from trainers.utils import create_optimizer, create_scheduler\n",
    "import numpy as np\n",
    "\n",
    "device = \"cuda\" if torch.cuda.is_available() else \"cpu\"\n",
    "print(f\"Using device: {device}\")\n",
    "\n",
    "#Read config yaml file\n",
    "with open(\"config.yaml\", \"r\") as f:\n",
    "    config = yaml.safe_load(f)\n",
    "print(f\"Config loaded successfully.\")\n",
    "\n",
    "\n",
    "import os\n",
    "os.system(\"export WANDB_DIR=\\tmp\")\n",
    "#os.environ[\"CUDA_LAUNCH_BLOCKING\"] = \"1\"\n"
   ]
  },
  {
   "cell_type": "markdown",
   "id": "0f46d0e9",
   "metadata": {},
   "source": [
    "#### Loading Data"
   ]
  },
  {
   "cell_type": "code",
   "execution_count": 2,
   "id": "1b809426",
   "metadata": {},
   "outputs": [
    {
     "name": "stdout",
     "output_type": "stream",
     "text": [
      "Verifying dataloader...\n",
      "Number of batches:  7573\n",
      "Total number of tokens:  3.722431e+08\n"
     ]
    },
    {
     "name": "stdout",
     "output_type": "stream",
     "text": [
      "Example batch shapes (shifted, golden):  torch.Size([96, 512]) torch.Size([96, 512])\n",
      "__________________________________________________\n",
      "Verifying dataloader...\n",
      "Number of batches:  76\n",
      "Total number of tokens:  3.760031e+06\n",
      "Example batch shapes (shifted, golden):  torch.Size([96, 512]) torch.Size([96, 512])\n"
     ]
    }
   ],
   "source": [
    "train_dataset =  CFGDataset(\n",
    "    data_file=\"cfg_sentences_train_cfg_simple.npy\", \n",
    "    batch_size = config[\"data\"][\"batch_size\"],\n",
    "    seq_len = config[\"data\"][\"seq_len\"],\n",
    "    eos_token = config[\"data\"][\"eos_token\"],\n",
    "    sos_token = config[\"data\"][\"sos_token\"],\n",
    "    ) \n",
    "\n",
    "val_dataset =  CFGDataset(\n",
    "    data_file=\"cfg_sentences_val_cfg_simple.npy\", \n",
    "    \n",
    "    batch_size = config[\"data\"][\"batch_size\"],\n",
    "    seq_len = config[\"data\"][\"seq_len\"],\n",
    "    eos_token = config[\"data\"][\"eos_token\"],\n",
    "    sos_token = config[\"data\"][\"sos_token\"],\n",
    "    ) \n",
    "\n",
    "\n",
    "train_loader = DataLoader(train_dataset, \n",
    "                          batch_size = None, \n",
    "                          num_workers=config[\"data\"][\"NUM_WORKERS\"] if device == \"cuda\" else 0, \n",
    "                          pin_memory=True)\n",
    "\n",
    "val_loader = DataLoader(val_dataset, \n",
    "                        batch_size=None, \n",
    "                        num_workers=config[\"data\"][\"NUM_WORKERS\"] if device == \"cuda\" else 0,\n",
    "                        pin_memory=True)\n",
    "\n",
    "verify_dataloader(train_loader)\n",
    "print(\"_\"*50)\n",
    "verify_dataloader(val_loader)\n",
    "#print(\"=\"*50)\n",
    "#print(\"Verify Validation DataLoader\")\n",
    "#verify_dataloader(val_loader)"
   ]
  },
  {
   "cell_type": "code",
   "execution_count": null,
   "id": "becd8a4c",
   "metadata": {},
   "outputs": [],
   "source": []
  },
  {
   "cell_type": "code",
   "execution_count": 3,
   "id": "ff351c1b",
   "metadata": {},
   "outputs": [
    {
     "name": "stdout",
     "output_type": "stream",
     "text": [
      "Shape of shifted_transcripts :  torch.Size([96, 512])\n",
      "Shape of golden_transcripts  :  torch.Size([96, 512])\n",
      "Total parameters in the model: 85,063,685\n"
     ]
    }
   ],
   "source": [
    "model_config = {}\n",
    "model_config = config['model'].copy()\n",
    "\n",
    "model_config.update({\n",
    "    'num_classes': config[\"data\"][\"vocab_size\"] +2 ,#include SOS and EOS tolen\n",
    "    'seq_len': config[\"data\"][\"seq_len\"],\n",
    "    })\n",
    "\n",
    "model = DecoderOnlyTransformer(**model_config)\n",
    "\n",
    "for batch in train_loader:\n",
    "    shifted_transcripts, golden_transcripts = batch\n",
    "    print(\"Shape of shifted_transcripts : \", shifted_transcripts.shape)\n",
    "    print(\"Shape of golden_transcripts  : \", golden_transcripts.shape)\n",
    "    break\n",
    "#model.to(device)\n",
    "#shifted_transcripts = shifted_transcripts.to(device)\n",
    "#model_stats = summary(model, input_data=[shifted_transcripts])\n",
    "#print(model_stats)\n",
    "print(f\"Total parameters in the model: {sum(p.numel() for p in model.parameters()):,}\")\n",
    "#torch._dynamo.config.skip_nnmodule_hook_guards = False\n",
    "#model = torch.compile(model, mode=\"default\", fullgraph=True)\n"
   ]
  },
  {
   "cell_type": "code",
   "execution_count": 4,
   "id": "50faa61a",
   "metadata": {},
   "outputs": [
    {
     "name": "stdout",
     "output_type": "stream",
     "text": [
      "Using device: cuda\n"
     ]
    },
    {
     "name": "stderr",
     "output_type": "stream",
     "text": [
      "\u001b[34m\u001b[1mwandb\u001b[0m: Currently logged in as: \u001b[33mlucasfragara\u001b[0m (\u001b[33mteamlsfr\u001b[0m) to \u001b[32mhttps://api.wandb.ai\u001b[0m. Use \u001b[1m`wandb login --relogin`\u001b[0m to force relogin\n"
     ]
    },
    {
     "data": {
      "text/html": [
       "Tracking run with wandb version 0.19.11"
      ],
      "text/plain": [
       "<IPython.core.display.HTML object>"
      ]
     },
     "metadata": {},
     "output_type": "display_data"
    },
    {
     "data": {
      "text/html": [
       "Run data is saved locally in <code>/workspace/Thesis/wandb/run-20250519_204950-k57zm1pl</code>"
      ],
      "text/plain": [
       "<IPython.core.display.HTML object>"
      ]
     },
     "metadata": {},
     "output_type": "display_data"
    },
    {
     "data": {
      "text/html": [
       "Syncing run <strong><a href='https://wandb.ai/teamlsfr/Thesis/runs/k57zm1pl' target=\"_blank\">full_rope_86_0simple</a></strong> to <a href='https://wandb.ai/teamlsfr/Thesis' target=\"_blank\">Weights & Biases</a> (<a href='https://wandb.me/developer-guide' target=\"_blank\">docs</a>)<br>"
      ],
      "text/plain": [
       "<IPython.core.display.HTML object>"
      ]
     },
     "metadata": {},
     "output_type": "display_data"
    },
    {
     "data": {
      "text/html": [
       " View project at <a href='https://wandb.ai/teamlsfr/Thesis' target=\"_blank\">https://wandb.ai/teamlsfr/Thesis</a>"
      ],
      "text/plain": [
       "<IPython.core.display.HTML object>"
      ]
     },
     "metadata": {},
     "output_type": "display_data"
    },
    {
     "data": {
      "text/html": [
       " View run at <a href='https://wandb.ai/teamlsfr/Thesis/runs/k57zm1pl' target=\"_blank\">https://wandb.ai/teamlsfr/Thesis/runs/k57zm1pl</a>"
      ],
      "text/plain": [
       "<IPython.core.display.HTML object>"
      ]
     },
     "metadata": {},
     "output_type": "display_data"
    },
    {
     "name": "stdout",
     "output_type": "stream",
     "text": [
      "\n",
      "🔧 Configuring Optimizer:\n",
      "├── Type: ADAMW\n",
      "├── Base LR: 0.0003\n",
      "├── Weight Decay: 0.01\n",
      "├── Parameter Groups:\n",
      "│   ├── Group: self_attn\n",
      "│   │   ├── LR: 0.0003\n",
      "│   │   └── Patterns: []\n",
      "│   ├── Group: ffn\n",
      "│   │   ├── LR: 0.0003\n",
      "│   │   └── Patterns: []\n",
      "│   └── Default Group (unmatched parameters)\n",
      "└── AdamW Specific:\n",
      "    ├── Betas: [0.9, 0.98]\n",
      "    ├── Epsilon: 1e-08\n",
      "    └── AMSGrad: False\n"
     ]
    },
    {
     "name": "stderr",
     "output_type": "stream",
     "text": [
      "/root/miniconda/envs/env/lib/python3.8/site-packages/tqdm/auto.py:21: TqdmWarning: IProgress not found. Please update jupyter and ipywidgets. See https://ipywidgets.readthedocs.io/en/stable/user_install.html\n",
      "  from .autonotebook import tqdm as notebook_tqdm\n"
     ]
    },
    {
     "name": "stdout",
     "output_type": "stream",
     "text": [
      "\n",
      "📈 Configuring Learning Rate Scheduler:\n",
      "├── Type: COSINE\n",
      "├── Cosine Annealing Settings:\n",
      "│   ├── T_max: 7573 steps\n",
      "│   └── Min LR: 1e-08\n",
      "└── Warmup: Disabled\n"
     ]
    }
   ],
   "source": [
    "\n",
    "torch.cuda.empty_cache()\n",
    "gc.collect()\n",
    "#wandb.finish()\n",
    "#wandb.login(\"11902c0c8e2c6840d72bf65f04894b432d85f019\")\n",
    "\n",
    "trainer = GPT_Trainer(\n",
    "    model = model, \n",
    "    config = config,\n",
    "    config_file = \"config.yaml\",\n",
    "    run_name = \"full_rope_86_0simple\", \n",
    "    device = device\n",
    ")\n",
    "wandb.watch(trainer.model, log=\"all\")\n",
    "\n",
    "trainer.optimizer = create_optimizer.create_optimizer(\n",
    "    model = model, \n",
    "    opt_config = config[\"optimizer\"]\n",
    ")\n",
    "\n",
    "trainer.scheduler = create_scheduler.create_scheduler(\n",
    "    optimizer=trainer.optimizer,\n",
    "    scheduler_config=config['scheduler'],\n",
    "    train_loader=train_loader,\n",
    "    gradient_accumulation_steps=config['training']['gradient_accumulation_steps']\n",
    ")\n",
    "#trainer.load_checkpoint(\"checkpoint-last-epoch-model.pth\")\n",
    "#plot_lr_schedule(trainer.scheduler, num_epochs=len(train_loader), train_loader=train_loader)\n",
    "\n",
    "#trainer.load_checkpoint(\"/ocean/projects/cis250019p/sfragara/lstm/expts/test/checkpoints/checkpoint-best-metric-model.pth\")"
   ]
  },
  {
   "cell_type": "code",
   "execution_count": 5,
   "id": "38c47928",
   "metadata": {},
   "outputs": [
    {
     "data": {
      "text/plain": [
       "inf"
      ]
     },
     "execution_count": 5,
     "metadata": {},
     "output_type": "execute_result"
    }
   ],
   "source": [
    "trainer.best_metric"
   ]
  },
  {
   "cell_type": "code",
   "execution_count": 6,
   "id": "86c5c200",
   "metadata": {},
   "outputs": [
    {
     "name": "stderr",
     "output_type": "stream",
     "text": [
      "                                                                                       _token=1.0179, lr=0.000297, perplexity_token=2.7673]\r"
     ]
    },
    {
     "name": "stdout",
     "output_type": "stream",
     "text": [
      "generating\n",
      "Using default generation config...\n",
      "Generating with greedy search...\n"
     ]
    },
    {
     "name": "stderr",
     "output_type": "stream",
     "text": [
      "\u001b[34m\u001b[1mwandb\u001b[0m: \u001b[33mWARNING\u001b[0m Saving files without folders. If you want to preserve subdirectories pass base_path to wandb.save, i.e. wandb.save(\"/mnt/folder/file.h5\", base_path=\"/mnt\")\n"
     ]
    },
    {
     "name": "stdout",
     "output_type": "stream",
     "text": [
      "wandb metrics being logged:  {'train/ce_loss_token': 1.017858520596327, 'train/perplexity_token': 2.7672622203826904, 'val/ce_loss_token': 0.992996096611023, 'val/perplexity_token': 2.699309825897217, 'learning_rate': 0.00029677208413088737}\n",
      "\n",
      "📊 Metrics (Epoch 500):\n",
      "├── TRAIN:\n",
      "│   ├── ce_loss_token: 1.0179\n",
      "│   └── perplexity_token: 2.7673\n",
      "└── VAL:\n",
      "    ├── ce_loss_token: 0.9930\n",
      "    └── perplexity_token: 2.6993\n",
      "└── TRAINING:\n",
      "    └── learning_rate: 0.000297\n"
     ]
    },
    {
     "name": "stderr",
     "output_type": "stream",
     "text": [
      "                                                                                       oss_token=0.9808, lr=0.000287, perplexity_token=2.6666]\r"
     ]
    },
    {
     "name": "stdout",
     "output_type": "stream",
     "text": [
      "generating\n",
      "Using default generation config...\n",
      "Generating with greedy search...\n",
      "wandb metrics being logged:  {'train/ce_loss_token': 0.9808011987468936, 'train/perplexity_token': 2.6665918827056885, 'val/ce_loss_token': 0.9449075032025576, 'val/perplexity_token': 2.572575330734253, 'learning_rate': 0.000287252381557078}\n",
      "\n",
      "📊 Metrics (Epoch 1000):\n",
      "├── TRAIN:\n",
      "│   ├── ce_loss_token: 0.9808\n",
      "│   └── perplexity_token: 2.6666\n",
      "└── VAL:\n",
      "    ├── ce_loss_token: 0.9449\n",
      "    └── perplexity_token: 2.5726\n",
      "└── TRAINING:\n",
      "    └── learning_rate: 0.000287\n"
     ]
    },
    {
     "name": "stderr",
     "output_type": "stream",
     "text": [
      "                                                                                       s_token=0.9343, lr=0.000272, perplexity_token=2.5453]  \r"
     ]
    },
    {
     "name": "stdout",
     "output_type": "stream",
     "text": [
      "generating\n",
      "Using default generation config...\n",
      "Generating with greedy search...\n",
      "wandb metrics being logged:  {'train/ce_loss_token': 0.9342526236746329, 'train/perplexity_token': 2.5453104972839355, 'val/ce_loss_token': 0.752105975523591, 'val/perplexity_token': 2.1214630603790283, 'learning_rate': 0.00027184898219225455}\n",
      "\n",
      "📊 Metrics (Epoch 1500):\n",
      "├── TRAIN:\n",
      "│   ├── ce_loss_token: 0.9343\n",
      "│   └── perplexity_token: 2.5453\n",
      "└── VAL:\n",
      "    ├── ce_loss_token: 0.7521\n",
      "    └── perplexity_token: 2.1215\n",
      "└── TRAINING:\n",
      "    └── learning_rate: 0.000272\n"
     ]
    },
    {
     "name": "stderr",
     "output_type": "stream",
     "text": [
      "                                                                                       s_token=0.8812, lr=0.000251, perplexity_token=2.4139]  \r"
     ]
    },
    {
     "name": "stdout",
     "output_type": "stream",
     "text": [
      "generating\n",
      "Using default generation config...\n",
      "Generating with greedy search...\n",
      "wandb metrics being logged:  {'train/ce_loss_token': 0.8812407472620959, 'train/perplexity_token': 2.4138927459716797, 'val/ce_loss_token': 0.6537916902452707, 'val/perplexity_token': 1.9228177070617676, 'learning_rate': 0.0002512222187173427}\n",
      "\n",
      "📊 Metrics (Epoch 2000):\n",
      "├── TRAIN:\n",
      "│   ├── ce_loss_token: 0.8812\n",
      "│   └── perplexity_token: 2.4139\n",
      "└── VAL:\n",
      "    ├── ce_loss_token: 0.6538\n",
      "    └── perplexity_token: 1.9228\n",
      "└── TRAINING:\n",
      "    └── learning_rate: 0.000251\n"
     ]
    },
    {
     "name": "stderr",
     "output_type": "stream",
     "text": [
      "                                                                                       s_token=0.8354, lr=0.000226, perplexity_token=2.3057]  \r"
     ]
    },
    {
     "name": "stdout",
     "output_type": "stream",
     "text": [
      "generating\n",
      "Using default generation config...\n",
      "Generating with greedy search...\n",
      "wandb metrics being logged:  {'train/ce_loss_token': 0.8354058911303719, 'train/perplexity_token': 2.3057496547698975, 'val/ce_loss_token': 0.6013025641441345, 'val/perplexity_token': 1.8244937658309937, 'learning_rate': 0.00022625634568561269}\n",
      "\n",
      "📊 Metrics (Epoch 2500):\n",
      "├── TRAIN:\n",
      "│   ├── ce_loss_token: 0.8354\n",
      "│   └── perplexity_token: 2.3057\n",
      "└── VAL:\n",
      "    ├── ce_loss_token: 0.6013\n",
      "    └── perplexity_token: 1.8245\n",
      "└── TRAINING:\n",
      "    └── learning_rate: 0.000226\n"
     ]
    },
    {
     "name": "stderr",
     "output_type": "stream",
     "text": [
      "                                                                                       s_token=0.7997, lr=0.000198, perplexity_token=2.2250]  \r"
     ]
    },
    {
     "name": "stdout",
     "output_type": "stream",
     "text": [
      "generating\n",
      "Using default generation config...\n",
      "Generating with greedy search...\n",
      "wandb metrics being logged:  {'train/ce_loss_token': 0.7997359663039515, 'train/perplexity_token': 2.2249534130096436, 'val/ce_loss_token': 0.569619070738554, 'val/perplexity_token': 1.7675936222076416, 'learning_rate': 0.00019802163216431568}\n",
      "\n",
      "📊 Metrics (Epoch 3000):\n",
      "├── TRAIN:\n",
      "│   ├── ce_loss_token: 0.7997\n",
      "│   └── perplexity_token: 2.2250\n",
      "└── VAL:\n",
      "    ├── ce_loss_token: 0.5696\n",
      "    └── perplexity_token: 1.7676\n",
      "└── TRAINING:\n",
      "    └── learning_rate: 0.000198\n"
     ]
    },
    {
     "name": "stderr",
     "output_type": "stream",
     "text": [
      "                                                                                       s_token=0.7712, lr=0.000168, perplexity_token=2.1624]  \r"
     ]
    },
    {
     "name": "stdout",
     "output_type": "stream",
     "text": [
      "generating\n",
      "Using default generation config...\n",
      "Generating with greedy search...\n",
      "wandb metrics being logged:  {'train/ce_loss_token': 0.7712072873074679, 'train/perplexity_token': 2.1623752117156982, 'val/ce_loss_token': 0.5503923092037439, 'val/perplexity_token': 1.7339332103729248, 'learning_rate': 0.00016772848006754032}\n",
      "\n",
      "📊 Metrics (Epoch 3500):\n",
      "├── TRAIN:\n",
      "│   ├── ce_loss_token: 0.7712\n",
      "│   └── perplexity_token: 2.1624\n",
      "└── VAL:\n",
      "    ├── ce_loss_token: 0.5504\n",
      "    └── perplexity_token: 1.7339\n",
      "└── TRAINING:\n",
      "    └── learning_rate: 0.000168\n"
     ]
    },
    {
     "name": "stderr",
     "output_type": "stream",
     "text": [
      "                                                                                       s_token=0.7478, lr=0.000137, perplexity_token=2.1123]  \r"
     ]
    },
    {
     "name": "stdout",
     "output_type": "stream",
     "text": [
      "generating\n",
      "Using default generation config...\n",
      "Generating with greedy search...\n",
      "wandb metrics being logged:  {'train/ce_loss_token': 0.7477624774038777, 'train/perplexity_token': 2.1122684478759766, 'val/ce_loss_token': 0.534754840657115, 'val/perplexity_token': 1.7070297002792358, 'learning_rate': 0.0001366755350944571}\n",
      "\n",
      "📊 Metrics (Epoch 4000):\n",
      "├── TRAIN:\n",
      "│   ├── ce_loss_token: 0.7478\n",
      "│   └── perplexity_token: 2.1123\n",
      "└── VAL:\n",
      "    ├── ce_loss_token: 0.5348\n",
      "    └── perplexity_token: 1.7070\n",
      "└── TRAINING:\n",
      "    └── learning_rate: 0.000137\n"
     ]
    },
    {
     "name": "stderr",
     "output_type": "stream",
     "text": [
      "                                                                                       s_token=0.7281, lr=0.000106, perplexity_token=2.0712]  \r"
     ]
    },
    {
     "name": "stdout",
     "output_type": "stream",
     "text": [
      "generating\n",
      "Using default generation config...\n",
      "Generating with greedy search...\n",
      "wandb metrics being logged:  {'train/ce_loss_token': 0.7281420459431612, 'train/perplexity_token': 2.0712287425994873, 'val/ce_loss_token': 0.5233748834580183, 'val/perplexity_token': 1.687713861465454, 'learning_rate': 0.00010619401471979542}\n",
      "\n",
      "📊 Metrics (Epoch 4500):\n",
      "├── TRAIN:\n",
      "│   ├── ce_loss_token: 0.7281\n",
      "│   └── perplexity_token: 2.0712\n",
      "└── VAL:\n",
      "    ├── ce_loss_token: 0.5234\n",
      "    └── perplexity_token: 1.6877\n",
      "└── TRAINING:\n",
      "    └── learning_rate: 0.000106\n"
     ]
    },
    {
     "name": "stderr",
     "output_type": "stream",
     "text": [
      "                                                                                       s_token=0.7118, lr=0.000078, perplexity_token=2.0377]  \r"
     ]
    },
    {
     "name": "stdout",
     "output_type": "stream",
     "text": [
      "generating\n",
      "Using default generation config...\n",
      "Generating with greedy search...\n",
      "wandb metrics being logged:  {'train/ce_loss_token': 0.7118259998136367, 'train/perplexity_token': 2.0377087593078613, 'val/ce_loss_token': 0.5170539692044258, 'val/perplexity_token': 1.677079677581787, 'learning_rate': 7.759063985567012e-05}\n",
      "\n",
      "📊 Metrics (Epoch 5000):\n",
      "├── TRAIN:\n",
      "│   ├── ce_loss_token: 0.7118\n",
      "│   └── perplexity_token: 2.0377\n",
      "└── VAL:\n",
      "    ├── ce_loss_token: 0.5171\n",
      "    └── perplexity_token: 1.6771\n",
      "└── TRAINING:\n",
      "    └── learning_rate: 0.000078\n"
     ]
    },
    {
     "name": "stderr",
     "output_type": "stream",
     "text": [
      "                                                                                       s_token=0.6980, lr=0.000052, perplexity_token=2.0098]  \r"
     ]
    },
    {
     "name": "stdout",
     "output_type": "stream",
     "text": [
      "generating\n",
      "Using default generation config...\n",
      "Generating with greedy search...\n",
      "wandb metrics being logged:  {'train/ce_loss_token': 0.6980360409841172, 'train/perplexity_token': 2.0098016262054443, 'val/ce_loss_token': 0.5130046661943197, 'val/perplexity_token': 1.670302391052246, 'learning_rate': 5.2091616663473e-05}\n",
      "\n",
      "📊 Metrics (Epoch 5500):\n",
      "├── TRAIN:\n",
      "│   ├── ce_loss_token: 0.6980\n",
      "│   └── perplexity_token: 2.0098\n",
      "└── VAL:\n",
      "    ├── ce_loss_token: 0.5130\n",
      "    └── perplexity_token: 1.6703\n",
      "└── TRAINING:\n",
      "    └── learning_rate: 0.000052\n"
     ]
    },
    {
     "name": "stderr",
     "output_type": "stream",
     "text": [
      "[Training LM]:  78%|███████▊  | 5899/7573 [33:48<08:40,  3.22it/s, acc_step=1/1, ce_loss_token=0.6885, lr=0.000035, perplexity_token=1.9907]  "
     ]
    },
    {
     "ename": "KeyboardInterrupt",
     "evalue": "",
     "output_type": "error",
     "traceback": [
      "\u001b[0;31m---------------------------------------------------------------------------\u001b[0m",
      "\u001b[0;31mKeyboardInterrupt\u001b[0m                         Traceback (most recent call last)",
      "Cell \u001b[0;32mIn[6], line 4\u001b[0m\n\u001b[1;32m      1\u001b[0m trainer\u001b[38;5;241m.\u001b[39mmodel\u001b[38;5;241m.\u001b[39mtrain()\n\u001b[1;32m      3\u001b[0m \u001b[38;5;66;03m#trainer._validate_epoch(val_loader)\u001b[39;00m\n\u001b[0;32m----> 4\u001b[0m \u001b[43mtrainer\u001b[49m\u001b[38;5;241;43m.\u001b[39;49m\u001b[43mtrain_epoch\u001b[49m\u001b[43m(\u001b[49m\n\u001b[1;32m      5\u001b[0m \u001b[43m    \u001b[49m\u001b[43mtrain_dataloader\u001b[49m\u001b[38;5;241;43m=\u001b[39;49m\u001b[43mtrain_loader\u001b[49m\u001b[43m,\u001b[49m\n\u001b[1;32m      6\u001b[0m \u001b[43m    \u001b[49m\u001b[43mval_dataloader\u001b[49m\u001b[38;5;241;43m=\u001b[39;49m\u001b[43mval_loader\u001b[49m\u001b[43m,\u001b[49m\n\u001b[1;32m      7\u001b[0m \u001b[43m)\u001b[49m\n",
      "File \u001b[0;32m/workspace/Thesis/trainers/GPT_trainer.py:83\u001b[0m, in \u001b[0;36mGPT_Trainer.train_epoch\u001b[0;34m(self, train_dataloader, val_dataloader)\u001b[0m\n\u001b[1;32m     80\u001b[0m loss \u001b[38;5;241m=\u001b[39m raw_loss \u001b[38;5;241m/\u001b[39m gradient_accumulation_steps\n\u001b[1;32m     82\u001b[0m \u001b[38;5;66;03m# Backpropagate the loss\u001b[39;00m\n\u001b[0;32m---> 83\u001b[0m \u001b[38;5;28;43mself\u001b[39;49m\u001b[38;5;241;43m.\u001b[39;49m\u001b[43mscaler\u001b[49m\u001b[38;5;241;43m.\u001b[39;49m\u001b[43mscale\u001b[49m\u001b[43m(\u001b[49m\u001b[43mloss\u001b[49m\u001b[43m)\u001b[49m\u001b[38;5;241;43m.\u001b[39;49m\u001b[43mbackward\u001b[49m\u001b[43m(\u001b[49m\u001b[43m)\u001b[49m\n\u001b[1;32m     85\u001b[0m \u001b[38;5;66;03m# Clip gradients to prevent exploding gradients\u001b[39;00m\n\u001b[1;32m     86\u001b[0m nn\u001b[38;5;241m.\u001b[39mutils\u001b[38;5;241m.\u001b[39mclip_grad_norm_(\u001b[38;5;28mself\u001b[39m\u001b[38;5;241m.\u001b[39mmodel\u001b[38;5;241m.\u001b[39mparameters(), \u001b[38;5;241m1\u001b[39m)\n",
      "File \u001b[0;32m~/miniconda/envs/env/lib/python3.8/site-packages/torch/_tensor.py:522\u001b[0m, in \u001b[0;36mTensor.backward\u001b[0;34m(self, gradient, retain_graph, create_graph, inputs)\u001b[0m\n\u001b[1;32m    512\u001b[0m \u001b[38;5;28;01mif\u001b[39;00m has_torch_function_unary(\u001b[38;5;28mself\u001b[39m):\n\u001b[1;32m    513\u001b[0m     \u001b[38;5;28;01mreturn\u001b[39;00m handle_torch_function(\n\u001b[1;32m    514\u001b[0m         Tensor\u001b[38;5;241m.\u001b[39mbackward,\n\u001b[1;32m    515\u001b[0m         (\u001b[38;5;28mself\u001b[39m,),\n\u001b[0;32m   (...)\u001b[0m\n\u001b[1;32m    520\u001b[0m         inputs\u001b[38;5;241m=\u001b[39minputs,\n\u001b[1;32m    521\u001b[0m     )\n\u001b[0;32m--> 522\u001b[0m \u001b[43mtorch\u001b[49m\u001b[38;5;241;43m.\u001b[39;49m\u001b[43mautograd\u001b[49m\u001b[38;5;241;43m.\u001b[39;49m\u001b[43mbackward\u001b[49m\u001b[43m(\u001b[49m\n\u001b[1;32m    523\u001b[0m \u001b[43m    \u001b[49m\u001b[38;5;28;43mself\u001b[39;49m\u001b[43m,\u001b[49m\u001b[43m \u001b[49m\u001b[43mgradient\u001b[49m\u001b[43m,\u001b[49m\u001b[43m \u001b[49m\u001b[43mretain_graph\u001b[49m\u001b[43m,\u001b[49m\u001b[43m \u001b[49m\u001b[43mcreate_graph\u001b[49m\u001b[43m,\u001b[49m\u001b[43m \u001b[49m\u001b[43minputs\u001b[49m\u001b[38;5;241;43m=\u001b[39;49m\u001b[43minputs\u001b[49m\n\u001b[1;32m    524\u001b[0m \u001b[43m\u001b[49m\u001b[43m)\u001b[49m\n",
      "File \u001b[0;32m~/miniconda/envs/env/lib/python3.8/site-packages/torch/autograd/__init__.py:266\u001b[0m, in \u001b[0;36mbackward\u001b[0;34m(tensors, grad_tensors, retain_graph, create_graph, grad_variables, inputs)\u001b[0m\n\u001b[1;32m    261\u001b[0m     retain_graph \u001b[38;5;241m=\u001b[39m create_graph\n\u001b[1;32m    263\u001b[0m \u001b[38;5;66;03m# The reason we repeat the same comment below is that\u001b[39;00m\n\u001b[1;32m    264\u001b[0m \u001b[38;5;66;03m# some Python versions print out the first line of a multi-line function\u001b[39;00m\n\u001b[1;32m    265\u001b[0m \u001b[38;5;66;03m# calls in the traceback and some print out the last line\u001b[39;00m\n\u001b[0;32m--> 266\u001b[0m \u001b[43mVariable\u001b[49m\u001b[38;5;241;43m.\u001b[39;49m\u001b[43m_execution_engine\u001b[49m\u001b[38;5;241;43m.\u001b[39;49m\u001b[43mrun_backward\u001b[49m\u001b[43m(\u001b[49m\u001b[43m  \u001b[49m\u001b[38;5;66;43;03m# Calls into the C++ engine to run the backward pass\u001b[39;49;00m\n\u001b[1;32m    267\u001b[0m \u001b[43m    \u001b[49m\u001b[43mtensors\u001b[49m\u001b[43m,\u001b[49m\n\u001b[1;32m    268\u001b[0m \u001b[43m    \u001b[49m\u001b[43mgrad_tensors_\u001b[49m\u001b[43m,\u001b[49m\n\u001b[1;32m    269\u001b[0m \u001b[43m    \u001b[49m\u001b[43mretain_graph\u001b[49m\u001b[43m,\u001b[49m\n\u001b[1;32m    270\u001b[0m \u001b[43m    \u001b[49m\u001b[43mcreate_graph\u001b[49m\u001b[43m,\u001b[49m\n\u001b[1;32m    271\u001b[0m \u001b[43m    \u001b[49m\u001b[43minputs\u001b[49m\u001b[43m,\u001b[49m\n\u001b[1;32m    272\u001b[0m \u001b[43m    \u001b[49m\u001b[43mallow_unreachable\u001b[49m\u001b[38;5;241;43m=\u001b[39;49m\u001b[38;5;28;43;01mTrue\u001b[39;49;00m\u001b[43m,\u001b[49m\n\u001b[1;32m    273\u001b[0m \u001b[43m    \u001b[49m\u001b[43maccumulate_grad\u001b[49m\u001b[38;5;241;43m=\u001b[39;49m\u001b[38;5;28;43;01mTrue\u001b[39;49;00m\u001b[43m,\u001b[49m\n\u001b[1;32m    274\u001b[0m \u001b[43m\u001b[49m\u001b[43m)\u001b[49m\n",
      "\u001b[0;31mKeyboardInterrupt\u001b[0m: "
     ]
    }
   ],
   "source": [
    "trainer.model.train()\n",
    "\n",
    "#trainer._validate_epoch(val_loader)\n",
    "trainer.train_epoch(\n",
    "    train_dataloader=train_loader,\n",
    "    val_dataloader=val_loader,\n",
    ")"
   ]
  },
  {
   "cell_type": "markdown",
   "id": "2c65b8d8",
   "metadata": {},
   "source": [
    "#### EVAL - Completion Accuracy"
   ]
  },
  {
   "cell_type": "code",
   "execution_count": 6,
   "id": "b20c5ec6",
   "metadata": {},
   "outputs": [],
   "source": [
    "from data.grammars import GRAMMAR_CFG3b\n",
    "from data.CFG_parsers import CFGParser\n",
    "parser = CFGParser(GRAMMAR_CFG3b)\n"
   ]
  },
  {
   "cell_type": "code",
   "execution_count": 9,
   "id": "22734f60",
   "metadata": {},
   "outputs": [
    {
     "name": "stdout",
     "output_type": "stream",
     "text": [
      "Generating with greedy search...\n"
     ]
    }
   ],
   "source": [
    "generation_config = {\n",
    "                'num_samples': 5,\n",
    "                'prompt_length': 3,\n",
    "                'seed': 100,\n",
    "                #'max_length': self.model.max_len,\n",
    "                'temperature': 1.0,\n",
    "                'beam_width': 1,\n",
    "                'repeat_penalty': 1.0,\n",
    "                'top_k': 0,\n",
    "                'top_p': 0.0    \n",
    "            }\n",
    "results = trainer.generate(val_loader, generation_config)\n"
   ]
  },
  {
   "cell_type": "code",
   "execution_count": 10,
   "id": "6226b7d0",
   "metadata": {},
   "outputs": [
    {
     "data": {
      "text/plain": [
       "[{'prompt': '012',\n",
       "  'original': '3456789',\n",
       "  'generated': '3456789',\n",
       "  'score': 0.0},\n",
       " {'prompt': '012',\n",
       "  'original': '3456789',\n",
       "  'generated': '3456789',\n",
       "  'score': 0.0},\n",
       " {'prompt': '012',\n",
       "  'original': '3456789',\n",
       "  'generated': '3456789',\n",
       "  'score': 0.0},\n",
       " {'prompt': '012',\n",
       "  'original': '3456789',\n",
       "  'generated': '3456789',\n",
       "  'score': 0.0},\n",
       " {'prompt': '012',\n",
       "  'original': '3456789',\n",
       "  'generated': '3456789',\n",
       "  'score': 0.0}]"
      ]
     },
     "execution_count": 10,
     "metadata": {},
     "output_type": "execute_result"
    }
   ],
   "source": [
    "results"
   ]
  },
  {
   "cell_type": "code",
   "execution_count": null,
   "id": "0d56e058",
   "metadata": {},
   "outputs": [
    {
     "name": "stdout",
     "output_type": "stream",
     "text": [
      "[{'prompt': '03122112331231213132132321232121312123322131321123323132321312312132131322132123123312213123211232131231313123212112332312123212131312321232132131312312131232321313123121213132123323213213212331212332', 'original': '12132123213131231322132211233213212332132123313232121313231323212112331245555555555555555555555555555555555555555', 'generated': '112331323211231232221313121232113231321123213221121233232131212312312311231213232132132121321323131231212311212132112312', 'score': -29.18068504333496}, {'prompt': '03131221321313121233213123132321313213122131312123312321322131323121312211232132123123312212131312313122132112332123321312321233213213132123312212132123312211232131312123312321323213132313212131231313', 'original': '12321313213123122131312312132321123213123112321312123323212112332321233213221314555555555555555555555555555555555', 'generated': '232131232131212131212312331231321213132313221223131212121213221312313132231213132112321121233122132211233232111331123121', 'score': -27.620519638061523}, {'prompt': '03211233232123321123321312323132131232131213231123322131221123323211231233123213123132121123323121323132132323132121123323121233213121323122131323132131221123312313213213231213132321232132211231233123', 'original': '21323213132131231313232132132313232131213132313221322112312332213212321312321311233213123121233213121323211233124', 'generated': '121121232131312321321213231321311223213132323213121233231231212131123231212112123312213131212132313121232121212332123312', 'score': -22.601137161254883}, {'prompt': '02132123312312131232112331232112332123211233221312321123321312313231321213132213131232312132132123313123211233213232112332123213121233123213123211233123211233231211233122121313231321312322112331312213', 'original': '21312313231213211233123123132131232112332211231233123212131231321233213132132323213132321123321232145555555555555', 'generated': '121312111123123123121213211232131321312123231213111323213212321221312312133121333121313232321231211231211211233212331212', 'score': -27.163406372070312}, {'prompt': '03212321321313232313213213131212321323213231323121312321313121233212131231213132323132132211233122131123312321321312313231212131231312321123312312132321123312123212131312321312123321323131322131232112', 'original': '33132321312321313123121312211233123213112331221313213123213123132313213213132455555555555555555555555555555555555', 'generated': '313231322132121312313121231313221321312313122312211313211233223131321233233123112121213131322321231221312121131231323213', 'score': -29.438730239868164}]\n",
      "03122112331231213132132321232121312123322131321123323132321312312132131322132123123312213123211232131231313123212112332312123212131312321232132131312312131232321313123121213132123323213213212331212332112331323211231232221313121232113231321123213221121233232131212312312311231213232132132121321323131231212311212132112312\n",
      "False\n",
      "03131221321313121233213123132321313213122131312123312321322131323121312211232132123123312212131312313122132112332123321312321233213213132123312212132123312211232131312123312321323213132313212131231313232131232131212131212312331231321213132313221223131212121213221312313132231213132112321121233122132211233232111331123121\n",
      "False\n",
      "03211233232123321123321312323132131232131213231123322131221123323211231233123213123132121123323121323132132323132121123323121233213121323122131323132131221123312313213213231213132321232132211231233123121121232131312321321213231321311223213132323213121233231231212131123231212112123312213131212132313121232121212332123312\n",
      "False\n",
      "02132123312312131232112331232112332123211233221312321123321312313231321213132213131232312132132123313123211233213232112332123213121233123213123211233123211233231211233122121313231321312322112331312213121312111123123123121213211232131321312123231213111323213212321221312312133121333121313232321231211231211211233212331212\n",
      "False\n",
      "03212321321313232313213213131212321323213231323121312321313121233212131231213132323132132211233122131123312321321312313231212131231312321123312312132321123312123212131312321312123321323131322131232112313231322132121312313121231313221321312313122312211313211233223131321233233123112121213131322321231221312121131231323213\n",
      "False\n"
     ]
    }
   ],
   "source": [
    "\n",
    "for res in results: \n",
    "    full = res[\"prompt\"] + res[\"generated\"]\n",
    "    print(full)\n",
    "    if \"5\" in full:\n",
    "        print(parser.is_valid(full[1:full.index(\"5\")-1]))\n",
    "    else:\n",
    "        print(parser.is_valid(full[1:-1]))"
   ]
  },
  {
   "cell_type": "markdown",
   "id": "cfe29f6d",
   "metadata": {},
   "source": [
    "### Attention Analysis"
   ]
  },
  {
   "cell_type": "code",
   "execution_count": 16,
   "id": "4ffa568d",
   "metadata": {},
   "outputs": [],
   "source": [
    "checkpoint = torch.load(\"expts/full_rope_86_0labelsmoothing0.01wdnoweighttying/checkpoints/checkpoint-last-epoch-model.pth\")\n",
    "model.load_state_dict(checkpoint['model_state_dict'])\n",
    "model.to(device)\n",
    "\n",
    "model.eval()\n",
    "for i, batch in enumerate(val_loader):\n",
    "      \n",
    "            targets_shifted, targets_golden = batch #shape (batch_size, seq_len)\n",
    "            targets_shifted, targets_golden = targets_shifted.to(device), targets_golden.to(device)\n",
    "\n",
    "            # Forward pass\n",
    "            with torch.inference_mode():\n",
    "               \n",
    "                raw_preds, attn_weights = model.forward(targets_shifted)\n",
    "            break"
   ]
  },
  {
   "cell_type": "code",
   "execution_count": 25,
   "id": "f60b17bc",
   "metadata": {},
   "outputs": [
    {
     "data": {
      "text/plain": [
       "Text(95.72222222222221, 0.5, 'Target Sequence')"
      ]
     },
     "execution_count": 25,
     "metadata": {},
     "output_type": "execute_result"
    },
    {
     "data": {
      "image/png": "[encoded data removed]",
      "text/plain": [
       "<Figure size 1000x800 with 2 Axes>"
      ]
     },
     "metadata": {},
     "output_type": "display_data"
    }
   ],
   "source": [
    "#attn_weights[\"layer1_dec_self\"][0].shape\n",
    "from matplotlib import pyplot as plt\n",
    "import seaborn as sns\n",
    "attn_weights_i = attn_weights[\"layer3_dec_self\"][0].cpu().detach().numpy()\n",
    "        \n",
    "plt.figure(figsize=(10, 8))\n",
    "sns.heatmap(attn_weights_i, cmap=\"viridis\", cbar=True)\n",
    "#plt.title(f\"Attention Weights - Epoch {epoch}\")\n",
    "plt.xlabel(\"Source Sequence\")\n",
    "plt.ylabel(\"Target Sequence\")\n"
   ]
  },
  {
   "cell_type": "code",
   "execution_count": null,
   "id": "6930ed51",
   "metadata": {},
   "outputs": [],
   "source": []
  },
  {
   "cell_type": "code",
   "execution_count": null,
   "id": "2c5e5530",
   "metadata": {},
   "outputs": [],
   "source": []
  },
  {
   "cell_type": "code",
   "execution_count": null,
   "id": "97fe15a7",
   "metadata": {},
   "outputs": [],
   "source": []
  },
  {
   "cell_type": "code",
   "execution_count": null,
   "id": "a9615146",
   "metadata": {},
   "outputs": [],
   "source": []
  }
 ],
 "metadata": {
  "kernelspec": {
   "display_name": "env",
   "language": "python",
   "name": "python3"
  },
  "language_info": {
   "codemirror_mode": {
    "name": "ipython",
    "version": 3
   },
   "file_extension": ".py",
   "mimetype": "text/x-python",
   "name": "python",
   "nbconvert_exporter": "python",
   "pygments_lexer": "ipython3",
   "version": "3.8.2"
  }
 },
 "nbformat": 4,
 "nbformat_minor": 5
}
