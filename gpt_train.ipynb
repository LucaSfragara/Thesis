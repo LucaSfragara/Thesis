{
 "cells": [
  {
   "cell_type": "code",
   "execution_count": 1,
   "id": "11c7c357",
   "metadata": {},
   "outputs": [],
   "source": [
    "%load_ext autoreload\n",
    "%autoreload 2"
   ]
  },
  {
   "cell_type": "code",
   "execution_count": 2,
   "id": "1420f1ea",
   "metadata": {},
   "outputs": [
    {
     "name": "stdout",
     "output_type": "stream",
     "text": [
      "Using device: cuda\n",
      "Config loaded successfully.\n"
     ]
    }
   ],
   "source": [
    "from models.transformers import DecoderOnlyTransformer\n",
    "import torch\n",
    "from torch.utils.data import DataLoader\n",
    "import matplotlib.pyplot as plt\n",
    "import yaml\n",
    "import gc\n",
    "import torch\n",
    "from torchinfo import summary\n",
    "import os\n",
    "import json\n",
    "import shutil\n",
    "import wandb\n",
    "import yaml\n",
    "from data.datasets import CFGDataset, verify_dataloader\n",
    "from trainers.GPT_trainer import GPT_Trainer\n",
    "from trainers.utils import create_optimizer, create_scheduler\n",
    "\n",
    "\n",
    "device = \"cuda\" if torch.cuda.is_available() else \"cpu\"\n",
    "print(f\"Using device: {device}\")\n",
    "\n",
    "#Read config yaml file\n",
    "with open(\"config.yaml\", \"r\") as f:\n",
    "    config = yaml.safe_load(f)\n",
    "print(f\"Config loaded successfully.\")\n",
    "\n"
   ]
  },
  {
   "cell_type": "markdown",
   "id": "0f46d0e9",
   "metadata": {},
   "source": [
    "#### Loading Data"
   ]
  },
  {
   "cell_type": "code",
   "execution_count": 3,
   "id": "1b809426",
   "metadata": {},
   "outputs": [
    {
     "name": "stdout",
     "output_type": "stream",
     "text": [
      "Verifying dataloader...\n",
      "Number of batches:  40669\n",
      "Total number of tokens:  1.998977e+09\n"
     ]
    },
    {
     "name": "stdout",
     "output_type": "stream",
     "text": [
      "Example batch shapes (shifted, golden):  torch.Size([96, 512]) torch.Size([96, 512])\n",
      "__________________________________________________\n",
      "Verifying dataloader...\n",
      "Number of batches:  4518\n",
      "Total number of tokens:  2.221086e+08\n",
      "Example batch shapes (shifted, golden):  torch.Size([96, 512]) torch.Size([96, 512])\n"
     ]
    }
   ],
   "source": [
    "train_dataset =  CFGDataset(\n",
    "    data_file=\"cfg_sentences_train_cfg3b.npy\", \n",
    "    batch_size = config[\"data\"][\"batch_size\"],\n",
    "    seq_len = config[\"data\"][\"seq_len\"],\n",
    "    eos_token = config[\"data\"][\"eos_token\"],\n",
    "    sos_token = config[\"data\"][\"sos_token\"],\n",
    "    ) \n",
    "\n",
    "val_dataset =  CFGDataset(\n",
    "    data_file=\"cfg_sentences_val_cfg3b.npy\", \n",
    "    \n",
    "    batch_size = config[\"data\"][\"batch_size\"],\n",
    "    seq_len = config[\"data\"][\"seq_len\"],\n",
    "    eos_token = config[\"data\"][\"eos_token\"],\n",
    "    sos_token = config[\"data\"][\"sos_token\"],\n",
    "    ) \n",
    "\n",
    "\n",
    "train_loader = DataLoader(train_dataset, \n",
    "                          batch_size = None, \n",
    "                          num_workers=config[\"data\"][\"NUM_WORKERS\"] if device == \"cuda\" else 0, \n",
    "                          pin_memory=True)\n",
    "\n",
    "val_loader = DataLoader(val_dataset, \n",
    "                        batch_size=None, \n",
    "                        num_workers=config[\"data\"][\"NUM_WORKERS\"] if device == \"cuda\" else 0,\n",
    "                        pin_memory=True)\n",
    "\n",
    "verify_dataloader(train_loader)\n",
    "print(\"_\"*50)\n",
    "verify_dataloader(val_loader)\n",
    "#print(\"=\"*50)\n",
    "#print(\"Verify Validation DataLoader\")\n",
    "#verify_dataloader(val_loader)"
   ]
  },
  {
   "cell_type": "code",
   "execution_count": 4,
   "id": "ff351c1b",
   "metadata": {},
   "outputs": [
    {
     "name": "stdout",
     "output_type": "stream",
     "text": [
      "Shape of shifted_transcripts :  torch.Size([96, 512])\n",
      "Shape of golden_transcripts  :  torch.Size([96, 512])\n",
      "Total parameters in the model: 42,532,613\n"
     ]
    }
   ],
   "source": [
    "model_config = {}\n",
    "model_config = config['model'].copy()\n",
    "\n",
    "model_config.update({\n",
    "    'num_classes': config[\"data\"][\"vocab_size\"] +2 ,#include SOS and ESO tolen\n",
    "    'seq_len': config[\"data\"][\"seq_len\"],\n",
    "    })\n",
    "\n",
    "model = DecoderOnlyTransformer(**model_config)\n",
    "\n",
    "for batch in train_loader:\n",
    "    shifted_transcripts, golden_transcripts = batch\n",
    "    print(\"Shape of shifted_transcripts : \", shifted_transcripts.shape)\n",
    "    print(\"Shape of golden_transcripts  : \", golden_transcripts.shape)\n",
    "    break\n",
    "\n",
    "#model_stats = summary(model, input_data=[shifted_transcripts])\n",
    "#print(model_stats)\n",
    "print(f\"Total parameters in the model: {sum(p.numel() for p in model.parameters()):,}\")\n",
    "#torch._dynamo.config.skip_nnmodule_hook_guards = False\n",
    "#model = torch.compile(model, mode=\"default\", fullgraph=True)\n"
   ]
  },
  {
   "cell_type": "code",
   "execution_count": 5,
   "id": "8774d46c",
   "metadata": {},
   "outputs": [],
   "source": [
    "#get total memory space used by data\n",
    "#total_memory = torch.cuda.memory_allocated(device) / (1024 ** 3)\n",
    "#print(f\"Total memory used by data: {total_memory:.2f} GB\")"
   ]
  },
  {
   "cell_type": "code",
   "execution_count": 6,
   "id": "50faa61a",
   "metadata": {},
   "outputs": [
    {
     "name": "stdout",
     "output_type": "stream",
     "text": [
      "Using device: cuda\n"
     ]
    },
    {
     "name": "stderr",
     "output_type": "stream",
     "text": [
      "\u001b[34m\u001b[1mwandb\u001b[0m: Using wandb-core as the SDK backend.  Please refer to https://wandb.me/wandb-core for more information.\n",
      "\u001b[34m\u001b[1mwandb\u001b[0m: Currently logged in as: \u001b[33mlucasfragara\u001b[0m (\u001b[33mteamlsfr\u001b[0m) to \u001b[32mhttps://api.wandb.ai\u001b[0m. Use \u001b[1m`wandb login --relogin`\u001b[0m to force relogin\n"
     ]
    },
    {
     "data": {
      "text/html": [
       "Tracking run with wandb version 0.19.8"
      ],
      "text/plain": [
       "<IPython.core.display.HTML object>"
      ]
     },
     "metadata": {},
     "output_type": "display_data"
    },
    {
     "data": {
      "text/html": [
       "Run data is saved locally in <code>/ocean/projects/cis250019p/sfragara/lstm/wandb/run-20250419_152542-q6ljctzd</code>"
      ],
      "text/plain": [
       "<IPython.core.display.HTML object>"
      ]
     },
     "metadata": {},
     "output_type": "display_data"
    },
    {
     "data": {
      "text/html": [
       "Syncing run <strong><a href='https://wandb.ai/teamlsfr/Thesis/runs/q6ljctzd' target=\"_blank\">test</a></strong> to <a href='https://wandb.ai/teamlsfr/Thesis' target=\"_blank\">Weights & Biases</a> (<a href='https://wandb.me/developer-guide' target=\"_blank\">docs</a>)<br>"
      ],
      "text/plain": [
       "<IPython.core.display.HTML object>"
      ]
     },
     "metadata": {},
     "output_type": "display_data"
    },
    {
     "data": {
      "text/html": [
       " View project at <a href='https://wandb.ai/teamlsfr/Thesis' target=\"_blank\">https://wandb.ai/teamlsfr/Thesis</a>"
      ],
      "text/plain": [
       "<IPython.core.display.HTML object>"
      ]
     },
     "metadata": {},
     "output_type": "display_data"
    },
    {
     "data": {
      "text/html": [
       " View run at <a href='https://wandb.ai/teamlsfr/Thesis/runs/q6ljctzd' target=\"_blank\">https://wandb.ai/teamlsfr/Thesis/runs/q6ljctzd</a>"
      ],
      "text/plain": [
       "<IPython.core.display.HTML object>"
      ]
     },
     "metadata": {},
     "output_type": "display_data"
    },
    {
     "name": "stdout",
     "output_type": "stream",
     "text": [
      "\n",
      "🔧 Configuring Optimizer:\n",
      "├── Type: ADAMW\n",
      "├── Base LR: 0.0007\n",
      "├── Weight Decay: 0.1\n",
      "├── Parameter Groups:\n",
      "│   ├── Group: self_attn\n",
      "│   │   ├── LR: 0.0007\n",
      "│   │   └── Patterns: []\n",
      "│   ├── Group: ffn\n",
      "│   │   ├── LR: 0.0007\n",
      "│   │   └── Patterns: []\n",
      "│   └── Default Group (unmatched parameters)\n",
      "└── AdamW Specific:\n",
      "    ├── Betas: [0.9, 0.98]\n",
      "    ├── Epsilon: 1e-08\n",
      "    └── AMSGrad: False\n"
     ]
    },
    {
     "name": "stderr",
     "output_type": "stream",
     "text": [
      "/jet/home/sfragara/.conda/envs/env/lib/python3.8/site-packages/tqdm/auto.py:21: TqdmWarning: IProgress not found. Please update jupyter and ipywidgets. See https://ipywidgets.readthedocs.io/en/stable/user_install.html\n",
      "  from .autonotebook import tqdm as notebook_tqdm\n"
     ]
    },
    {
     "name": "stdout",
     "output_type": "stream",
     "text": [
      "\n",
      "📈 Configuring Learning Rate Scheduler:\n",
      "├── Type: COSINE\n",
      "├── Cosine Annealing Settings:\n",
      "│   ├── T_max: 40669 steps\n",
      "│   └── Min LR: 1e-08\n",
      "└── Warmup: Disabled\n",
      "Warning: Only showing 5 out of 76 parameter groups for clarity\n"
     ]
    },
    {
     "data": {
      "image/png": "[encoded data removed]",
      "text/plain": [
       "<Figure size 1200x400 with 1 Axes>"
      ]
     },
     "metadata": {},
     "output_type": "display_data"
    }
   ],
   "source": [
    "from trainers.utils.create_scheduler import plot_lr_schedule\n",
    "\n",
    "\n",
    "torch.cuda.empty_cache()\n",
    "gc.collect()\n",
    "\n",
    "trainer = GPT_Trainer(\n",
    "    model = model, \n",
    "    config = config,\n",
    "    config_file = \"config.yaml\",\n",
    "    run_name = \"test\", \n",
    "    device = device\n",
    ")\n",
    "\n",
    "trainer.optimizer = create_optimizer.create_optimizer(\n",
    "    model = model, \n",
    "    opt_config = config[\"optimizer\"]\n",
    ")\n",
    "\n",
    "trainer.scheduler = create_scheduler.create_scheduler(\n",
    "    optimizer=trainer.optimizer,\n",
    "    scheduler_config=config['scheduler'],\n",
    "    train_loader=train_loader,\n",
    "    gradient_accumulation_steps=config['training']['gradient_accumulation_steps']\n",
    ")\n",
    "\n",
    "plot_lr_schedule(trainer.scheduler, num_epochs=len(train_loader), train_loader=train_loader)\n",
    "\n",
    "#trainer.load_checkpoint(\"/ocean/projects/cis250019p/sfragara/lstm/expts/test/checkpoints/checkpoint-best-metric-model.pth\")"
   ]
  },
  {
   "cell_type": "code",
   "execution_count": null,
   "id": "86c5c200",
   "metadata": {},
   "outputs": [
    {
     "name": "stderr",
     "output_type": "stream",
     "text": [
      "                                                                                      n=1.4153, lr=0.000700, perplexity_token=4. \r"
     ]
    },
    {
     "name": "stdout",
     "output_type": "stream",
     "text": [
      "wandb metrics being logged:  {'train/ce_loss_token': 1.4153383297495323, 'train/perplexity_token': 4.117879390716553, 'val/ce_loss_token': 1.2705635683877128, 'val/perplexity_token': 3.5628600120544434, 'learning_rate': 0.0006999893476568829}\n",
      "\n",
      "📊 Metrics (Epoch 100):\n",
      "├── TRAIN:\n",
      "│   ├── ce_loss_token: 1.4153\n",
      "│   └── perplexity_token: 4.1179\n",
      "└── VAL:\n",
      "    ├── ce_loss_token: 1.2706\n",
      "    └── perplexity_token: 3.5629\n",
      "└── TRAINING:\n",
      "    └── learning_rate: 0.000700\n"
     ]
    },
    {
     "name": "stderr",
     "output_type": "stream",
     "text": [
      "\u001b[34m\u001b[1mwandb\u001b[0m: \u001b[33mWARNING\u001b[0m Saving files without folders. If you want to preserve subdirectories pass base_path to wandb.save, i.e. wandb.save(\"/mnt/folder/file.h5\", base_path=\"/mnt\")\n",
      "                                                                                      n=1.3435, lr=0.000700, perplexity_token=3.\r"
     ]
    },
    {
     "name": "stdout",
     "output_type": "stream",
     "text": [
      "wandb metrics being logged:  {'train/ce_loss_token': 1.3434633004724683, 'train/perplexity_token': 3.8322930335998535, 'val/ce_loss_token': 1.2695632321493966, 'val/perplexity_token': 3.559297561645508, 'learning_rate': 0.000699957812091826}\n",
      "\n",
      "📊 Metrics (Epoch 200):\n",
      "├── TRAIN:\n",
      "│   ├── ce_loss_token: 1.3435\n",
      "│   └── perplexity_token: 3.8323\n",
      "└── VAL:\n",
      "    ├── ce_loss_token: 1.2696\n",
      "    └── perplexity_token: 3.5593\n",
      "└── TRAINING:\n",
      "    └── learning_rate: 0.000700\n"
     ]
    },
    {
     "name": "stderr",
     "output_type": "stream",
     "text": [
      "                                                                                      n=1.3188, lr=0.000700, perplexity_token=3.\r"
     ]
    },
    {
     "name": "stdout",
     "output_type": "stream",
     "text": [
      "wandb metrics being logged:  {'train/ce_loss_token': 1.3188371424659147, 'train/perplexity_token': 3.7390708923339844, 'val/ce_loss_token': 1.2642830269677299, 'val/perplexity_token': 3.540553569793701, 'learning_rate': 0.0006999053941423708}\n",
      "\n",
      "📊 Metrics (Epoch 300):\n",
      "├── TRAIN:\n",
      "│   ├── ce_loss_token: 1.3188\n",
      "│   └── perplexity_token: 3.7391\n",
      "└── VAL:\n",
      "    ├── ce_loss_token: 1.2643\n",
      "    └── perplexity_token: 3.5406\n",
      "└── TRAINING:\n",
      "    └── learning_rate: 0.000700\n"
     ]
    },
    {
     "name": "stderr",
     "output_type": "stream",
     "text": [
      "                                                                                      n=1.2989, lr=0.000700, perplexity_token=3.\r"
     ]
    },
    {
     "name": "stdout",
     "output_type": "stream",
     "text": [
      "wandb metrics being logged:  {'train/ce_loss_token': 1.2989222061009775, 'train/perplexity_token': 3.665343999862671, 'val/ce_loss_token': 1.191757219178336, 'val/perplexity_token': 3.2928624153137207, 'learning_rate': 0.0006998320969364004}\n",
      "\n",
      "📊 Metrics (Epoch 400):\n",
      "├── TRAIN:\n",
      "│   ├── ce_loss_token: 1.2989\n",
      "│   └── perplexity_token: 3.6653\n",
      "└── VAL:\n",
      "    ├── ce_loss_token: 1.1918\n",
      "    └── perplexity_token: 3.2929\n",
      "└── TRAINING:\n",
      "    └── learning_rate: 0.000700\n"
     ]
    },
    {
     "name": "stderr",
     "output_type": "stream",
     "text": [
      "                                                                                      n=1.2783, lr=0.000700, perplexity_token=3.\r"
     ]
    },
    {
     "name": "stdout",
     "output_type": "stream",
     "text": [
      "wandb metrics being logged:  {'train/ce_loss_token': 1.2783329137071164, 'train/perplexity_token': 3.590648889541626, 'val/ce_loss_token': 1.1679083960396903, 'val/perplexity_token': 3.2152607440948486, 'learning_rate': 0.0006997379248477051}\n",
      "\n",
      "📊 Metrics (Epoch 500):\n",
      "├── TRAIN:\n",
      "│   ├── ce_loss_token: 1.2783\n",
      "│   └── perplexity_token: 3.5906\n",
      "└── VAL:\n",
      "    ├── ce_loss_token: 1.1679\n",
      "    └── perplexity_token: 3.2153\n",
      "└── TRAINING:\n",
      "    └── learning_rate: 0.000700\n"
     ]
    },
    {
     "name": "stderr",
     "output_type": "stream",
     "text": [
      "                                                                                      n=1.2608, lr=0.000700, perplexity_token=3.\r"
     ]
    },
    {
     "name": "stdout",
     "output_type": "stream",
     "text": [
      "wandb metrics being logged:  {'train/ce_loss_token': 1.260795346115671, 'train/perplexity_token': 3.528226613998413, 'val/ce_loss_token': 1.1657753842217582, 'val/perplexity_token': 3.2084097862243652, 'learning_rate': 0.0006996228834957227}\n",
      "\n",
      "📊 Metrics (Epoch 600):\n",
      "├── TRAIN:\n",
      "│   ├── ce_loss_token: 1.2608\n",
      "│   └── perplexity_token: 3.5282\n",
      "└── VAL:\n",
      "    ├── ce_loss_token: 1.1658\n",
      "    └── perplexity_token: 3.2084\n",
      "└── TRAINING:\n",
      "    └── learning_rate: 0.000700\n"
     ]
    },
    {
     "name": "stderr",
     "output_type": "stream",
     "text": [
      "                                                                                      n=1.2470, lr=0.000699, perplexity_token=3.\r"
     ]
    },
    {
     "name": "stdout",
     "output_type": "stream",
     "text": [
      "wandb metrics being logged:  {'train/ce_loss_token': 1.2469507134419875, 'train/perplexity_token': 3.4797163009643555, 'val/ce_loss_token': 1.1602495057242257, 'val/perplexity_token': 3.1907291412353516, 'learning_rate': 0.0006994869797452001}\n",
      "\n",
      "📊 Metrics (Epoch 700):\n",
      "├── TRAIN:\n",
      "│   ├── ce_loss_token: 1.2470\n",
      "│   └── perplexity_token: 3.4797\n",
      "└── VAL:\n",
      "    ├── ce_loss_token: 1.1602\n",
      "    └── perplexity_token: 3.1907\n",
      "└── TRAINING:\n",
      "    └── learning_rate: 0.000699\n"
     ]
    },
    {
     "name": "stderr",
     "output_type": "stream",
     "text": [
      "                                                                                      n=1.2364, lr=0.000699, perplexity_token=3.\r"
     ]
    },
    {
     "name": "stdout",
     "output_type": "stream",
     "text": [
      "wandb metrics being logged:  {'train/ce_loss_token': 1.2363576033291002, 'train/perplexity_token': 3.443049430847168, 'val/ce_loss_token': 1.161023463521685, 'val/perplexity_token': 3.193199872970581, 'learning_rate': 0.0006993302217057863}\n",
      "\n",
      "📊 Metrics (Epoch 800):\n",
      "├── TRAIN:\n",
      "│   ├── ce_loss_token: 1.2364\n",
      "│   └── perplexity_token: 3.4430\n",
      "└── VAL:\n",
      "    ├── ce_loss_token: 1.1610\n",
      "    └── perplexity_token: 3.1932\n",
      "└── TRAINING:\n",
      "    └── learning_rate: 0.000699\n"
     ]
    },
    {
     "name": "stderr",
     "output_type": "stream",
     "text": [
      "                                                                                      n=1.2281, lr=0.000699, perplexity_token=3.\r"
     ]
    },
    {
     "name": "stdout",
     "output_type": "stream",
     "text": [
      "wandb metrics being logged:  {'train/ce_loss_token': 1.2281199455525846, 'train/perplexity_token': 3.4148035049438477, 'val/ce_loss_token': 1.15960316998618, 'val/perplexity_token': 3.1886675357818604, 'learning_rate': 0.0006991526187315471}\n",
      "\n",
      "📊 Metrics (Epoch 900):\n",
      "├── TRAIN:\n",
      "│   ├── ce_loss_token: 1.2281\n",
      "│   └── perplexity_token: 3.4148\n",
      "└── VAL:\n",
      "    ├── ce_loss_token: 1.1596\n",
      "    └── perplexity_token: 3.1887\n",
      "└── TRAINING:\n",
      "    └── learning_rate: 0.000699\n"
     ]
    },
    {
     "name": "stderr",
     "output_type": "stream",
     "text": [
      "                                                                                      en=1.2182, lr=0.000699, perplexity_token=3\r"
     ]
    },
    {
     "name": "stdout",
     "output_type": "stream",
     "text": [
      "wandb metrics being logged:  {'train/ce_loss_token': 1.2182152916144182, 'train/perplexity_token': 3.381148099899292, 'val/ce_loss_token': 0.9349282213619777, 'val/perplexity_token': 2.5470306873321533, 'learning_rate': 0.0006989541814204076}\n",
      "\n",
      "📊 Metrics (Epoch 1000):\n",
      "├── TRAIN:\n",
      "│   ├── ce_loss_token: 1.2182\n",
      "│   └── perplexity_token: 3.3811\n",
      "└── VAL:\n",
      "    ├── ce_loss_token: 0.9349\n",
      "    └── perplexity_token: 2.5470\n",
      "└── TRAINING:\n",
      "    └── learning_rate: 0.000699\n"
     ]
    },
    {
     "name": "stderr",
     "output_type": "stream",
     "text": [
      "                                                                                      en=1.1527, lr=0.000699, perplexity_token=3\r"
     ]
    },
    {
     "name": "stdout",
     "output_type": "stream",
     "text": [
      "wandb metrics being logged:  {'train/ce_loss_token': 1.1527384579668902, 'train/perplexity_token': 3.166853427886963, 'val/ce_loss_token': 0.39734828046389986, 'val/perplexity_token': 1.4878740310668945, 'learning_rate': 0.0006987349216135188}\n",
      "\n",
      "📊 Metrics (Epoch 1100):\n",
      "├── TRAIN:\n",
      "│   ├── ce_loss_token: 1.1527\n",
      "│   └── perplexity_token: 3.1669\n",
      "└── VAL:\n",
      "    ├── ce_loss_token: 0.3973\n",
      "    └── perplexity_token: 1.4879\n",
      "└── TRAINING:\n",
      "    └── learning_rate: 0.000699\n"
     ]
    },
    {
     "name": "stderr",
     "output_type": "stream",
     "text": [
      "                                                                                      en=1.0897, lr=0.000698, perplexity_token=2\r"
     ]
    },
    {
     "name": "stdout",
     "output_type": "stream",
     "text": [
      "wandb metrics being logged:  {'train/ce_loss_token': 1.0896585554157467, 'train/perplexity_token': 2.9732584953308105, 'val/ce_loss_token': 0.39314186573028564, 'val/perplexity_token': 1.4816285371780396, 'learning_rate': 0.0006984948523945518}\n",
      "\n",
      "📊 Metrics (Epoch 1200):\n",
      "├── TRAIN:\n",
      "│   ├── ce_loss_token: 1.0897\n",
      "│   └── perplexity_token: 2.9733\n",
      "└── VAL:\n",
      "    ├── ce_loss_token: 0.3931\n",
      "    └── perplexity_token: 1.4816\n",
      "└── TRAINING:\n",
      "    └── learning_rate: 0.000698\n"
     ]
    },
    {
     "name": "stderr",
     "output_type": "stream",
     "text": [
      "                                                                                      en=1.0361, lr=0.000698, perplexity_token=2\r"
     ]
    },
    {
     "name": "stdout",
     "output_type": "stream",
     "text": [
      "wandb metrics being logged:  {'train/ce_loss_token': 1.0361040020612091, 'train/perplexity_token': 2.818215847015381, 'val/ce_loss_token': 0.3916940561362675, 'val/perplexity_token': 1.479485034942627, 'learning_rate': 0.000698233988088917}\n",
      "\n",
      "📊 Metrics (Epoch 1300):\n",
      "├── TRAIN:\n",
      "│   ├── ce_loss_token: 1.0361\n",
      "│   └── perplexity_token: 2.8182\n",
      "└── VAL:\n",
      "    ├── ce_loss_token: 0.3917\n",
      "    └── perplexity_token: 1.4795\n",
      "└── TRAINING:\n",
      "    └── learning_rate: 0.000698\n"
     ]
    },
    {
     "name": "stderr",
     "output_type": "stream",
     "text": [
      "                                                                                      en=0.9901, lr=0.000698, perplexity_token=2\r"
     ]
    },
    {
     "name": "stdout",
     "output_type": "stream",
     "text": [
      "wandb metrics being logged:  {'train/ce_loss_token': 0.9901370476349007, 'train/perplexity_token': 2.691603422164917, 'val/ce_loss_token': 0.3929638053689684, 'val/perplexity_token': 1.4813647270202637, 'learning_rate': 0.0006979523442629106}\n",
      "\n",
      "📊 Metrics (Epoch 1400):\n",
      "├── TRAIN:\n",
      "│   ├── ce_loss_token: 0.9901\n",
      "│   └── perplexity_token: 2.6916\n",
      "└── VAL:\n",
      "    ├── ce_loss_token: 0.3930\n",
      "    └── perplexity_token: 1.4814\n",
      "└── TRAINING:\n",
      "    └── learning_rate: 0.000698\n"
     ]
    },
    {
     "name": "stderr",
     "output_type": "stream",
     "text": [
      "                                                                                      1, ce_loss_token=0.9503, lr=0.000698, perplexity_token=2.5866]\r"
     ]
    },
    {
     "name": "stdout",
     "output_type": "stream",
     "text": [
      "wandb metrics being logged:  {'train/ce_loss_token': 0.9503251519662234, 'train/perplexity_token': 2.58655047416687, 'val/ce_loss_token': 0.3936582846300943, 'val/perplexity_token': 1.4823938608169556, 'learning_rate': 0.0006976499377227822}\n",
      "\n",
      "📊 Metrics (Epoch 1500):\n",
      "├── TRAIN:\n",
      "│   ├── ce_loss_token: 0.9503\n",
      "│   └── perplexity_token: 2.5866\n",
      "└── VAL:\n",
      "    ├── ce_loss_token: 0.3937\n",
      "    └── perplexity_token: 1.4824\n",
      "└── TRAINING:\n",
      "    └── learning_rate: 0.000698\n"
     ]
    },
    {
     "name": "stderr",
     "output_type": "stream",
     "text": [
      "                                                                                      1, ce_loss_token=0.9156, lr=0.000697, perplexity_token=2.4983]\r"
     ]
    },
    {
     "name": "stdout",
     "output_type": "stream",
     "text": [
      "wandb metrics being logged:  {'train/ce_loss_token': 0.9156110505250601, 'train/perplexity_token': 2.4983012676239014, 'val/ce_loss_token': 0.39193572316850933, 'val/perplexity_token': 1.4798426628112793, 'learning_rate': 0.000697326786513735}\n",
      "\n",
      "📊 Metrics (Epoch 1600):\n",
      "├── TRAIN:\n",
      "│   ├── ce_loss_token: 0.9156\n",
      "│   └── perplexity_token: 2.4983\n",
      "└── VAL:\n",
      "    ├── ce_loss_token: 0.3919\n",
      "    └── perplexity_token: 1.4798\n",
      "└── TRAINING:\n",
      "    └── learning_rate: 0.000697\n"
     ]
    },
    {
     "name": "stderr",
     "output_type": "stream",
     "text": [
      "                                                                                      1, ce_loss_token=0.8848, lr=0.000697, perplexity_token=2.4225]\r"
     ]
    },
    {
     "name": "stdout",
     "output_type": "stream",
     "text": [
      "wandb metrics being logged:  {'train/ce_loss_token': 0.8848183661751856, 'train/perplexity_token': 2.422544240951538, 'val/ce_loss_token': 0.3942274408681052, 'val/perplexity_token': 1.483237862586975, 'learning_rate': 0.0006969829099188478}\n",
      "\n",
      "📊 Metrics (Epoch 1700):\n",
      "├── TRAIN:\n",
      "│   ├── ce_loss_token: 0.8848\n",
      "│   └── perplexity_token: 2.4225\n",
      "└── VAL:\n",
      "    ├── ce_loss_token: 0.3942\n",
      "    └── perplexity_token: 1.4832\n",
      "└── TRAINING:\n",
      "    └── learning_rate: 0.000697\n"
     ]
    },
    {
     "name": "stderr",
     "output_type": "stream",
     "text": [
      "                                                                                      1, ce_loss_token=0.8574, lr=0.000697, perplexity_token=2.3571]\r"
     ]
    },
    {
     "name": "stdout",
     "output_type": "stream",
     "text": [
      "wandb metrics being logged:  {'train/ce_loss_token': 0.8574347267178679, 'train/perplexity_token': 2.3571064472198486, 'val/ce_loss_token': 0.3913844270365579, 'val/perplexity_token': 1.4790270328521729, 'learning_rate': 0.000696618328457926}\n",
      "\n",
      "📊 Metrics (Epoch 1800):\n",
      "├── TRAIN:\n",
      "│   ├── ce_loss_token: 0.8574\n",
      "│   └── perplexity_token: 2.3571\n",
      "└── VAL:\n",
      "    ├── ce_loss_token: 0.3914\n",
      "    └── perplexity_token: 1.4790\n",
      "└── TRAINING:\n",
      "    └── learning_rate: 0.000697\n"
     ]
    },
    {
     "name": "stderr",
     "output_type": "stream",
     "text": [
      "                                                                                      1, ce_loss_token=0.8329, lr=0.000696, perplexity_token=2.3001]\r"
     ]
    },
    {
     "name": "stdout",
     "output_type": "stream",
     "text": [
      "wandb metrics being logged:  {'train/ce_loss_token': 0.832934207551922, 'train/perplexity_token': 2.3000576496124268, 'val/ce_loss_token': 0.39177291733878, 'val/perplexity_token': 1.4796017408370972, 'learning_rate': 0.000696233063886274}\n",
      "\n",
      "📊 Metrics (Epoch 1900):\n",
      "├── TRAIN:\n",
      "│   ├── ce_loss_token: 0.8329\n",
      "│   └── perplexity_token: 2.3001\n",
      "└── VAL:\n",
      "    ├── ce_loss_token: 0.3918\n",
      "    └── perplexity_token: 1.4796\n",
      "└── TRAINING:\n",
      "    └── learning_rate: 0.000696\n"
     ]
    },
    {
     "name": "stderr",
     "output_type": "stream",
     "text": [
      "                                                                                      , ce_loss_token=0.8109, lr=0.000696, perplexity_token=2.2499] \r"
     ]
    },
    {
     "name": "stdout",
     "output_type": "stream",
     "text": [
      "wandb metrics being logged:  {'train/ce_loss_token': 0.8108764995580193, 'train/perplexity_token': 2.2498791217803955, 'val/ce_loss_token': 0.3913902853216444, 'val/perplexity_token': 1.4790356159210205, 'learning_rate': 0.0006958271391933999}\n",
      "\n",
      "📊 Metrics (Epoch 2000):\n",
      "├── TRAIN:\n",
      "│   ├── ce_loss_token: 0.8109\n",
      "│   └── perplexity_token: 2.2499\n",
      "└── VAL:\n",
      "    ├── ce_loss_token: 0.3914\n",
      "    └── perplexity_token: 1.4790\n",
      "└── TRAINING:\n",
      "    └── learning_rate: 0.000696\n"
     ]
    },
    {
     "name": "stderr",
     "output_type": "stream",
     "text": [
      "                                                                                      , ce_loss_token=0.7909, lr=0.000695, perplexity_token=2.2054]\r"
     ]
    },
    {
     "name": "stdout",
     "output_type": "stream",
     "text": [
      "wandb metrics being logged:  {'train/ce_loss_token': 0.790908887649025, 'train/perplexity_token': 2.205399990081787, 'val/ce_loss_token': 0.3912916992391859, 'val/perplexity_token': 1.4788898229599, 'learning_rate': 0.0006954005786016428}\n",
      "\n",
      "📊 Metrics (Epoch 2100):\n",
      "├── TRAIN:\n",
      "│   ├── ce_loss_token: 0.7909\n",
      "│   └── perplexity_token: 2.2054\n",
      "└── VAL:\n",
      "    ├── ce_loss_token: 0.3913\n",
      "    └── perplexity_token: 1.4789\n",
      "└── TRAINING:\n",
      "    └── learning_rate: 0.000695\n"
     ]
    },
    {
     "name": "stderr",
     "output_type": "stream",
     "text": [
      "                                                                                      , ce_loss_token=0.7728, lr=0.000695, perplexity_token=2.1657]\r"
     ]
    },
    {
     "name": "stdout",
     "output_type": "stream",
     "text": [
      "wandb metrics being logged:  {'train/ce_loss_token': 0.7727506639116842, 'train/perplexity_token': 2.165715217590332, 'val/ce_loss_token': 0.39127390725272043, 'val/perplexity_token': 1.4788635969161987, 'learning_rate': 0.0006949534075647252}\n",
      "\n",
      "📊 Metrics (Epoch 2200):\n",
      "├── TRAIN:\n",
      "│   ├── ce_loss_token: 0.7728\n",
      "│   └── perplexity_token: 2.1657\n",
      "└── VAL:\n",
      "    ├── ce_loss_token: 0.3913\n",
      "    └── perplexity_token: 1.4789\n",
      "└── TRAINING:\n",
      "    └── learning_rate: 0.000695\n"
     ]
    },
    {
     "name": "stderr",
     "output_type": "stream",
     "text": [
      "                                                                                      , ce_loss_token=0.7562, lr=0.000694, perplexity_token=2.1301]\r"
     ]
    },
    {
     "name": "stdout",
     "output_type": "stream",
     "text": [
      "wandb metrics being logged:  {'train/ce_loss_token': 0.75617618553797, 'train/perplexity_token': 2.130115509033203, 'val/ce_loss_token': 0.391413722719465, 'val/perplexity_token': 1.4790703058242798, 'learning_rate': 0.0006944856527662379}\n",
      "\n",
      "📊 Metrics (Epoch 2300):\n",
      "├── TRAIN:\n",
      "│   ├── ce_loss_token: 0.7562\n",
      "│   └── perplexity_token: 2.1301\n",
      "└── VAL:\n",
      "    ├── ce_loss_token: 0.3914\n",
      "    └── perplexity_token: 1.4791\n",
      "└── TRAINING:\n",
      "    └── learning_rate: 0.000694\n"
     ]
    },
    {
     "name": "stderr",
     "output_type": "stream",
     "text": [
      "                                                                                      , ce_loss_token=0.7410, lr=0.000694, perplexity_token=2.0980]\r"
     ]
    },
    {
     "name": "stdout",
     "output_type": "stream",
     "text": [
      "wandb metrics being logged:  {'train/ce_loss_token': 0.740981677344619, 'train/perplexity_token': 2.097994089126587, 'val/ce_loss_token': 0.39142609919820515, 'val/perplexity_token': 1.479088544845581, 'learning_rate': 0.0006939973421180456}\n",
      "\n",
      "📊 Metrics (Epoch 2400):\n",
      "├── TRAIN:\n",
      "│   ├── ce_loss_token: 0.7410\n",
      "│   └── perplexity_token: 2.0980\n",
      "└── VAL:\n",
      "    ├── ce_loss_token: 0.3914\n",
      "    └── perplexity_token: 1.4791\n",
      "└── TRAINING:\n",
      "    └── learning_rate: 0.000694\n"
     ]
    },
    {
     "name": "stderr",
     "output_type": "stream",
     "text": [
      "                                                                                      , ce_loss_token=0.7270, lr=0.000693, perplexity_token=2.0689]\r"
     ]
    },
    {
     "name": "stdout",
     "output_type": "stream",
     "text": [
      "wandb metrics being logged:  {'train/ce_loss_token': 0.72700384880056, 'train/perplexity_token': 2.0688726902008057, 'val/ce_loss_token': 0.39129125646182467, 'val/perplexity_token': 1.4788892269134521, 'learning_rate': 0.0006934885047586219}\n",
      "\n",
      "📊 Metrics (Epoch 2500):\n",
      "├── TRAIN:\n",
      "│   ├── ce_loss_token: 0.7270\n",
      "│   └── perplexity_token: 2.0689\n",
      "└── VAL:\n",
      "    ├── ce_loss_token: 0.3913\n",
      "    └── perplexity_token: 1.4789\n",
      "└── TRAINING:\n",
      "    └── learning_rate: 0.000693\n"
     ]
    },
    {
     "name": "stderr",
     "output_type": "stream",
     "text": [
      "                                                                                      en=0.7141, lr=0.000693, perp                                 \r"
     ]
    },
    {
     "name": "stdout",
     "output_type": "stream",
     "text": [
      "wandb metrics being logged:  {'train/ce_loss_token': 0.7140977702682544, 'train/perplexity_token': 2.0423431396484375, 'val/ce_loss_token': 0.39222483549799236, 'val/perplexity_token': 1.480270504951477, 'learning_rate': 0.0006929591710513099}\n",
      "\n",
      "📊 Metrics (Epoch 2600):\n",
      "├── TRAIN:\n",
      "│   ├── ce_loss_token: 0.7141\n",
      "│   └── perplexity_token: 2.0423\n",
      "└── VAL:\n",
      "    ├── ce_loss_token: 0.3922\n",
      "    └── perplexity_token: 1.4803\n",
      "└── TRAINING:\n",
      "    └── learning_rate: 0.000693\n"
     ]
    },
    {
     "name": "stderr",
     "output_type": "stream",
     "text": [
      "                                                                                      en=0.7022, lr=0.000692, perp\r"
     ]
    },
    {
     "name": "stdout",
     "output_type": "stream",
     "text": [
      "wandb metrics being logged:  {'train/ce_loss_token': 0.7021578025901728, 'train/perplexity_token': 2.0181026458740234, 'val/ce_loss_token': 0.3914363511971065, 'val/perplexity_token': 1.4791038036346436, 'learning_rate': 0.0006924093725825109}\n",
      "\n",
      "📊 Metrics (Epoch 2700):\n",
      "├── TRAIN:\n",
      "│   ├── ce_loss_token: 0.7022\n",
      "│   └── perplexity_token: 2.0181\n",
      "└── VAL:\n",
      "    ├── ce_loss_token: 0.3914\n",
      "    └── perplexity_token: 1.4791\n",
      "└── TRAINING:\n",
      "    └── learning_rate: 0.000692\n"
     ]
    },
    {
     "name": "stderr",
     "output_type": "stream",
     "text": [
      "                                                                                      en=0.6911, lr=0.000692, perp\r"
     ]
    },
    {
     "name": "stdout",
     "output_type": "stream",
     "text": [
      "wandb metrics being logged:  {'train/ce_loss_token': 0.6910579945095434, 'train/perplexity_token': 1.995826005935669, 'val/ce_loss_token': 0.3911286209310804, 'val/perplexity_token': 1.4786486625671387, 'learning_rate': 0.0006918391421597988}\n",
      "\n",
      "📊 Metrics (Epoch 2800):\n",
      "├── TRAIN:\n",
      "│   ├── ce_loss_token: 0.6911\n",
      "│   └── perplexity_token: 1.9958\n",
      "└── VAL:\n",
      "    ├── ce_loss_token: 0.3911\n",
      "    └── perplexity_token: 1.4786\n",
      "└── TRAINING:\n",
      "    └── learning_rate: 0.000692\n"
     ]
    },
    {
     "name": "stderr",
     "output_type": "stream",
     "text": [
      "                                                                                      en=0.6807, lr=0.000691, perp\r"
     ]
    },
    {
     "name": "stdout",
     "output_type": "stream",
     "text": [
      "wandb metrics being logged:  {'train/ce_loss_token': 0.6807260780201333, 'train/perplexity_token': 1.9753113985061646, 'val/ce_loss_token': 0.39114671094076975, 'val/perplexity_token': 1.4786754846572876, 'learning_rate': 0.0006912485138099643}\n",
      "\n",
      "📊 Metrics (Epoch 2900):\n",
      "├── TRAIN:\n",
      "│   ├── ce_loss_token: 0.6807\n",
      "│   └── perplexity_token: 1.9753\n",
      "└── VAL:\n",
      "    ├── ce_loss_token: 0.3911\n",
      "    └── perplexity_token: 1.4787\n",
      "└── TRAINING:\n",
      "    └── learning_rate: 0.000691\n"
     ]
    },
    {
     "name": "stderr",
     "output_type": "stream",
     "text": [
      "                                                                                      en=0.6711, lr=0.000691, perp\r"
     ]
    },
    {
     "name": "stdout",
     "output_type": "stream",
     "text": [
      "wandb metrics being logged:  {'train/ce_loss_token': 0.6710772041339391, 'train/perplexity_token': 1.9563435316085815, 'val/ce_loss_token': 0.3912772834300995, 'val/perplexity_token': 1.4788684844970703, 'learning_rate': 0.0006906375227769823}\n",
      "\n",
      "📊 Metrics (Epoch 3000):\n",
      "├── TRAIN:\n",
      "│   ├── ce_loss_token: 0.6711\n",
      "│   └── perplexity_token: 1.9563\n",
      "└── VAL:\n",
      "    ├── ce_loss_token: 0.3913\n",
      "    └── perplexity_token: 1.4789\n",
      "└── TRAINING:\n",
      "    └── learning_rate: 0.000691\n"
     ]
    },
    {
     "name": "stderr",
     "output_type": "stream",
     "text": [
      "                                                                                      en=0.6                      \r"
     ]
    },
    {
     "name": "stdout",
     "output_type": "stream",
     "text": [
      "wandb metrics being logged:  {'train/ce_loss_token': 0.6620551699863176, 'train/perplexity_token': 1.9387727975845337, 'val/ce_loss_token': 0.39116337043898447, 'val/perplexity_token': 1.478700041770935, 'learning_rate': 0.0006900062055199103}\n",
      "\n",
      "📊 Metrics (Epoch 3100):\n",
      "├── TRAIN:\n",
      "│   ├── ce_loss_token: 0.6621\n",
      "│   └── perplexity_token: 1.9388\n",
      "└── VAL:\n",
      "    ├── ce_loss_token: 0.3912\n",
      "    └── perplexity_token: 1.4787\n",
      "└── TRAINING:\n",
      "    └── learning_rate: 0.000690\n"
     ]
    },
    {
     "name": "stderr",
     "output_type": "stream",
     "text": [
      "                                                                                      en=0.6\r"
     ]
    },
    {
     "name": "stdout",
     "output_type": "stream",
     "text": [
      "wandb metrics being logged:  {'train/ce_loss_token': 0.6535920765913118, 'train/perplexity_token': 1.9224339723587036, 'val/ce_loss_token': 0.39143563168389456, 'val/perplexity_token': 1.4791027307510376, 'learning_rate': 0.0006893545997107121}\n",
      "\n",
      "📊 Metrics (Epoch 3200):\n",
      "├── TRAIN:\n",
      "│   ├── ce_loss_token: 0.6536\n",
      "│   └── perplexity_token: 1.9224\n",
      "└── VAL:\n",
      "    ├── ce_loss_token: 0.3914\n",
      "    └── perplexity_token: 1.4791\n",
      "└── TRAINING:\n",
      "    └── learning_rate: 0.000689\n"
     ]
    }
   ],
   "source": [
    "trainer.model.train()\n",
    "\n",
    "trainer.train_epoch(\n",
    "    train_dataloader=train_loader,\n",
    "    val_dataloader=val_loader,\n",
    ")"
   ]
  }
 ],
 "metadata": {
  "kernelspec": {
   "display_name": "Python env",
   "language": "python",
   "name": "env"
  },
  "language_info": {
   "codemirror_mode": {
    "name": "ipython",
    "version": 3
   },
   "file_extension": ".py",
   "mimetype": "text/x-python",
   "name": "python",
   "nbconvert_exporter": "python",
   "pygments_lexer": "ipython3",
   "version": "3.8.20"
  }
 },
 "nbformat": 4,
 "nbformat_minor": 5
}
